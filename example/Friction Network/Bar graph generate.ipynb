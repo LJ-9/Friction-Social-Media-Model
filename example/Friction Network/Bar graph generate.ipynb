{
 "cells": [
  {
   "cell_type": "markdown",
   "id": "af2cacdc",
   "metadata": {},
   "source": [
    "### Create network"
   ]
  },
  {
   "cell_type": "code",
   "execution_count": 1,
   "id": "015fa848",
   "metadata": {},
   "outputs": [],
   "source": [
    "import matplotlib.pyplot as plt\n",
    "import networkx as nx\n",
    "import scipy\n",
    "import matplotlib.pyplot as plt\n",
    "import pandas as pd\n",
    "import numpy as np\n",
    "import igraph as ig\n",
    "from statistics import mean\n"
   ]
  },
  {
   "cell_type": "code",
   "execution_count": 2,
   "id": "4db222ae-c5df-49ea-b62d-e4bf3e43a308",
   "metadata": {},
   "outputs": [],
   "source": [
    "np.set_printoptions(suppress=True)\n",
    "pd.set_option('display.float_format', str)"
   ]
  },
  {
   "cell_type": "code",
   "execution_count": 3,
   "id": "f7340fa4-9f21-4ee3-abea-3a7d276f3346",
   "metadata": {},
   "outputs": [],
   "source": [
    "np.random.seed(435)\n",
    "rng = np.random.default_rng() \n",
    "import random\n",
    "random.seed(435)        # or any integer"
   ]
  },
  {
   "cell_type": "code",
   "execution_count": 4,
   "id": "54685331-666d-4eb6-9480-d68508796004",
   "metadata": {},
   "outputs": [],
   "source": [
    "def _random_subset(seq, m, rng):\n",
    "    \"\"\"Return m unique elements from seq.\n",
    "\n",
    "    This differs from random.sample which can return repeated\n",
    "    elements if seq holds repeated elements.\n",
    "\n",
    "    Note: rng is a random.Random or numpy.random.RandomState instance.\n",
    "    \"\"\"\n",
    "    targets = set()\n",
    "    \n",
    "    while len(targets) < m:\n",
    "        x = rng.choice(seq)\n",
    "        targets.add(x)\n",
    "    return targets"
   ]
  },
  {
   "cell_type": "code",
   "execution_count": 5,
   "id": "a72387f4-68e2-470a-ac49-546bb31fcb74",
   "metadata": {},
   "outputs": [
    {
     "data": {
      "text/plain": [
       "{1, 2}"
      ]
     },
     "execution_count": 5,
     "metadata": {},
     "output_type": "execute_result"
    }
   ],
   "source": [
    "_random_subset([1,2], 2,rng)"
   ]
  },
  {
   "cell_type": "code",
   "execution_count": 6,
   "id": "ad749fbc-c441-4469-9076-ae8f77eb8bcf",
   "metadata": {},
   "outputs": [],
   "source": [
    "# from networkx source code\n",
    "def barabasi_albert_graph(n, m, seed=None, initial_graph=None):\n",
    "    \"\"\"Returns a random graph using Barabási–Albert preferential attachment\n",
    "\n",
    "    A graph of $n$ nodes is grown by attaching new nodes each with $m$\n",
    "    edges that are preferentially attached to existing nodes with high degree.\n",
    "\n",
    "    Parameters\n",
    "    ----------\n",
    "    n : int\n",
    "        Number of nodes\n",
    "    m : int\n",
    "        Number of edges to attach from a new node to existing nodes\n",
    "    seed : integer, random_state, or None (default)\n",
    "        Indicator of random number generation state.\n",
    "        See :ref:`Randomness<randomness>`.\n",
    "    initial_graph : Graph or None (default)\n",
    "        Initial network for Barabási–Albert algorithm.\n",
    "        It should be a connected graph for most use cases.\n",
    "        A copy of `initial_graph` is used.\n",
    "        If None, starts from a star graph on (m+1) nodes.\n",
    "\n",
    "    Returns\n",
    "    -------\n",
    "    G : Graph\n",
    "\n",
    "    Raises\n",
    "    ------\n",
    "    NetworkXError\n",
    "        If `m` does not satisfy ``1 <= m < n``, or\n",
    "        the initial graph number of nodes m0 does not satisfy ``m <= m0 <= n``.\n",
    "\n",
    "    References\n",
    "    ----------\n",
    "    .. [1] A. L. Barabási and R. Albert \"Emergence of scaling in\n",
    "       random networks\", Science 286, pp 509-512, 1999.\n",
    "    \"\"\"\n",
    "\n",
    "    if m < 1 or m >= n:\n",
    "        raise nx.NetworkXError(\n",
    "            f\"Barabási–Albert network must have m >= 1 and m < n, m = {m}, n = {n}\"\n",
    "        )\n",
    "\n",
    "    if initial_graph is None:\n",
    "        # Default initial graph : star graph on (m + 1) nodes\n",
    "        G = nx.star_graph(m)\n",
    "    else:\n",
    "        if len(initial_graph) < m or len(initial_graph) > n:\n",
    "            raise nx.NetworkXError(\n",
    "                f\"Barabási–Albert initial graph needs between m={m} and n={n} nodes\"\n",
    "            )\n",
    "        G = initial_graph.copy()\n",
    "\n",
    "    # List of existing nodes, with nodes repeated once for each adjacent edge\n",
    "    repeated_nodes = [n for n, d in G.in_degree() for _ in range(d)]\n",
    "    # Start adding the other n - m0 nodes.\n",
    "    source = len(G)\n",
    "    while source < n:\n",
    "        # print(source)\n",
    "        # print(\"source\")\n",
    "        # Now choose m unique nodes from the existing nodes\n",
    "        # Pick uniformly from repeated_nodes (preferential attachment)\n",
    "        targets = _random_subset(repeated_nodes + list(G.nodes), m, seed) # add +list(G.nodes) so that also 0-in.degree nodes \"could\" get sampled\n",
    "        #print(repeated_nodes + list(G.nodes))\n",
    "        #print(\"targets\")\n",
    "        # Add edges to m nodes from the source.\n",
    "        G.add_edges_from(zip([source] * m, targets))\n",
    "        #print(\"add edges\")\n",
    "        # Add one node to the list for each new edge just created.\n",
    "        repeated_nodes.extend(targets)\n",
    "    \n",
    "        #print(repeated_nodes)\n",
    "        #print(\"add target nodes to repeated lists\")\n",
    "        # And the new node \"source\" has m edges to add to the list.\n",
    "        \n",
    "        # repeated_nodes.extend([source] * m) # Laura: comment out so outgoing degree is not reflected in preferential sampling from repeated nodes \n",
    "\n",
    "        source += 1\n",
    "    return G"
   ]
  },
  {
   "cell_type": "markdown",
   "id": "d708f582-767c-411e-832f-c978119fc515",
   "metadata": {},
   "source": [
    "Logic: What do we want: BA network where some nodes are more popular: meaning, they have a high in-degree. \n",
    "How we add nodes in BA: new node n connects to m nodes, starts following, or gets followed? The former makes way more sense \n",
    "So new node starts following m nodes: So there is no nodes with out-degree 0."
   ]
  },
  {
   "cell_type": "markdown",
   "id": "515e0659-7bc4-4b12-8395-f384b3c8e09c",
   "metadata": {},
   "source": [
    "### Generate a synthetic Barabsai-Albert directed network for simulation"
   ]
  },
  {
   "cell_type": "markdown",
   "id": "2fc0dd8d-580c-4682-976b-498746ba4a96",
   "metadata": {},
   "source": [
    "#### Intialize network: on clique of m size"
   ]
  },
  {
   "cell_type": "code",
   "execution_count": 7,
   "id": "b1377855-2b9f-4fa9-9893-cd68080710ee",
   "metadata": {},
   "outputs": [],
   "source": [
    "m = 3\n",
    "size = 1000"
   ]
  },
  {
   "cell_type": "code",
   "execution_count": 19,
   "id": "137fb634-cdcd-4d30-8622-b5a5ae2ea8f1",
   "metadata": {},
   "outputs": [],
   "source": [
    "# Initial network to be fed into amended BA-function\n",
    "D = nx.complete_graph(m, nx.DiGraph())\n",
    "# D.degree"
   ]
  },
  {
   "cell_type": "markdown",
   "id": "4d448cc9-6024-4888-847a-ebdafa13ef93",
   "metadata": {},
   "source": [
    "##### Generate 1000 node directed BA network"
   ]
  },
  {
   "cell_type": "code",
   "execution_count": 20,
   "id": "4c7da02a-1ea0-4a02-b561-e1dc7bb71719",
   "metadata": {},
   "outputs": [],
   "source": [
    "G = barabasi_albert_graph (size, m, rng, D)\n",
    "#nx.draw(G, with_labels=True)"
   ]
  },
  {
   "cell_type": "markdown",
   "id": "bcda3710-9229-4cd0-9d9e-9c51f7b11061",
   "metadata": {},
   "source": [
    "#### Check average clustering coefficient and avergae in/out degree, compare to empirial network (compuations further down)"
   ]
  },
  {
   "cell_type": "code",
   "execution_count": 21,
   "id": "5c88297c-8ff1-4dca-ada1-247b5b66e28c",
   "metadata": {},
   "outputs": [],
   "source": [
    "# Check avergae clustering coefficient and average out-degree\n",
    "G_edgelist = nx.generate_edgelist(G) # to create new undirected graph to compute clustering coeff "
   ]
  },
  {
   "cell_type": "code",
   "execution_count": 22,
   "id": "e43282a4-eda4-4f22-a917-691396d8243c",
   "metadata": {},
   "outputs": [],
   "source": [
    "G_undir = nx.parse_edgelist(G_edgelist)"
   ]
  },
  {
   "cell_type": "code",
   "execution_count": 23,
   "id": "4f703f8b-ecbd-48bb-a689-c3ebe0d8e1da",
   "metadata": {},
   "outputs": [],
   "source": [
    "# print(nx.transitivity(G_undir)) # Compute graph transitivity, the fraction of all possible triangles present in G. #Possible triangles are identified by the number of “triads” (two edges with a shared vertex)."
   ]
  },
  {
   "cell_type": "markdown",
   "id": "d01eb9a6-8f15-43bf-8eb4-3915a3293e46",
   "metadata": {},
   "source": [
    "##### Average clustering coefficient--Goal: 29"
   ]
  },
  {
   "cell_type": "code",
   "execution_count": 24,
   "id": "b9f7daf7-4513-43e0-80ab-d5249ad6f04a",
   "metadata": {},
   "outputs": [
    {
     "data": {
      "text/plain": [
       "'0.163563'"
      ]
     },
     "execution_count": 24,
     "metadata": {},
     "output_type": "execute_result"
    }
   ],
   "source": [
    "format(nx.average_clustering(G_undir), 'f')"
   ]
  },
  {
   "cell_type": "markdown",
   "id": "b9e06a51-fee1-420a-9ea1-4d58513e41ce",
   "metadata": {},
   "source": [
    "##### Average in/out Degree--Goal: 180"
   ]
  },
  {
   "cell_type": "code",
   "execution_count": 25,
   "id": "e8e022a9-323d-4581-b4d3-588fbdb9d47d",
   "metadata": {},
   "outputs": [
    {
     "data": {
      "text/plain": [
       "2.997"
      ]
     },
     "execution_count": 25,
     "metadata": {},
     "output_type": "execute_result"
    }
   ],
   "source": [
    "sum([d for (n, d) in G.out_degree()]) / float(G.number_of_nodes())"
   ]
  },
  {
   "cell_type": "markdown",
   "id": "c417369e-3e0f-417c-866e-a6ee1a3bed0d",
   "metadata": {},
   "source": [
    "##### In/Our Degree distribution"
   ]
  },
  {
   "cell_type": "code",
   "execution_count": 26,
   "id": "402f0b60-f541-4868-b5f5-39f605480224",
   "metadata": {},
   "outputs": [
    {
     "data": {
      "image/png": "[encoded data removed]",
      "text/plain": [
       "<Figure size 576x576 with 2 Axes>"
      ]
     },
     "metadata": {
      "needs_background": "light"
     },
     "output_type": "display_data"
    }
   ],
   "source": [
    "# In- and Out-Degree distribution\n",
    "\n",
    "in_degree_sequence = sorted((d for n, d in G.in_degree()), reverse=True)\n",
    "out_degree_sequence = sorted((d for n, d in G.out_degree()), reverse=True)\n",
    "\n",
    "dmax = max(in_degree_sequence)\n",
    "\n",
    "\n",
    "fig = plt.figure(\"In- and Out-Degree of our directed BA-graph\", figsize=(8, 8))\n",
    "# Create a gridspec for adding subplots of different sizes\n",
    "axgrid = fig.add_gridspec(5, 4)\n",
    "\n",
    "ax1 = fig.add_subplot(axgrid[3:, :2])\n",
    "ax1.bar(*np.unique(in_degree_sequence, return_counts=True))\n",
    "ax1.set_title(\"In-Degree histogram\")\n",
    "ax1.set_ylabel(\"# of Nodes\")\n",
    "ax1.set_xlabel(\"Degree\")\n",
    "\n",
    "ax2 = fig.add_subplot(axgrid[3:, 2:])\n",
    "ax2.bar(*np.unique(out_degree_sequence, return_counts=True))\n",
    "ax2.set_title(\"Out-Degree histogram\")\n",
    "ax2.set_xlabel(\"Out-Degree\")\n",
    "ax2.set_ylabel(\"# of Nodes\")\n",
    "\n",
    "fig.tight_layout()\n",
    "plt.show()"
   ]
  },
  {
   "cell_type": "code",
   "execution_count": 27,
   "id": "601dff78-6ff1-49ea-a404-1a0532e67309",
   "metadata": {},
   "outputs": [],
   "source": [
    "#F = nx.DiGraph()\n",
    "#F.add_edges_from(([1, 2],[4, 5],[6,4],[2,4],[3,2],[5,1]),color='black')\n",
    "#edges = F.edges()        \n",
    "#colors = [F[u][v]['color'] for u,v in edges]\n",
    "#nx.draw(F, with_labels=True, edge_color=colors)"
   ]
  },
  {
   "cell_type": "code",
   "execution_count": 28,
   "id": "d235207e-bb61-435a-be32-e168369cb691",
   "metadata": {},
   "outputs": [],
   "source": [
    "#F_edgelist = nx.generate_edgelist(F)\n",
    "#F_undir = nx.parse_edgelist(F_edgelist)\n",
    "#nx.average_clustering(F_undir)"
   ]
  },
  {
   "cell_type": "markdown",
   "id": "f26260ec-1276-449f-8099-fd2645d19457",
   "metadata": {},
   "source": [
    "##### Adding triadic closure"
   ]
  },
  {
   "cell_type": "code",
   "execution_count": 29,
   "id": "6642e6cf-b960-4816-81ce-b0c1a59c6783",
   "metadata": {},
   "outputs": [
    {
     "name": "stderr",
     "output_type": "stream",
     "text": [
      "/var/folders/0h/1n_j20xj2zzg446ph069f1z00000gn/T/ipykernel_1445/453741616.py:9: DeprecationWarning: Sampling from a set deprecated\n",
      "since Python 3.9 and will be removed in a subsequent version.\n",
      "  source = random.sample(G.nodes,1)[0]\n"
     ]
    }
   ],
   "source": [
    "G \n",
    "goalcoeff = .29\n",
    "G_edgelist = nx.generate_edgelist(G)\n",
    "G_undir = nx.parse_edgelist(G_edgelist)\n",
    "clustercoeff = nx.average_clustering(G_undir)\n",
    "\n",
    "while clustercoeff < goalcoeff:\n",
    "    # 0 sample source node\n",
    "    source = random.sample(G.nodes,1)[0]    \n",
    "    \n",
    "    # 1 sample 1 friend of source node\n",
    "    if G.out_degree(source) > 1:  # only edges originating from these nodes: outgoing edges: befriending\n",
    "        friend_of_source = random.sample([n for n in G.neighbors(source)],1)[0]\n",
    "    else: \n",
    "        friend_of_source = [n for n in G.neighbors(source)][0]\n",
    "    \n",
    "    # 2 sample a friend of the friend, not source\n",
    "    if G.out_degree(friend_of_source) > 1:\n",
    "        friend_of_friend = random.sample([n for n in G.neighbors(friend_of_source)],1)[0]\n",
    "    else: \n",
    "        friend_of_friend = [n for n in G.neighbors(friend_of_source)][0]\n",
    "    \n",
    "    # 3 add edge from the friend's friend to source node (if not source node chosen)\n",
    "    if source != friend_of_friend:\n",
    "        G.add_edge(source,friend_of_friend, color='r')\n",
    "    \n",
    "        G_edgelist = nx.generate_edgelist(G)\n",
    "        G_undir = nx.parse_edgelist(G_edgelist)\n",
    "        clustercoeff = nx.average_clustering(G_undir)\n"
   ]
  },
  {
   "cell_type": "code",
   "execution_count": 30,
   "id": "2b75d392-b998-445e-ba51-0a50f8a906b8",
   "metadata": {},
   "outputs": [],
   "source": [
    "#edges = G.edges()        \n",
    "#colors = [G[u][v]['color'] for u,v in edges]\n",
    "#x.draw(G, with_labels=True, edge_color=colors)"
   ]
  },
  {
   "cell_type": "code",
   "execution_count": 31,
   "id": "0782642f-0181-4996-9494-983d7c9efec2",
   "metadata": {},
   "outputs": [
    {
     "data": {
      "text/plain": [
       "0.29002779991123523"
      ]
     },
     "execution_count": 31,
     "metadata": {},
     "output_type": "execute_result"
    }
   ],
   "source": [
    "nx.average_clustering(G_undir)"
   ]
  },
  {
   "cell_type": "code",
   "execution_count": 32,
   "id": "caeabf9f-11fd-4a58-afcf-4e28ca776c75",
   "metadata": {},
   "outputs": [
    {
     "data": {
      "text/plain": [
       "3.582"
      ]
     },
     "execution_count": 32,
     "metadata": {},
     "output_type": "execute_result"
    }
   ],
   "source": [
    "sum([d for (n, d) in G.out_degree()]) / float(G.number_of_nodes())"
   ]
  },
  {
   "cell_type": "code",
   "execution_count": 33,
   "id": "f4035068-a1fe-428d-93d3-7cff160f4a03",
   "metadata": {},
   "outputs": [
    {
     "data": {
      "image/png": "[encoded data removed]",
      "text/plain": [
       "<Figure size 576x576 with 2 Axes>"
      ]
     },
     "metadata": {
      "needs_background": "light"
     },
     "output_type": "display_data"
    }
   ],
   "source": [
    "# In- and Out-Degree distribution\n",
    "\n",
    "in_degree_sequence = sorted((d for n, d in G.in_degree()), reverse=True)\n",
    "out_degree_sequence = sorted((d for n, d in G.out_degree()), reverse=True)\n",
    "\n",
    "dmax = max(in_degree_sequence)\n",
    "\n",
    "\n",
    "fig = plt.figure(\"In- and Out-Degree of our directed BA-graph\", figsize=(8, 8))\n",
    "# Create a gridspec for adding subplots of different sizes\n",
    "axgrid = fig.add_gridspec(5, 4)\n",
    "\n",
    "ax1 = fig.add_subplot(axgrid[3:, :2])\n",
    "ax1.bar(*np.unique(in_degree_sequence, return_counts=True))\n",
    "ax1.set_title(\"In-Degree histogram\")\n",
    "ax1.set_ylabel(\"# of Nodes\")\n",
    "ax1.set_xlabel(\"Degree\")\n",
    "\n",
    "ax2 = fig.add_subplot(axgrid[3:, 2:])\n",
    "ax2.bar(*np.unique(out_degree_sequence, return_counts=True))\n",
    "ax2.set_title(\"Out-Degree histogram\")\n",
    "ax2.set_xlabel(\"Out-Degree\")\n",
    "ax2.set_ylabel(\"# of Nodes\")\n",
    "\n",
    "fig.tight_layout()\n",
    "plt.show()"
   ]
  },
  {
   "cell_type": "code",
   "execution_count": null,
   "id": "ca72f6d9-d12f-42c2-a1f1-dd2c34d58768",
   "metadata": {},
   "outputs": [],
   "source": [
    "nx.write_gml(G, \"Amended_BA_Friction_m=3_n=1000_coeff=.29.gml\")"
   ]
  },
  {
   "cell_type": "raw",
   "id": "41b52ff5-02e2-4479-a99d-0d44cec872d1",
   "metadata": {},
   "source": [
    "##### Retrieve goal values/mtrics from epirical network"
   ]
  },
  {
   "cell_type": "code",
   "execution_count": 34,
   "id": "dec29459-9e27-438c-9a65-f6ba5f82d3e0",
   "metadata": {},
   "outputs": [],
   "source": [
    "Emp = nx.read_gml(\"/Users/laurajahn/Documents/Git/Follower network for marketplace/follower_network.gml\", destringizer=int)"
   ]
  },
  {
   "cell_type": "code",
   "execution_count": 35,
   "id": "db026db5-5430-411e-b9c2-c8d8f6ff6103",
   "metadata": {},
   "outputs": [],
   "source": [
    "file = \"/Users/laurajahn/Documents/Git/Follower network for marketplace/follower_network.gml\"\n",
    "def read_empirical_network(file):\n",
    "    # print('File: ', file)\n",
    "    net = ig.Graph.Read_GML(file)\n",
    "    \n",
    "    #prevent errors with duplicate attribs\n",
    "    net = _delete_unused_attributes(net, desire_attribs=['label', 'party', 'misinfo'])\n",
    "    return net \n",
    "\n",
    "def _delete_unused_attributes(net, desire_attribs=['uid','party', 'misinfo']):\n",
    "    #delete unused attribs or artifact of igraph to maintain consistency\n",
    "    for attrib in net.vs.attributes():\n",
    "        if attrib not in desire_attribs:\n",
    "            del(net.vs[attrib])\n",
    "    return net "
   ]
  },
  {
   "cell_type": "code",
   "execution_count": 36,
   "id": "a2cf5ea6-b7e6-4ac6-846a-b6c055a39e86",
   "metadata": {},
   "outputs": [],
   "source": [
    "Emp = read_empirical_network(file)"
   ]
  },
  {
   "cell_type": "code",
   "execution_count": 37,
   "id": "b4640c32-3234-4890-888d-aaabbcdb7907",
   "metadata": {},
   "outputs": [
    {
     "name": "stdout",
     "output_type": "stream",
     "text": [
      "IGRAPH D--- 10006 1809798 -- \n",
      "+ attr: label (v), misinfo (v), party (v)\n"
     ]
    }
   ],
   "source": [
    "ig.summary(Emp)"
   ]
  },
  {
   "cell_type": "code",
   "execution_count": 38,
   "id": "0c4e3d16-2075-419e-b6f4-8b25cff3df57",
   "metadata": {},
   "outputs": [
    {
     "data": {
      "text/plain": [
       "3857"
      ]
     },
     "execution_count": 38,
     "metadata": {},
     "output_type": "execute_result"
    }
   ],
   "source": [
    "max(Emp.degree())"
   ]
  },
  {
   "cell_type": "markdown",
   "id": "9bde72e9-d3e3-48b5-82f3-270592dec6c0",
   "metadata": {},
   "source": [
    "##### In- and Out Degree distribution"
   ]
  },
  {
   "cell_type": "code",
   "execution_count": 39,
   "id": "bd5450ad-9b04-4082-ab43-674d1ba29e9b",
   "metadata": {},
   "outputs": [
    {
     "data": {
      "image/png": "[encoded data removed]",
      "text/plain": [
       "<Figure size 576x576 with 2 Axes>"
      ]
     },
     "metadata": {
      "needs_background": "light"
     },
     "output_type": "display_data"
    }
   ],
   "source": [
    "fig = plt.figure(\"In- and Out-Degree\", figsize=(8, 8))\n",
    "# Create a gridspec for adding subplots of different sizes\n",
    "axgrid = fig.add_gridspec(5, 4)\n",
    "\n",
    "ax1 = fig.add_subplot(axgrid[3:, :2])\n",
    "bins = 1000\n",
    "ax1.hist(Emp.outdegree(), bins)\n",
    "ax1.set_title(\"Out-Degree\")\n",
    "ax1.set_ylabel(\"# of Nodes\")\n",
    "ax1.set_xlabel(\"Out-Degree\")\n",
    "\n",
    "ax2 = fig.add_subplot(axgrid[3:, 2:])\n",
    "ax2.hist(Emp.indegree(), bins)\n",
    "ax2.set_title(\"In-Degree histogram\")\n",
    "ax2.set_xlabel(\"In-Degree\")\n",
    "ax2.set_ylabel(\"# of Nodes\")\n",
    "\n",
    "fig.tight_layout()\n",
    "plt.show()"
   ]
  },
  {
   "cell_type": "markdown",
   "id": "f8679fe1-edea-41c5-965d-e3114dbb4a2a",
   "metadata": {},
   "source": [
    "##### Average out/in degree"
   ]
  },
  {
   "cell_type": "code",
   "execution_count": 40,
   "id": "7bf4a004-ad6c-449f-9f30-0127c879ba54",
   "metadata": {},
   "outputs": [
    {
     "data": {
      "text/plain": [
       "180.8712772336598"
      ]
     },
     "execution_count": 40,
     "metadata": {},
     "output_type": "execute_result"
    }
   ],
   "source": [
    "mean(Emp.outdegree())"
   ]
  },
  {
   "cell_type": "code",
   "execution_count": 41,
   "id": "b63bb677-08b7-4fdb-a05a-1c417811f195",
   "metadata": {},
   "outputs": [],
   "source": [
    "# treat directed emp network as undirected to calculate avergae clustering coefficient\n",
    "type(Emp)\n",
    "Emp_nx_edgelist = Emp.get_edgelist()\n",
    "Emp_nx = nx.Graph(Emp_nx_edgelist)"
   ]
  },
  {
   "cell_type": "markdown",
   "id": "6b4103ba-2238-4ce4-8ac8-c4b5d9dec845",
   "metadata": {},
   "source": [
    "##### Transitivity"
   ]
  },
  {
   "cell_type": "code",
   "execution_count": 42,
   "id": "a6c9ec87-2431-4b8b-a557-3f6aa47a90af",
   "metadata": {},
   "outputs": [
    {
     "name": "stdout",
     "output_type": "stream",
     "text": [
      "0.20350813879974466\n"
     ]
    }
   ],
   "source": [
    "# NETWORKX PACKAGE\n",
    "# print(nx.triangles(G))  # not implemented for directed type \n",
    "print(nx.transitivity(Emp_nx)) # Compute graph transitivity, the fraction of all possible triangles present in G. #Possible triangles are identified by the number of “triads” (two edges with a shared vertex)."
   ]
  },
  {
   "cell_type": "code",
   "execution_count": 43,
   "id": "cd585d77-1dc2-448d-a8f1-6217d8f669e3",
   "metadata": {},
   "outputs": [
    {
     "data": {
      "text/plain": [
       "0.20350813879974466"
      ]
     },
     "execution_count": 43,
     "metadata": {},
     "output_type": "execute_result"
    }
   ],
   "source": [
    "# IGRAPH PACKAGE\n",
    "# Transitivity (average clustering coeff) \n",
    "Emp.transitivity_undirected()"
   ]
  },
  {
   "cell_type": "markdown",
   "id": "33a34adb-ba74-4553-bf45-e81483b5fa5e",
   "metadata": {},
   "source": [
    "##### Average clustering coefficient"
   ]
  },
  {
   "cell_type": "code",
   "execution_count": 44,
   "id": "bbe9d18d-5ed3-4fad-b62d-d5414ea06275",
   "metadata": {},
   "outputs": [
    {
     "data": {
      "text/plain": [
       "'0.293209'"
      ]
     },
     "execution_count": 44,
     "metadata": {},
     "output_type": "execute_result"
    }
   ],
   "source": [
    "# NETWORKX PACKAGE\n",
    "format(nx.average_clustering(Emp_nx), 'f')"
   ]
  },
  {
   "cell_type": "markdown",
   "id": "e3f06851-5391-49af-b7e5-2adab7d322c7",
   "metadata": {},
   "source": [
    "#### Other: Triangles, ..."
   ]
  },
  {
   "cell_type": "code",
   "execution_count": 253,
   "id": "34eed209-c497-4d52-bc31-36384e63cee0",
   "metadata": {},
   "outputs": [
    {
     "name": "stdout",
     "output_type": "stream",
     "text": [
      "The Number of triangles in directed graph : 39200\n"
     ]
    }
   ],
   "source": [
    "dimat = nx.to_numpy_matrix(G,dtype=int)\n",
    "dimat = np.matrix.tolist(dimat)\n",
    "print(\"The Number of triangles in directed graph : %d\" % countTriangle(dimat, True))"
   ]
  },
  {
   "cell_type": "code",
   "execution_count": 255,
   "id": "641c1001-d343-487f-bb92-64820765efc3",
   "metadata": {},
   "outputs": [
    {
     "name": "stdout",
     "output_type": "stream",
     "text": [
      "Total number of triangles possible is 1216165\n"
     ]
    }
   ],
   "source": [
    " print(\"Total number of triangles possible is\",\n",
    "          findNumberOfTriangles(dimat, len(dimat)))"
   ]
  },
  {
   "cell_type": "code",
   "execution_count": 254,
   "id": "99711ece-1617-42ca-97c3-4e1b492ba77e",
   "metadata": {},
   "outputs": [
    {
     "name": "stdout",
     "output_type": "stream",
     "text": [
      "Total number of triangles possible is 6\n"
     ]
    }
   ],
   "source": [
    "\n",
    "# Python3 code to count the number of\n",
    "# possible triangles using brute\n",
    "# force approach\n",
    " \n",
    "# Function to count all possible\n",
    "# triangles with arr[] elements\n",
    " \n",
    " \n",
    "def findNumberOfTriangles(arr, n):\n",
    " \n",
    "    # Count of triangles\n",
    "    count = 0\n",
    " \n",
    "    # The three loops select three\n",
    "    # different values from array\n",
    "    for i in range(n):\n",
    "        for j in range(i + 1, n):\n",
    " \n",
    "            # The innermost loop checks for\n",
    "            # the triangle property\n",
    "            for k in range(j + 1, n):\n",
    " \n",
    "                # Sum of two sides is greater\n",
    "                # than the third\n",
    "                if (arr[i] + arr[j] > arr[k] and\n",
    "                    arr[i] + arr[k] > arr[j] and\n",
    "                        arr[k] + arr[j] > arr[i]):\n",
    "                    count += 1\n",
    "    return count\n",
    " \n",
    " \n",
    "# Driver code\n",
    "if __name__ == \"__main__\":\n",
    "    arr = [10, 21, 22, 100, 101, 200, 300]\n",
    "    size = len(arr)\n",
    " \n",
    "    # Function call\n",
    "    print(\"Total number of triangles possible is\",\n",
    "          findNumberOfTriangles(arr, size))"
   ]
  },
  {
   "cell_type": "code",
   "execution_count": 152,
   "id": "5b78ff12-f376-4751-bd08-161fbae034b6",
   "metadata": {},
   "outputs": [
    {
     "name": "stdout",
     "output_type": "stream",
     "text": [
      "The Number of triangles in undirected graph : 2\n",
      "The Number of triangles in directed graph : 2\n"
     ]
    }
   ],
   "source": [
    "# Python program to count triangles\n",
    "# in a graph.  The program is\n",
    "# for adjacency matrix\n",
    "# representation of the graph.\n",
    " \n",
    " \n",
    "# function to calculate the number\n",
    "# of triangles in a simple\n",
    "# directed/undirected graph.\n",
    "# isDirected is true if the graph\n",
    "# is directed, its false otherwise\n",
    "def countTriangle(g, isDirected):\n",
    "    nodes = len(g)\n",
    "    count_Triangle = 0\n",
    "     \n",
    "    # Consider every possible\n",
    "    # triplet of edges in graph\n",
    "    for i in range(nodes):\n",
    "        for j in range(nodes):\n",
    "            for k in range(nodes):\n",
    "                 \n",
    "                # check the triplet\n",
    "                # if it satisfies the condition\n",
    "                if(i != j and i != k and j != k and g[i][j] and g[j][k] and g[k][i]):\n",
    "                    count_Triangle += 1\n",
    "     \n",
    "    # If graph is directed , division is done by 3\n",
    "    # else division by 6 is done\n",
    "    if isDirected:\n",
    "      return count_Triangle//3 \n",
    "    else: return count_Triangle//6\n",
    " \n",
    " \n",
    "# Create adjacency matrix of an undirected graph\n",
    "graph = [[0, 1, 1, 0],\n",
    "         [1, 0, 1, 1],\n",
    "         [1, 1, 0, 1],\n",
    "         [0, 1, 1, 0]]\n",
    "# Create adjacency matrix of a directed graph\n",
    "digraph = [[0, 0, 1, 0],\n",
    "           [1, 0, 0, 1],\n",
    "           [0, 1, 0, 0],\n",
    "           [0, 0, 1, 0]]\n",
    " \n",
    "print(\"The Number of triangles in undirected graph : %d\" %\n",
    "      countTriangle(graph, False))\n",
    " \n",
    "print(\"The Number of triangles in directed graph : %d\" %\n",
    "      countTriangle(digraph, True))\n",
    " \n",
    "# This code is contributed by Neelam Yadav"
   ]
  },
  {
   "cell_type": "code",
   "execution_count": null,
   "id": "8a377c41-54b0-4416-b942-00df0819cb53",
   "metadata": {},
   "outputs": [],
   "source": []
  },
  {
   "cell_type": "markdown",
   "id": "e06a8ae9-82cf-4e9d-aa20-7793bed201d1",
   "metadata": {},
   "source": [
    "##### Modification: Each node should have at least out_degree 1 (=populated feed)"
   ]
  },
  {
   "cell_type": "code",
   "execution_count": null,
   "id": "b5da695f-a6dd-439c-9cff-fc57f3aa5b7c",
   "metadata": {},
   "outputs": [],
   "source": []
  },
  {
   "cell_type": "code",
   "execution_count": null,
   "id": "76ba4308-b2dd-429f-89a2-b838d59b0ddd",
   "metadata": {},
   "outputs": [],
   "source": []
  },
  {
   "cell_type": "markdown",
   "id": "810405fc-2d00-4576-ba8b-bdd55b15dbfd",
   "metadata": {},
   "source": [
    "Make sure every node receives information: \n",
    "Add outgoing edges (for incoming information) for nodes with out-degree 0: For those, choose a connected node (friend) \n",
    "and then one of their friends and draw an edge from the friend's friend to the original node, \n",
    "this way, producing triangles"
   ]
  },
  {
   "cell_type": "markdown",
   "id": "9ecb44d9-65e3-4569-af59-1c1350d53fd4",
   "metadata": {},
   "source": [
    "A (follower) --> B (friend): A follows B, A is friends with B: A sees B's post in their feed, out-degree, incoming information\n",
    "A (friend) <-- B (follower): In-degree, A is followed by B\n",
    "\n",
    "\"We assume that the follower network is directed, as in Twitter and Instagram. The direction of a link goes from the follower to the followed (friend) account, capturing attention; when a friend’s post is reshared by a follower, information spreads in the opposite direction.\"\n",
    "\n",
    "Every node has out-edges: is reachable\n",
    "Not every node has in-edges->not every node has followers --> do we want every node to have followers?\n"
   ]
  }
 ],
 "metadata": {
  "kernelspec": {
   "display_name": "Python 3 (ipykernel)",
   "language": "python",
   "name": "python3"
  },
  "language_info": {
   "codemirror_mode": {
    "name": "ipython",
    "version": 3
   },
   "file_extension": ".py",
   "mimetype": "text/x-python",
   "name": "python",
   "nbconvert_exporter": "python",
   "pygments_lexer": "ipython3",
   "version": "3.10.4"
  }
 },
 "nbformat": 4,
 "nbformat_minor": 5
}
