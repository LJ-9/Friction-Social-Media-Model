{
 "cells": [
  {
   "cell_type": "markdown",
   "metadata": {},
   "source": [
    "# Follower network\n",
    "We start from the Twitter follower network constructed for the paper [Right and left, partisanship predicts (asymmetric) vulnerability to misinformation](http://doi.org/10.37016/mr-2020-55). The following data files are available at https://doi.org/10.7910/DVN/6CZHH5:\n",
    "* `anonymized-friends.json` \n",
    "* `measures.tab`\n",
    "\n",
    "Briefly, this network was constructed as follows:\n",
    "* We collected all tweets containing links (URLs) from a 10% random sample of public posts between June 1 and June 30, 2017, through the Twitter Decahose. \n",
    "* We selected all accounts that shared at least ten links from a set of news sources with known political valence (Bakshy et al., 2015). \n",
    "* We further selected those who shared at least one link from a source labeled as low-quality (https://github.com/BigMcLargeHuge/opensources). \n",
    "* We excluded likely bot accounts according to the BotometerLite classifier (Yang et al., 2020)."
   ]
  },
  {
   "cell_type": "code",
   "execution_count": 7,
   "metadata": {},
   "outputs": [],
   "source": [
    "import networkx as nx\n",
    "import csv\n",
    "import json"
   ]
  },
  {
   "cell_type": "code",
   "execution_count": 4,
   "metadata": {},
   "outputs": [],
   "source": [
    "path = \"FollowerNetwork/\""
   ]
  },
  {
   "cell_type": "code",
   "execution_count": 19,
   "metadata": {},
   "outputs": [],
   "source": [
    "# File has 3 columns: ID \\t partisanship \\t misinformation \\n\n",
    "partisanship = {}\n",
    "misinformation = {}\n",
    "with open(path + \"measures.tab\") as fd:\n",
    "    rd = csv.reader(fd, delimiter=\"\\t\")\n",
    "    next(rd) # skip header row\n",
    "    for row in rd:\n",
    "        partisanship[int(row[0])] = row[1]\n",
    "        misinformation[int(row[0])] = row[2]"
   ]
  },
  {
   "cell_type": "code",
   "execution_count": 20,
   "metadata": {},
   "outputs": [],
   "source": [
    "with open(path + 'anonymized-friends.json') as fp:\n",
    "    adjlist = json.load(fp)"
   ]
  },
  {
   "cell_type": "code",
   "execution_count": 21,
   "metadata": {},
   "outputs": [],
   "source": [
    "G = nx.DiGraph() "
   ]
  },
  {
   "cell_type": "code",
   "execution_count": 26,
   "metadata": {},
   "outputs": [],
   "source": [
    "# Directed network follower -> friend\n",
    "for s in adjlist:\n",
    "    n = int(s)\n",
    "    if n in partisanship and n in misinformation:\n",
    "        G.add_node(n, party=partisanship[n], misinfo=misinformation[n]) \n",
    "        for f in adjlist[s]:\n",
    "            G.add_edge(n,f)"
   ]
  },
  {
   "cell_type": "code",
   "execution_count": 29,
   "metadata": {},
   "outputs": [
    {
     "name": "stdout",
     "output_type": "stream",
     "text": [
      "58048 nodes and 10499218 edges initially\n",
      "15056 nodes and 4327448 edges after filtering\n"
     ]
    }
   ],
   "source": [
    "print(\"{} nodes and {} edges initially\".format(G.number_of_nodes(), G.number_of_edges()))\n",
    "friends = nx.subgraph(G, partisanship.keys())\n",
    "print(\"{} nodes and {} edges after filtering\".format(friends.number_of_nodes(), friends.number_of_edges()))"
   ]
  },
  {
   "cell_type": "code",
   "execution_count": 30,
   "metadata": {},
   "outputs": [],
   "source": [
    "nx.write_graphml(friends, path + 'follower_network.graphml')"
   ]
  },
  {
   "cell_type": "code",
   "execution_count": null,
   "metadata": {},
   "outputs": [],
   "source": [
    "##### TAKE THE CORE K>=2?? TAKE LARGEST CONNECTED COMPONENT?? DOES IT LOOK LIKE THE ECHO CHAMBERS IN THE PAPER?"
   ]
  },
  {
   "cell_type": "code",
   "execution_count": 44,
   "metadata": {},
   "outputs": [],
   "source": [
    "# sample edges and/or core and/or giant component\n",
    "sample_p = 0.1\n",
    "friends_sample = friends.copy()\n",
    "deleted_edges = random.sample(friends_sample.edges(), int(friends_sample.number_of_edges() * (1-sample_p)))\n",
    "friends_sample.remove_edges_from(deleted_edges)"
   ]
  },
  {
   "cell_type": "code",
   "execution_count": 45,
   "metadata": {},
   "outputs": [
    {
     "name": "stdout",
     "output_type": "stream",
     "text": [
      "15056 nodes, 432745 edges\n"
     ]
    }
   ],
   "source": [
    "print(\"{} nodes, {} edges\".format(friends_sample.number_of_nodes(), friends_sample.number_of_edges()))"
   ]
  },
  {
   "cell_type": "code",
   "execution_count": 46,
   "metadata": {},
   "outputs": [],
   "source": [
    "nx.write_graphml(friends_sample, path + 'follower_network_sample.graphml')"
   ]
  }
 ],
 "metadata": {
  "kernelspec": {
   "display_name": "Python 3",
   "language": "python",
   "name": "python3"
  },
  "language_info": {
   "codemirror_mode": {
    "name": "ipython",
    "version": 3
   },
   "file_extension": ".py",
   "mimetype": "text/x-python",
   "name": "python",
   "nbconvert_exporter": "python",
   "pygments_lexer": "ipython3",
   "version": "3.8.8"
  }
 },
 "nbformat": 4,
 "nbformat_minor": 2
}
