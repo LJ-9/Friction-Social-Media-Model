{
 "cells": [
  {
   "cell_type": "markdown",
   "metadata": {},
   "source": [
    "# Follower network\n",
    "We start from the Twitter follower network constructed for the paper [Right and left, partisanship predicts (asymmetric) vulnerability to misinformation](http://doi.org/10.37016/mr-2020-55). The network data file `anonymized-friends.json` is available here: https://dataverse.harvard.edu/file.xhtml?fileId=4104386&version=1.2\n",
    "\n",
    "Briefly, this network was constructed as follows:\n",
    "* We collected all tweets containing links (URLs) from a 10% random sample of public posts between June 1 and June 30, 2017, through the Twitter Decahose. \n",
    "* We selected all accounts that shared at least ten links from a set of news sources with known political valence (Bakshy et al., 2015). \n",
    "* We further selected those who shared at least one link from a source labeled as low-quality (https://github.com/BigMcLargeHuge/opensources). \n",
    "* We excluded likely bot accounts according to the BotometerLite classifier (Yang et al., 2020)."
   ]
  },
  {
   "cell_type": "code",
   "execution_count": 34,
   "metadata": {},
   "outputs": [],
   "source": [
    "with open('anonymized-friends.json') as fp:\n",
    "    adjlist = json.load(fp)"
   ]
  },
  {
   "cell_type": "code",
   "execution_count": 35,
   "metadata": {},
   "outputs": [],
   "source": [
    "G = nx.DiGraph() "
   ]
  },
  {
   "cell_type": "code",
   "execution_count": 36,
   "metadata": {},
   "outputs": [],
   "source": [
    "### NOTE: WE WANT THIS TO BE DIRECTED FOLLOWER -> FRIEND!!\n",
    "\n",
    "### PROBLEM: WE DO NOT HAVE PARTISANSHIP AND MISINFO ATTRIBUTES FOR ANON IDs!!\n",
    "\n",
    "for s in adjlist:\n",
    "    n = int(s)\n",
    "    G.add_node(n, partisanship=partisanship[n], misinfo=misinformation[n]) \n",
    "    for f in adjlist[s]:\n",
    "        G.add_edge(n,f)"
   ]
  },
  {
   "cell_type": "code",
   "execution_count": 38,
   "metadata": {},
   "outputs": [],
   "source": [
    "nx.write_graphml(G, 'friends-with-attrs.graphml')"
   ]
  },
  {
   "cell_type": "code",
   "execution_count": 39,
   "metadata": {},
   "outputs": [
    {
     "data": {
      "text/plain": [
       "58048"
      ]
     },
     "execution_count": 39,
     "metadata": {},
     "output_type": "execute_result"
    }
   ],
   "source": [
    "G.number_of_nodes()"
   ]
  },
  {
   "cell_type": "code",
   "execution_count": 40,
   "metadata": {},
   "outputs": [],
   "source": [
    "friends = nx.subgraph(G, partisanship.keys())"
   ]
  },
  {
   "cell_type": "code",
   "execution_count": 41,
   "metadata": {},
   "outputs": [
    {
     "data": {
      "text/plain": [
       "15056"
      ]
     },
     "execution_count": 41,
     "metadata": {},
     "output_type": "execute_result"
    }
   ],
   "source": [
    "friends.number_of_nodes()"
   ]
  },
  {
   "cell_type": "code",
   "execution_count": 42,
   "metadata": {},
   "outputs": [
    {
     "data": {
      "text/plain": [
       "4327448"
      ]
     },
     "execution_count": 42,
     "metadata": {},
     "output_type": "execute_result"
    }
   ],
   "source": [
    "friends.number_of_edges()"
   ]
  },
  {
   "cell_type": "code",
   "execution_count": 44,
   "metadata": {},
   "outputs": [],
   "source": [
    "# sample edges ### DO WE NEED TO DO THIS???\n",
    "sample_p = 0.1\n",
    "friends_sample = friends.copy()\n",
    "deleted_edges = random.sample(friends_sample.edges(), int(friends_sample.number_of_edges() * (1-sample_p)))\n",
    "friends_sample.remove_edges_from(deleted_edges)"
   ]
  },
  {
   "cell_type": "code",
   "execution_count": null,
   "metadata": {},
   "outputs": [],
   "source": [
    "##### TAKE THE CORE K>=2?? TAKE LARGEST CONNECTED COMPONENT?? DOES IT LOOK LIKE THE ECHO CHAMBERS IN THE PAPER?"
   ]
  },
  {
   "cell_type": "code",
   "execution_count": 45,
   "metadata": {},
   "outputs": [
    {
     "name": "stdout",
     "output_type": "stream",
     "text": [
      "15056 nodes, 432745 edges\n"
     ]
    }
   ],
   "source": [
    "print(\"{} nodes, {} edges\".format(friends_sample.number_of_nodes(), friends_sample.number_of_edges()))"
   ]
  },
  {
   "cell_type": "code",
   "execution_count": 46,
   "metadata": {},
   "outputs": [],
   "source": [
    "nx.write_graphml(friends_sample, 'friends-sample-with-attrs.graphml')"
   ]
  }
 ],
 "metadata": {
  "kernelspec": {
   "display_name": "Python 3",
   "language": "python",
   "name": "python3"
  },
  "language_info": {
   "codemirror_mode": {
    "name": "ipython",
    "version": 3
   },
   "file_extension": ".py",
   "mimetype": "text/x-python",
   "name": "python",
   "nbconvert_exporter": "python",
   "pygments_lexer": "ipython3",
   "version": "3.8.8"
  }
 },
 "nbformat": 4,
 "nbformat_minor": 2
}
