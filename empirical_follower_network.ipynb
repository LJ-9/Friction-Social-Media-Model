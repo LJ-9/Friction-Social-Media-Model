{
 "cells": [
  {
   "cell_type": "markdown",
   "metadata": {},
   "source": [
    "# Follower network\n",
    "We start from the Twitter follower network constructed for the paper [Right and left, partisanship predicts (asymmetric) vulnerability to misinformation](http://doi.org/10.37016/mr-2020-55). The following data files are available at https://doi.org/10.7910/DVN/6CZHH5:\n",
    "* `anonymized-friends.json` \n",
    "* `measures.tab`\n",
    "\n",
    "Briefly, this network was constructed as follows:\n",
    "* We collected all tweets containing links (URLs) from a 10% random sample of public posts between June 1 and June 30, 2017, through the Twitter Decahose. \n",
    "* We selected all accounts that shared at least ten links from a set of news sources with known political valence (Bakshy et al., 2015). \n",
    "* We further selected those who shared at least one link from a source labeled as low-quality (https://github.com/BigMcLargeHuge/opensources). \n",
    "* We excluded likely bot accounts according to the BotometerLite classifier (Yang et al., 2020).\n",
    "\n",
    "We keep the nodes with both partisanship and misinformation attributes, then we take the core of the network with approximately 10k nodes, and finally remove a random sample of edges to preserve the original average in/out-degree (number of friends/followers)."
   ]
  },
  {
   "cell_type": "code",
   "execution_count": 1,
   "metadata": {
    "collapsed": true
   },
   "outputs": [],
   "source": [
    "import networkx as nx\n",
    "import csv\n",
    "import json\n",
    "import random\n",
    "import importlib\n",
    "import bot_model"
   ]
  },
  {
   "cell_type": "code",
   "execution_count": 2,
   "metadata": {
    "collapsed": true
   },
   "outputs": [],
   "source": [
    "path = \"../EmpiricalNet_followers/\""
   ]
  },
  {
   "cell_type": "code",
   "execution_count": 13,
   "metadata": {
    "collapsed": true
   },
   "outputs": [],
   "source": [
    "# File has 3 columns: ID \\t partisanship \\t misinformation \\n\n",
    "partisanship = {}\n",
    "misinformation = {}\n",
    "with open(path + \"measures.tab\") as fd:\n",
    "    rd = csv.reader(fd, delimiter=\"\\t\")\n",
    "    next(rd) # skip header row\n",
    "    for row in rd:\n",
    "        partisanship[int(row[0])] = row[1]\n",
    "        misinformation[int(row[0])] = row[2]"
   ]
  },
  {
   "cell_type": "code",
   "execution_count": 14,
   "metadata": {
    "collapsed": true
   },
   "outputs": [],
   "source": [
    "with open(path + 'anonymized-friends.json') as fp:\n",
    "    adjlist = json.load(fp)"
   ]
  },
  {
   "cell_type": "code",
   "execution_count": 15,
   "metadata": {
    "collapsed": true
   },
   "outputs": [],
   "source": [
    "G = nx.DiGraph() "
   ]
  },
  {
   "cell_type": "code",
   "execution_count": 16,
   "metadata": {
    "collapsed": true
   },
   "outputs": [],
   "source": [
    "# Directed network follower -> friend\n",
    "for s in adjlist:\n",
    "    n = int(s)\n",
    "    if n in partisanship and n in misinformation:\n",
    "        G.add_node(n, party=partisanship[n], misinfo=misinformation[n]) \n",
    "        for f in adjlist[s]:\n",
    "            G.add_edge(n,f)"
   ]
  },
  {
   "cell_type": "code",
   "execution_count": 17,
   "metadata": {
    "collapsed": false
   },
   "outputs": [
    {
     "name": "stdout",
     "output_type": "stream",
     "text": [
      "58048 nodes and 10499218 edges initially, with average number of friends 180.87131339581038\n",
      "15056 nodes and 4327448 edges after filtering\n"
     ]
    }
   ],
   "source": [
    "average_friends = G.number_of_edges() / G.number_of_nodes()\n",
    "print(\"{} nodes and {} edges initially, with average number of friends {}\".format(G.number_of_nodes(), G.number_of_edges(), average_friends))\n",
    "friends = nx.subgraph(G, partisanship.keys())\n",
    "print(\"{} nodes and {} edges after filtering\".format(friends.number_of_nodes(), friends.number_of_edges()))"
   ]
  },
  {
   "cell_type": "code",
   "execution_count": 19,
   "metadata": {
    "collapsed": false
   },
   "outputs": [
    {
     "name": "stdout",
     "output_type": "stream",
     "text": [
      "94-core has 10006 nodes, 4144687 edges\n"
     ]
    }
   ],
   "source": [
    "# k-core decomposition until ~ 10k nodes in core\n",
    "core_number = nx.core_number(friends)\n",
    "nodes = friends.number_of_nodes()\n",
    "k = 0\n",
    "while nodes > 10000:\n",
    "    k_core = nx.k_core(friends, k, core_number)\n",
    "    nodes = k_core.number_of_nodes()\n",
    "    k += 10\n",
    "while nodes < 10000:\n",
    "    k_core = nx.k_core(friends, k, core_number)\n",
    "    nodes = k_core.number_of_nodes()\n",
    "    k -= 1\n",
    "print(\"{}-core has {} nodes, {} edges\".format(k, k_core.number_of_nodes(), k_core.number_of_edges()))"
   ]
  },
  {
   "cell_type": "code",
   "execution_count": 20,
   "metadata": {
    "collapsed": false
   },
   "outputs": [
    {
     "name": "stdout",
     "output_type": "stream",
     "text": [
      "94-core after edge-sampling has 10006 nodes, 1809798 edges, and average number of friends 180.8712772336598\n"
     ]
    }
   ],
   "source": [
    "# the network is super dense, so let us delete a random sample of edges\n",
    "# we can set the initial average in/out-degree (average_friends) as a target \n",
    "friends_core = k_core.copy()\n",
    "edges_to_keep = int(friends_core.number_of_nodes() * average_friends)\n",
    "edges_to_delete = friends_core.number_of_edges() - edges_to_keep\n",
    "deleted_edges = random.sample(friends_core.edges(), edges_to_delete)\n",
    "friends_core.remove_edges_from(deleted_edges)\n",
    "print(\"{}-core after edge-sampling has {} nodes, {} edges, and average number of friends {}\".format(k, friends_core.number_of_nodes(), friends_core.number_of_edges(), friends_core.number_of_edges() / friends_core.number_of_nodes()))"
   ]
  },
  {
   "cell_type": "code",
   "execution_count": 22,
   "metadata": {
    "collapsed": true
   },
   "outputs": [],
   "source": [
    "nx.write_gml(friends_core, path + 'follower_network.gml')"
   ]
  },
  {
   "cell_type": "markdown",
   "metadata": {},
   "source": [
    "## Test"
   ]
  },
  {
   "cell_type": "code",
   "execution_count": 52,
   "metadata": {
    "collapsed": false,
    "scrolled": true
   },
   "outputs": [
    {
     "name": "stdout",
     "output_type": "stream",
     "text": [
      "Reading human network...\n",
      "Generating bot network...\n",
      "Merging human and bot networks...\n",
      "Humans following bots...\n",
      "time_steps =  0 , q =  200\n",
      "time_steps =  1 , q =  0.4801671070272221\n",
      "time_steps =  2 , q =  0.4931137924415558\n",
      "average quality for follower network: 0.49038907607976123\n"
     ]
    }
   ],
   "source": [
    "importlib.reload(bot_model)\n",
    "follower_net = bot_model.init_net(False, verbose=True, human_network = path + 'follower_network.gml', beta=0.01, gamma=0.001)\n",
    "avg_quality = bot_model.simulation(False, network=follower_net, verbose=True, mu=0.5, phi=1, alpha=15)\n",
    "print('average quality for follower network:', avg_quality)"
   ]
  },
  {
   "cell_type": "markdown",
   "metadata": {},
   "source": [
    "## Baseline"
   ]
  },
  {
   "cell_type": "code",
   "execution_count": 12,
   "metadata": {
    "collapsed": false
   },
   "outputs": [
    {
     "name": "stdout",
     "output_type": "stream",
     "text": [
      "average quality baseline: 0.4803009094579953\n"
     ]
    }
   ],
   "source": [
    "# baseline:  alpha=15, beta=0, gamma=0, phi=1, theta = 1\n",
    "\n",
    "follower_net = bot_model.init_net(False, verbose=False, human_network = path + 'follower_network.gml', beta=0.0, gamma=0.0)\n",
    "avg_quality_baseline = bot_model.simulation(False, network=follower_net, verbose=False, mu=0.5, phi=1, alpha=15)\n",
    "print('average quality baseline:', avg_quality_baseline)"
   ]
  },
  {
   "cell_type": "markdown",
   "metadata": {},
   "source": [
    "## Experiments with individual parameters\n",
    "Params: alpha (15), beta (0.01), gamma (0.001), phi (1), theta (1), network density?"
   ]
  },
  {
   "cell_type": "code",
   "execution_count": 16,
   "metadata": {
    "collapsed": false
   },
   "outputs": [
    {
     "data": {
      "text/plain": [
       "<module 'bot_model' from '/geode2/home/u030/fil/Carbonate/Xiaodan/Manipulating-Online-Marketplace-of-Ideas/bot_model.py'>"
      ]
     },
     "execution_count": 16,
     "metadata": {},
     "output_type": "execute_result"
    }
   ],
   "source": [
    "# run this when making changes to bot_model.py\n",
    "importlib.reload(bot_model)"
   ]
  },
  {
   "cell_type": "markdown",
   "metadata": {},
   "source": [
    "### Experiment: alpha (attention)"
   ]
  },
  {
   "cell_type": "code",
   "execution_count": null,
   "metadata": {
    "collapsed": true
   },
   "outputs": [],
   "source": [
    "# alpha=15 from test above\n",
    "bot_model.save_csv([15, 0.49038907607976123], csvfile = path + 'alpha.csv')\n",
    "follower_net = bot_model.init_net(False, human_network = path + 'follower_network.gml', beta=0.01, gamma=0.001)"
   ]
  },
  {
   "cell_type": "code",
   "execution_count": null,
   "metadata": {
    "collapsed": false
   },
   "outputs": [],
   "source": [
    "# note: usied epsilon 0.01 for alpha in [5, 45, 135]\n",
    "# more values with epsilon successively set to 0.001\n",
    "for alpha in [2, 4, 8, 16, 32, 64, 128]:\n",
    "    avg_quality = bot_model.simulation(False, network=follower_net, verbose=False, mu=0.5, phi=1, alpha=alpha)\n",
    "    print('alpha = {}, average quality = {}'.format(alpha, avg_quality))\n",
    "    bot_model.save_csv([alpha, avg_quality], csvfile = path + 'alpha.csv')"
   ]
  },
  {
   "cell_type": "markdown",
   "metadata": {},
   "source": [
    "### Experiment: beta (number of bots)"
   ]
  },
  {
   "cell_type": "code",
   "execution_count": null,
   "metadata": {
    "collapsed": false
   },
   "outputs": [],
   "source": [
    "# beta=0.01 from test above\n",
    "bot_model.save_csv([0.01, 0.49038907607976123], csvfile = path + 'beta.csv')\n",
    "for beta in [0.0001, 0.0002, 0.0005, 0.001, 0.002, 0.005, 0.02, 0.05, 0.1, 0.2, 0.5]:\n",
    "    follower_net = bot_model.init_net(False, human_network = path + 'follower_network.gml', beta=beta, gamma=0.001)\n",
    "    avg_quality = bot_model.simulation(False, network=follower_net, verbose=True, mu=0.5, phi=1, alpha=15)\n",
    "    print('beta = {}, average quality = {}'.format(beta, avg_quality))\n",
    "    bot_model.save_csv([beta, avg_quality], csvfile = path + 'beta.csv')"
   ]
  },
  {
   "cell_type": "markdown",
   "metadata": {},
   "source": [
    "### Experiment: gamma (infiltration)"
   ]
  },
  {
   "cell_type": "code",
   "execution_count": 14,
   "metadata": {
    "collapsed": false,
    "scrolled": true
   },
   "outputs": [
    {
     "name": "stdout",
     "output_type": "stream",
     "text": [
      "gamma = 0.0001, average quality = 0.47590118989990104\n",
      "gamma = 0.0002, average quality = 0.49110978933620475\n",
      "gamma = 0.0005, average quality = 0.47974305280211854\n",
      "gamma = 0.002, average quality = 0.47217610366333035\n",
      "gamma = 0.005, average quality = 0.4803758950970987\n",
      "gamma = 0.01, average quality = 0.44506330853745196\n",
      "gamma = 0.02, average quality = 0.4291719118666293\n",
      "gamma = 0.05, average quality = 0.3797217140462188\n",
      "gamma = 0.1, average quality = 0.3530738102542187\n",
      "gamma = 0.2, average quality = 0.30639434404347166\n",
      "gamma = 0.5, average quality = 0.20927011102314436\n"
     ]
    }
   ],
   "source": [
    "# gamma=0.001 from test above\n",
    "bot_model.save_csv([0.001, 0.49038907607976123], csvfile = path + 'gamma.csv')\n",
    "for gamma in [0.0001, 0.0002, 0.0005, 0.002, 0.005, 0.01, 0.02, 0.05, 0.1, 0.2, 0.5]:\n",
    "    follower_net = bot_model.init_net(False, human_network = path + 'follower_network.gml', beta=0.01, gamma=gamma)\n",
    "    avg_quality = bot_model.simulation(False, network=follower_net, verbose=False, mu=0.5, phi=1, alpha=15)\n",
    "    print('gamma = {}, average quality = {}'.format(gamma, avg_quality))\n",
    "    bot_model.save_csv([gamma, avg_quality], csvfile = path + 'gamma.csv')"
   ]
  },
  {
   "cell_type": "markdown",
   "metadata": {},
   "source": [
    "### Experiment: phi (deception) "
   ]
  },
  {
   "cell_type": "code",
   "execution_count": null,
   "metadata": {
    "collapsed": false,
    "scrolled": true
   },
   "outputs": [],
   "source": [
    "# phi=1 from test above\n",
    "bot_model.save_csv([1, 0.49038907607976123], csvfile = path + 'phi.csv')\n",
    "follower_net = bot_model.init_net(False, human_network = path + 'follower_network.gml', beta=0.01, gamma=0.001)\n",
    "for phi in [2,4,8,16,32]:\n",
    "    avg_quality = bot_model.simulation(False, network=follower_net, verbose=True, mu=0.5, phi=phi, alpha=15)\n",
    "    print('phi = {}, average quality = {}'.format(phi, avg_quality))\n",
    "    bot_model.save_csv([phi, avg_quality], csvfile = path + 'phi.csv')"
   ]
  },
  {
   "cell_type": "markdown",
   "metadata": {},
   "source": [
    "### Experiment: theta (flooding)\n",
    "Effect visible with larger gamma; saturation with high theta"
   ]
  },
  {
   "cell_type": "code",
   "execution_count": null,
   "metadata": {
    "collapsed": false
   },
   "outputs": [],
   "source": [
    "# theta=1 from test above\n",
    "bot_model.save_csv([1, 0.49038907607976123], csvfile = path + 'theta.csv')\n",
    "follower_net = bot_model.init_net(False, human_network = path + 'follower_network.gml', beta=0.01, gamma=0.001)\n",
    "for theta in [2,4,6,8,10,12,14]:\n",
    "    avg_quality = bot_model.simulation(False, network=follower_net, verbose=False, mu=0.5, phi=1, alpha=15, theta=theta)\n",
    "    print('theta = {}, average quality = {}'.format(theta, avg_quality))\n",
    "    bot_model.save_csv([theta, avg_quality], csvfile = path + 'theta.csv')"
   ]
  },
  {
   "cell_type": "markdown",
   "metadata": {},
   "source": [
    "## Experiments with parameter interactions\n",
    "Stronger effects observed above for gamma, phi, theta"
   ]
  },
  {
   "cell_type": "markdown",
   "metadata": {},
   "source": [
    "### Quality vs theta for increasing values of gamma"
   ]
  },
  {
   "cell_type": "code",
   "execution_count": null,
   "metadata": {
    "collapsed": true
   },
   "outputs": [],
   "source": [
    "# gamma = 0.01\n",
    "follower_net = bot_model.init_net(False, human_network = path + 'follower_network.gml', beta=0.01, gamma=0.01)\n",
    "for theta in [1,2,4,6,8,10,12,14]:\n",
    "    avg_quality = bot_model.simulation(False, network=follower_net, verbose=False, mu=0.5, phi=1, alpha=15, theta=theta)\n",
    "    print('theta = {}, average quality = {}'.format(theta, avg_quality))\n",
    "    bot_model.save_csv([theta, avg_quality], csvfile = path + 'theta_gamma0.01.csv')"
   ]
  },
  {
   "cell_type": "code",
   "execution_count": null,
   "metadata": {
    "collapsed": false
   },
   "outputs": [],
   "source": [
    "# gamma = 0.1\n",
    "follower_net = bot_model.init_net(False, human_network = path + 'follower_network.gml', beta=0.01, gamma=0.1)\n",
    "for theta in [1,2,4,6,8,10,12,14]:\n",
    "    avg_quality = bot_model.simulation(False, network=follower_net, verbose=False, mu=0.5, phi=1, alpha=15, theta=theta)\n",
    "    print('theta = {}, average quality = {}'.format(theta, avg_quality))\n",
    "    bot_model.save_csv([theta, avg_quality], csvfile = path + 'theta_gamma0.1.csv')"
   ]
  },
  {
   "cell_type": "code",
   "execution_count": 9,
   "metadata": {
    "collapsed": false
   },
   "outputs": [
    {
     "data": {
      "image/png": "[encoded data removed]",
      "text/plain": [
       "<matplotlib.figure.Figure at 0x7eff24fab080>"
      ]
     },
     "metadata": {},
     "output_type": "display_data"
    }
   ],
   "source": [
    "# PLOT AVG_Q vs THETA (flooding)\n",
    "plot_avg_quality(['theta.csv', 'theta_gamma0.01.csv', 'theta_gamma0.1.csv'], \n",
    "                 [r'$\\gamma$'+'=0.001', r'$\\gamma$'+'=0.01', r'$\\gamma$'+'=0.1'], \n",
    "                 r'$\\theta$', path='../EmpiricalNet_followers/')"
   ]
  },
  {
   "cell_type": "markdown",
   "metadata": {},
   "source": [
    "### Quality vs phi for increasing values of gamma"
   ]
  },
  {
   "cell_type": "code",
   "execution_count": 11,
   "metadata": {
    "collapsed": false,
    "scrolled": false
   },
   "outputs": [
    {
     "name": "stdout",
     "output_type": "stream",
     "text": [
      "phi = 1, average quality = 0.44981665177018326\n",
      "phi = 2, average quality = 0.3361073375808723\n",
      "phi = 4, average quality = 0.13215003763279676\n",
      "phi = 8, average quality = 0.06385999213984783\n",
      "phi = 16, average quality = 0.030989196434527445\n",
      "phi = 32, average quality = 0.015830294644505766\n"
     ]
    }
   ],
   "source": [
    "# gamma = 0.01\n",
    "follower_net = bot_model.init_net(False, human_network = path + 'follower_network.gml', beta=0.01, gamma=0.01)\n",
    "for phi in [1,2,4,8,16,32]:\n",
    "    avg_quality = bot_model.simulation(False, network=follower_net, verbose=False, mu=0.5, phi=phi, alpha=15)\n",
    "    print('phi = {}, average quality = {}'.format(phi, avg_quality))\n",
    "    bot_model.save_csv([phi, avg_quality], csvfile = path + 'phi_gamma0.01.csv')"
   ]
  },
  {
   "cell_type": "code",
   "execution_count": 13,
   "metadata": {
    "collapsed": false
   },
   "outputs": [
    {
     "name": "stdout",
     "output_type": "stream",
     "text": [
      "phi = 1, average quality = 0.37613480166509866\n",
      "phi = 2, average quality = 0.22672612588507135\n",
      "phi = 4, average quality = 0.11725136363725903\n",
      "phi = 8, average quality = 0.05538216791451913\n",
      "phi = 16, average quality = 0.028770962322284748\n",
      "phi = 32, average quality = 0.01401524488982457\n"
     ]
    }
   ],
   "source": [
    "# gamma = 0.1\n",
    "follower_net = bot_model.init_net(False, human_network = path + 'follower_network.gml', beta=0.01, gamma=0.1)\n",
    "for phi in [1,2,4,8,16,32]:\n",
    "    avg_quality = bot_model.simulation(False, network=follower_net, verbose=False, mu=0.5, phi=phi, alpha=15)\n",
    "    print('phi = {}, average quality = {}'.format(phi, avg_quality))\n",
    "    bot_model.save_csv([phi, avg_quality], csvfile = path + 'phi_gamma0.1.csv')"
   ]
  },
  {
   "cell_type": "code",
   "execution_count": 18,
   "metadata": {
    "collapsed": false,
    "scrolled": true
   },
   "outputs": [
    {
     "data": {
      "image/png": "[encoded data removed]",
      "text/plain": [
       "<matplotlib.figure.Figure at 0x7eff246cd7f0>"
      ]
     },
     "metadata": {},
     "output_type": "display_data"
    }
   ],
   "source": [
    "# PLOT AVG_Q vs PHI (deception)\n",
    "plot_avg_quality(['phi.csv', 'phi_gamma0.01.csv', 'phi_gamma0.1.csv'], \n",
    "                 [r'$\\gamma$'+'=0.001', r'$\\gamma$'+'=0.01', r'$\\gamma$'+'=0.1'], \n",
    "                 r'$\\phi$', path='../EmpiricalNet_followers/', log_flag=True)"
   ]
  },
  {
   "cell_type": "markdown",
   "metadata": {},
   "source": [
    "## Experiments with targeting\n",
    "Preferential targerting of bot followers: hubs, partisans, conservatives, misinfo spreaders, core?"
   ]
  },
  {
   "cell_type": "code",
   "execution_count": null,
   "metadata": {
    "collapsed": true
   },
   "outputs": [],
   "source": []
  },
  {
   "cell_type": "markdown",
   "metadata": {},
   "source": [
    "## Experiments with fitted params\n",
    "Fit empirical amplification and distributions, explore those parameter values"
   ]
  },
  {
   "cell_type": "code",
   "execution_count": null,
   "metadata": {
    "collapsed": true
   },
   "outputs": [],
   "source": []
  }
 ],
 "metadata": {
  "kernelspec": {
   "display_name": "Python 3",
   "language": "python",
   "name": "python3"
  },
  "language_info": {
   "codemirror_mode": {
    "name": "ipython",
    "version": 3
   },
   "file_extension": ".py",
   "mimetype": "text/x-python",
   "name": "python",
   "nbconvert_exporter": "python",
   "pygments_lexer": "ipython3",
   "version": "3.6.0"
  }
 },
 "nbformat": 4,
 "nbformat_minor": 2
}
