{
 "cells": [
  {
   "cell_type": "markdown",
   "id": "af2cacdc",
   "metadata": {},
   "source": [
    "### Create network"
   ]
  },
  {
   "cell_type": "code",
   "execution_count": 7,
   "id": "015fa848",
   "metadata": {},
   "outputs": [],
   "source": [
    "import matplotlib.pyplot as plt\n",
    "import networkx as nx\n",
    "import scipy\n",
    "import matplotlib.pyplot as plt\n",
    "import pandas as pd\n",
    "import numpy as np\n",
    "import igraph as ig\n",
    "from statistics import mean"
   ]
  },
  {
   "cell_type": "code",
   "execution_count": 8,
   "id": "4db222ae-c5df-49ea-b62d-e4bf3e43a308",
   "metadata": {},
   "outputs": [],
   "source": [
    "np.set_printoptions(suppress=True)\n",
    "pd.set_option('display.float_format', str)"
   ]
  },
  {
   "cell_type": "code",
   "execution_count": 9,
   "id": "e562f88e",
   "metadata": {},
   "outputs": [],
   "source": [
    "def _random_subset(seq, m, rng):\n",
    "    \"\"\"Return m unique elements from seq.\n",
    "\n",
    "    This differs from random.sample which can return repeated\n",
    "    elements if seq holds repeated elements.\n",
    "\n",
    "    Note: rng is a random.Random or numpy.random.RandomState instance.\n",
    "    \"\"\"\n",
    "    targets = set()\n",
    "    \n",
    "    while len(targets) < m:\n",
    "        x = rng.choice(seq)\n",
    "        targets.add(x)\n",
    "    return targets"
   ]
  },
  {
   "cell_type": "code",
   "execution_count": 10,
   "id": "f2ac588d",
   "metadata": {},
   "outputs": [],
   "source": [
    "# from networkx source code, amended\n",
    "def barabasi_albert_graph(n, m, seed=None, initial_graph=None):\n",
    "    \"\"\"Returns a random graph using Barabási–Albert preferential attachment\n",
    "\n",
    "    A graph of $n$ nodes is grown by attaching new nodes each with $m$\n",
    "    edges that are preferentially attached to existing nodes with high degree.\n",
    "\n",
    "    Parameters\n",
    "    ----------\n",
    "    n : int\n",
    "        Number of nodes\n",
    "    m : int\n",
    "        Number of edges to attach from a new node to existing nodes\n",
    "    seed : integer, random_state, or None (default)\n",
    "        Indicator of random number generation state.\n",
    "        See :ref:`Randomness<randomness>`.\n",
    "    initial_graph : Graph or None (default)\n",
    "        Initial network for Barabási–Albert algorithm.\n",
    "        It should be a connected graph for most use cases.\n",
    "        A copy of `initial_graph` is used.\n",
    "        If None, starts from a star graph on (m+1) nodes.\n",
    "\n",
    "    Returns\n",
    "    -------\n",
    "    G : Graph\n",
    "\n",
    "    Raises\n",
    "    ------\n",
    "    NetworkXError\n",
    "        If `m` does not satisfy ``1 <= m < n``, or\n",
    "        the initial graph number of nodes m0 does not satisfy ``m <= m0 <= n``.\n",
    "\n",
    "    References\n",
    "    ----------\n",
    "    .. [1] A. L. Barabási and R. Albert \"Emergence of scaling in\n",
    "       random networks\", Science 286, pp 509-512, 1999.\n",
    "    \"\"\"\n",
    "\n",
    "    if m < 1 or m >= n:\n",
    "        raise nx.NetworkXError(\n",
    "            f\"Barabási–Albert network must have m >= 1 and m < n, m = {m}, n = {n}\"\n",
    "        )\n",
    "\n",
    "    if initial_graph is None:\n",
    "        # Default initial graph : star graph on (m + 1) nodes\n",
    "        G = nx.star_graph(m)\n",
    "    else:\n",
    "        if len(initial_graph) < m or len(initial_graph) > n:\n",
    "            raise nx.NetworkXError(\n",
    "                f\"Barabási–Albert initial graph needs between m={m} and n={n} nodes\"\n",
    "            )\n",
    "        G = initial_graph.copy()\n",
    "\n",
    "    # List of existing nodes, with nodes repeated once for each adjacent edge\n",
    "    repeated_nodes = [n for n, d in G.in_degree() for _ in range(d)]\n",
    "    # Start adding the other n - m0 nodes.\n",
    "    source = len(G)\n",
    "    while source < n:\n",
    "        # print(source)\n",
    "        # print(\"source\")\n",
    "        # Now choose m unique nodes from the existing nodes\n",
    "        # Pick uniformly from repeated_nodes (preferential attachment)\n",
    "        targets = _random_subset(repeated_nodes + list(G.nodes), m, seed) # add +list(G.nodes) so that also 0-in.degree nodes \"could\" get sampled\n",
    "        #print(repeated_nodes + list(G.nodes))\n",
    "        #print(\"targets\")\n",
    "        # Add edges to m nodes from the source.\n",
    "        G.add_edges_from(zip([source] * m, targets))\n",
    "        #print(\"add edges\")\n",
    "        # Add one node to the list for each new edge just created.\n",
    "        repeated_nodes.extend(targets)\n",
    "    \n",
    "        #print(repeated_nodes)\n",
    "        #print(\"add target nodes to repeated lists\")\n",
    "        # And the new node \"source\" has m edges to add to the list.\n",
    "        \n",
    "        # repeated_nodes.extend([source] * m) # Laura: comment out so outgoing degree is not reflected in preferential sampling from repeated nodes \n",
    "\n",
    "        source += 1\n",
    "    return G"
   ]
  },
  {
   "cell_type": "markdown",
   "id": "47fb46ee",
   "metadata": {},
   "source": [
    "### Generate synthetic Barabasi-Albert directed networks for simulations"
   ]
  },
  {
   "cell_type": "code",
   "execution_count": 11,
   "id": "2bfb9d92",
   "metadata": {},
   "outputs": [
    {
     "name": "stderr",
     "output_type": "stream",
     "text": [
      "/var/folders/0h/1n_j20xj2zzg446ph069f1z00000gn/T/ipykernel_90015/1257885152.py:24: DeprecationWarning: Sampling from a set deprecated\n",
      "since Python 3.9 and will be removed in a subsequent version.\n",
      "  source = random.sample(G.nodes,1)[0]\n"
     ]
    },
    {
     "ename": "KeyboardInterrupt",
     "evalue": "",
     "output_type": "error",
     "traceback": [
      "\u001b[0;31m---------------------------------------------------------------------------\u001b[0m",
      "\u001b[0;31mKeyboardInterrupt\u001b[0m                         Traceback (most recent call last)",
      "\u001b[1;32m/Users/laurajahn/Documents/Git/Marketplace-of-ideas/Friction/data/Bar graph generate.ipynb Cell 7\u001b[0m in \u001b[0;36m<cell line: 1>\u001b[0;34m()\u001b[0m\n\u001b[1;32m     <a href='vscode-notebook-cell:/Users/laurajahn/Documents/Git/Marketplace-of-ideas/Friction/data/Bar%20graph%20generate.ipynb#W6sZmlsZQ%3D%3D?line=41'>42</a>\u001b[0m         G_edgelist \u001b[39m=\u001b[39m nx\u001b[39m.\u001b[39mgenerate_edgelist(G)\n\u001b[1;32m     <a href='vscode-notebook-cell:/Users/laurajahn/Documents/Git/Marketplace-of-ideas/Friction/data/Bar%20graph%20generate.ipynb#W6sZmlsZQ%3D%3D?line=42'>43</a>\u001b[0m         G_undir \u001b[39m=\u001b[39m nx\u001b[39m.\u001b[39mparse_edgelist(G_edgelist)\n\u001b[0;32m---> <a href='vscode-notebook-cell:/Users/laurajahn/Documents/Git/Marketplace-of-ideas/Friction/data/Bar%20graph%20generate.ipynb#W6sZmlsZQ%3D%3D?line=43'>44</a>\u001b[0m         clustercoeff \u001b[39m=\u001b[39m nx\u001b[39m.\u001b[39;49maverage_clustering(G_undir)\n\u001b[1;32m     <a href='vscode-notebook-cell:/Users/laurajahn/Documents/Git/Marketplace-of-ideas/Friction/data/Bar%20graph%20generate.ipynb#W6sZmlsZQ%3D%3D?line=45'>46</a>\u001b[0m network_name \u001b[39m=\u001b[39m \u001b[39mf\u001b[39m\u001b[39m'\u001b[39m\u001b[39mnetworks/NW_\u001b[39m\u001b[39m{\u001b[39;00mi\u001b[39m}\u001b[39;00m\u001b[39m.gml\u001b[39m\u001b[39m'\u001b[39m\n\u001b[1;32m     <a href='vscode-notebook-cell:/Users/laurajahn/Documents/Git/Marketplace-of-ideas/Friction/data/Bar%20graph%20generate.ipynb#W6sZmlsZQ%3D%3D?line=46'>47</a>\u001b[0m nx\u001b[39m.\u001b[39mwrite_gml(G, network_name)\n",
      "File \u001b[0;32m/Library/Frameworks/Python.framework/Versions/3.10/lib/python3.10/site-packages/networkx/algorithms/cluster.py:274\u001b[0m, in \u001b[0;36maverage_clustering\u001b[0;34m(G, nodes, weight, count_zeros)\u001b[0m\n\u001b[1;32m    221\u001b[0m \u001b[39mdef\u001b[39;00m \u001b[39maverage_clustering\u001b[39m(G, nodes\u001b[39m=\u001b[39m\u001b[39mNone\u001b[39;00m, weight\u001b[39m=\u001b[39m\u001b[39mNone\u001b[39;00m, count_zeros\u001b[39m=\u001b[39m\u001b[39mTrue\u001b[39;00m):\n\u001b[1;32m    222\u001b[0m     \u001b[39mr\u001b[39m\u001b[39m\"\"\"Compute the average clustering coefficient for the graph G.\u001b[39;00m\n\u001b[1;32m    223\u001b[0m \n\u001b[1;32m    224\u001b[0m \u001b[39m    The clustering coefficient for the graph is the average,\u001b[39;00m\n\u001b[0;32m   (...)\u001b[0m\n\u001b[1;32m    272\u001b[0m \u001b[39m       https://arxiv.org/abs/0802.2512\u001b[39;00m\n\u001b[1;32m    273\u001b[0m \u001b[39m    \"\"\"\u001b[39;00m\n\u001b[0;32m--> 274\u001b[0m     c \u001b[39m=\u001b[39m clustering(G, nodes, weight\u001b[39m=\u001b[39;49mweight)\u001b[39m.\u001b[39mvalues()\n\u001b[1;32m    275\u001b[0m     \u001b[39mif\u001b[39;00m \u001b[39mnot\u001b[39;00m count_zeros:\n\u001b[1;32m    276\u001b[0m         c \u001b[39m=\u001b[39m [v \u001b[39mfor\u001b[39;00m v \u001b[39min\u001b[39;00m c \u001b[39mif\u001b[39;00m \u001b[39mabs\u001b[39m(v) \u001b[39m>\u001b[39m \u001b[39m0\u001b[39m]\n",
      "File \u001b[0;32m/Library/Frameworks/Python.framework/Versions/3.10/lib/python3.10/site-packages/networkx/algorithms/cluster.py:386\u001b[0m, in \u001b[0;36mclustering\u001b[0;34m(G, nodes, weight)\u001b[0m\n\u001b[1;32m    384\u001b[0m     \u001b[39melse\u001b[39;00m:\n\u001b[1;32m    385\u001b[0m         td_iter \u001b[39m=\u001b[39m _triangles_and_degree_iter(G, nodes)\n\u001b[0;32m--> 386\u001b[0m         clusterc \u001b[39m=\u001b[39m {v: \u001b[39m0\u001b[39m \u001b[39mif\u001b[39;00m t \u001b[39m==\u001b[39m \u001b[39m0\u001b[39m \u001b[39melse\u001b[39;00m t \u001b[39m/\u001b[39m (d \u001b[39m*\u001b[39m (d \u001b[39m-\u001b[39m \u001b[39m1\u001b[39m)) \u001b[39mfor\u001b[39;00m v, d, t, _ \u001b[39min\u001b[39;00m td_iter}\n\u001b[1;32m    387\u001b[0m \u001b[39mif\u001b[39;00m nodes \u001b[39min\u001b[39;00m G:\n\u001b[1;32m    388\u001b[0m     \u001b[39m# Return the value of the sole entry in the dictionary.\u001b[39;00m\n\u001b[1;32m    389\u001b[0m     \u001b[39mreturn\u001b[39;00m clusterc[nodes]\n",
      "File \u001b[0;32m/Library/Frameworks/Python.framework/Versions/3.10/lib/python3.10/site-packages/networkx/algorithms/cluster.py:386\u001b[0m, in \u001b[0;36m<dictcomp>\u001b[0;34m(.0)\u001b[0m\n\u001b[1;32m    384\u001b[0m     \u001b[39melse\u001b[39;00m:\n\u001b[1;32m    385\u001b[0m         td_iter \u001b[39m=\u001b[39m _triangles_and_degree_iter(G, nodes)\n\u001b[0;32m--> 386\u001b[0m         clusterc \u001b[39m=\u001b[39m {v: \u001b[39m0\u001b[39m \u001b[39mif\u001b[39;00m t \u001b[39m==\u001b[39m \u001b[39m0\u001b[39m \u001b[39melse\u001b[39;00m t \u001b[39m/\u001b[39m (d \u001b[39m*\u001b[39m (d \u001b[39m-\u001b[39m \u001b[39m1\u001b[39m)) \u001b[39mfor\u001b[39;00m v, d, t, _ \u001b[39min\u001b[39;00m td_iter}\n\u001b[1;32m    387\u001b[0m \u001b[39mif\u001b[39;00m nodes \u001b[39min\u001b[39;00m G:\n\u001b[1;32m    388\u001b[0m     \u001b[39m# Return the value of the sole entry in the dictionary.\u001b[39;00m\n\u001b[1;32m    389\u001b[0m     \u001b[39mreturn\u001b[39;00m clusterc[nodes]\n",
      "File \u001b[0;32m/Library/Frameworks/Python.framework/Versions/3.10/lib/python3.10/site-packages/networkx/algorithms/cluster.py:77\u001b[0m, in \u001b[0;36m_triangles_and_degree_iter\u001b[0;34m(G, nodes)\u001b[0m\n\u001b[1;32m     75\u001b[0m \u001b[39mfor\u001b[39;00m v, v_nbrs \u001b[39min\u001b[39;00m nodes_nbrs:\n\u001b[1;32m     76\u001b[0m     vs \u001b[39m=\u001b[39m \u001b[39mset\u001b[39m(v_nbrs) \u001b[39m-\u001b[39m {v}\n\u001b[0;32m---> 77\u001b[0m     gen_degree \u001b[39m=\u001b[39m Counter(\u001b[39mlen\u001b[39;49m(vs \u001b[39m&\u001b[39;49m (\u001b[39mset\u001b[39;49m(G[w]) \u001b[39m-\u001b[39;49m {w})) \u001b[39mfor\u001b[39;49;00m w \u001b[39min\u001b[39;49;00m vs)\n\u001b[1;32m     78\u001b[0m     ntriangles \u001b[39m=\u001b[39m \u001b[39msum\u001b[39m(k \u001b[39m*\u001b[39m val \u001b[39mfor\u001b[39;00m k, val \u001b[39min\u001b[39;00m gen_degree\u001b[39m.\u001b[39mitems())\n\u001b[1;32m     79\u001b[0m     \u001b[39myield\u001b[39;00m (v, \u001b[39mlen\u001b[39m(vs), ntriangles, gen_degree)\n",
      "File \u001b[0;32m/Library/Frameworks/Python.framework/Versions/3.10/lib/python3.10/collections/__init__.py:577\u001b[0m, in \u001b[0;36mCounter.__init__\u001b[0;34m(self, iterable, **kwds)\u001b[0m\n\u001b[1;32m    566\u001b[0m \u001b[39m'''Create a new, empty Counter object.  And if given, count elements\u001b[39;00m\n\u001b[1;32m    567\u001b[0m \u001b[39mfrom an input iterable.  Or, initialize the count from another mapping\u001b[39;00m\n\u001b[1;32m    568\u001b[0m \u001b[39mof elements to their counts.\u001b[39;00m\n\u001b[0;32m   (...)\u001b[0m\n\u001b[1;32m    574\u001b[0m \n\u001b[1;32m    575\u001b[0m \u001b[39m'''\u001b[39;00m\n\u001b[1;32m    576\u001b[0m \u001b[39msuper\u001b[39m()\u001b[39m.\u001b[39m\u001b[39m__init__\u001b[39m()\n\u001b[0;32m--> 577\u001b[0m \u001b[39mself\u001b[39;49m\u001b[39m.\u001b[39;49mupdate(iterable, \u001b[39m*\u001b[39;49m\u001b[39m*\u001b[39;49mkwds)\n",
      "File \u001b[0;32m/Library/Frameworks/Python.framework/Versions/3.10/lib/python3.10/collections/__init__.py:670\u001b[0m, in \u001b[0;36mCounter.update\u001b[0;34m(self, iterable, **kwds)\u001b[0m\n\u001b[1;32m    668\u001b[0m             \u001b[39msuper\u001b[39m()\u001b[39m.\u001b[39mupdate(iterable)\n\u001b[1;32m    669\u001b[0m     \u001b[39melse\u001b[39;00m:\n\u001b[0;32m--> 670\u001b[0m         _count_elements(\u001b[39mself\u001b[39;49m, iterable)\n\u001b[1;32m    671\u001b[0m \u001b[39mif\u001b[39;00m kwds:\n\u001b[1;32m    672\u001b[0m     \u001b[39mself\u001b[39m\u001b[39m.\u001b[39mupdate(kwds)\n",
      "File \u001b[0;32m/Library/Frameworks/Python.framework/Versions/3.10/lib/python3.10/site-packages/networkx/algorithms/cluster.py:77\u001b[0m, in \u001b[0;36m<genexpr>\u001b[0;34m(.0)\u001b[0m\n\u001b[1;32m     75\u001b[0m \u001b[39mfor\u001b[39;00m v, v_nbrs \u001b[39min\u001b[39;00m nodes_nbrs:\n\u001b[1;32m     76\u001b[0m     vs \u001b[39m=\u001b[39m \u001b[39mset\u001b[39m(v_nbrs) \u001b[39m-\u001b[39m {v}\n\u001b[0;32m---> 77\u001b[0m     gen_degree \u001b[39m=\u001b[39m Counter(\u001b[39mlen\u001b[39m(vs \u001b[39m&\u001b[39m (\u001b[39mset\u001b[39;49m(G[w]) \u001b[39m-\u001b[39m {w})) \u001b[39mfor\u001b[39;00m w \u001b[39min\u001b[39;00m vs)\n\u001b[1;32m     78\u001b[0m     ntriangles \u001b[39m=\u001b[39m \u001b[39msum\u001b[39m(k \u001b[39m*\u001b[39m val \u001b[39mfor\u001b[39;00m k, val \u001b[39min\u001b[39;00m gen_degree\u001b[39m.\u001b[39mitems())\n\u001b[1;32m     79\u001b[0m     \u001b[39myield\u001b[39;00m (v, \u001b[39mlen\u001b[39m(vs), ntriangles, gen_degree)\n",
      "File \u001b[0;32m/Library/Frameworks/Python.framework/Versions/3.10/lib/python3.10/site-packages/networkx/classes/coreviews.py:50\u001b[0m, in \u001b[0;36mAtlasView.__iter__\u001b[0;34m(self)\u001b[0m\n\u001b[1;32m     47\u001b[0m \u001b[39mdef\u001b[39;00m \u001b[39m__len__\u001b[39m(\u001b[39mself\u001b[39m):\n\u001b[1;32m     48\u001b[0m     \u001b[39mreturn\u001b[39;00m \u001b[39mlen\u001b[39m(\u001b[39mself\u001b[39m\u001b[39m.\u001b[39m_atlas)\n\u001b[0;32m---> 50\u001b[0m \u001b[39mdef\u001b[39;00m \u001b[39m__iter__\u001b[39m(\u001b[39mself\u001b[39m):\n\u001b[1;32m     51\u001b[0m     \u001b[39mreturn\u001b[39;00m \u001b[39miter\u001b[39m(\u001b[39mself\u001b[39m\u001b[39m.\u001b[39m_atlas)\n\u001b[1;32m     53\u001b[0m \u001b[39mdef\u001b[39;00m \u001b[39m__getitem__\u001b[39m(\u001b[39mself\u001b[39m, key):\n",
      "\u001b[0;31mKeyboardInterrupt\u001b[0m: "
     ]
    }
   ],
   "source": [
    "for i in list(range(0,5000,1)):\n",
    "    np.random.seed(i)\n",
    "    rng = np.random.default_rng() \n",
    "    import random\n",
    "    random.seed(i)        # or any integer\n",
    "    \n",
    "    m = 3\n",
    "    size = 1000 # number of nodes   \n",
    "\n",
    "    # Initial network to be fed into amended BA-function\n",
    "    D = nx.complete_graph(m, nx.DiGraph())\n",
    "    # D.degree\n",
    "    G = barabasi_albert_graph (size, m, rng, D)\n",
    "    #nx.draw(G, with_labels=True)   \n",
    "    # Check avergae clustering coefficient and average out-degree\n",
    "    G_edgelist = nx.generate_edgelist(G) # to create new undirected graph to compute clustering coeff \n",
    "    G_undir = nx.parse_edgelist(G_edgelist)\n",
    "\n",
    "    goalcoeff = .29 # retrieved from empirical data, see below\n",
    "    clustercoeff = nx.average_clustering(G_undir)\n",
    "\n",
    "    while clustercoeff < goalcoeff:\n",
    "        # 0 sample source node\n",
    "        source = random.sample(G.nodes,1)[0]    \n",
    "        \n",
    "        # 1 sample 1 friend of source node\n",
    "        if G.out_degree(source) > 1:  # only edges originating from these nodes: outgoing edges: befriending\n",
    "            friend_of_source = random.sample([n for n in G.neighbors(source)],1)[0]\n",
    "        else: \n",
    "            friend_of_source = [n for n in G.neighbors(source)][0]\n",
    "        \n",
    "        # 2 sample a friend of the friend, not source\n",
    "        if G.out_degree(friend_of_source) > 1:\n",
    "            friend_of_friend = random.sample([n for n in G.neighbors(friend_of_source)],1)[0]\n",
    "        else: \n",
    "            friend_of_friend = [n for n in G.neighbors(friend_of_source)][0]\n",
    "        \n",
    "        # 3 add edge from the friend's friend to source node (if not source node chosen)\n",
    "        if source != friend_of_friend:\n",
    "            G.add_edge(source,friend_of_friend, color='r')\n",
    "        \n",
    "            G_edgelist = nx.generate_edgelist(G)\n",
    "            G_undir = nx.parse_edgelist(G_edgelist)\n",
    "            clustercoeff = nx.average_clustering(G_undir)\n",
    "    \n",
    "    network_name = f'networks/NW_{i}.gml'\n",
    "    nx.write_gml(G, network_name)\n",
    "        "
   ]
  },
  {
   "cell_type": "markdown",
   "id": "c417369e-3e0f-417c-866e-a6ee1a3bed0d",
   "metadata": {},
   "source": [
    "##### In/Out Degree distribution"
   ]
  },
  {
   "cell_type": "code",
   "execution_count": 36,
   "id": "402f0b60-f541-4868-b5f5-39f605480224",
   "metadata": {},
   "outputs": [
    {
     "data": {
      "image/png": "[encoded data removed]",
      "text/plain": [
       "<Figure size 576x576 with 2 Axes>"
      ]
     },
     "metadata": {
      "needs_background": "light"
     },
     "output_type": "display_data"
    }
   ],
   "source": [
    "# In- and Out-Degree distribution\n",
    "\n",
    "in_degree_sequence = sorted((d for n, d in G.in_degree()), reverse=True)\n",
    "out_degree_sequence = sorted((d for n, d in G.out_degree()), reverse=True)\n",
    "\n",
    "dmax = max(in_degree_sequence)\n",
    "\n",
    "\n",
    "fig = plt.figure(\"In- and Out-Degree of our directed BA-graph\", figsize=(8, 8))\n",
    "# Create a gridspec for adding subplots of different sizes\n",
    "axgrid = fig.add_gridspec(5, 4)\n",
    "\n",
    "ax1 = fig.add_subplot(axgrid[3:, :2])\n",
    "ax1.bar(*np.unique(in_degree_sequence, return_counts=True))\n",
    "ax1.set_title(\"In-Degree histogram\")\n",
    "ax1.set_ylabel(\"# of Nodes\")\n",
    "ax1.set_xlabel(\"Degree\")\n",
    "\n",
    "ax2 = fig.add_subplot(axgrid[3:, 2:])\n",
    "ax2.bar(*np.unique(out_degree_sequence, return_counts=True))\n",
    "ax2.set_title(\"Out-Degree histogram\")\n",
    "ax2.set_xlabel(\"Out-Degree\")\n",
    "ax2.set_ylabel(\"# of Nodes\")\n",
    "\n",
    "fig.tight_layout()\n",
    "plt.show()"
   ]
  },
  {
   "cell_type": "code",
   "execution_count": 16,
   "id": "601dff78-6ff1-49ea-a404-1a0532e67309",
   "metadata": {},
   "outputs": [],
   "source": [
    "#F = nx.DiGraph()\n",
    "#F.add_edges_from(([1, 2],[4, 5],[6,4],[2,4],[3,2],[5,1]),color='black')\n",
    "#edges = F.edges()        \n",
    "#colors = [F[u][v]['color'] for u,v in edges]\n",
    "#nx.draw(F, with_labels=True, edge_color=colors)"
   ]
  },
  {
   "cell_type": "code",
   "execution_count": 17,
   "id": "d235207e-bb61-435a-be32-e168369cb691",
   "metadata": {},
   "outputs": [],
   "source": [
    "#F_edgelist = nx.generate_edgelist(F)\n",
    "#F_undir = nx.parse_edgelist(F_edgelist)\n",
    "#nx.average_clustering(F_undir)"
   ]
  },
  {
   "cell_type": "code",
   "execution_count": 30,
   "id": "2b75d392-b998-445e-ba51-0a50f8a906b8",
   "metadata": {},
   "outputs": [],
   "source": [
    "#edges = G.edges()        \n",
    "#colors = [G[u][v]['color'] for u,v in edges]\n",
    "#x.draw(G, with_labels=True, edge_color=colors)"
   ]
  },
  {
   "cell_type": "code",
   "execution_count": 37,
   "id": "0782642f-0181-4996-9494-983d7c9efec2",
   "metadata": {},
   "outputs": [
    {
     "data": {
      "text/plain": [
       "0.29024197325515416"
      ]
     },
     "execution_count": 37,
     "metadata": {},
     "output_type": "execute_result"
    }
   ],
   "source": [
    "nx.average_clustering(G_undir)"
   ]
  },
  {
   "cell_type": "code",
   "execution_count": 38,
   "id": "caeabf9f-11fd-4a58-afcf-4e28ca776c75",
   "metadata": {},
   "outputs": [
    {
     "data": {
      "text/plain": [
       "3.971"
      ]
     },
     "execution_count": 38,
     "metadata": {},
     "output_type": "execute_result"
    }
   ],
   "source": [
    "sum([d for (n, d) in G.out_degree()]) / float(G.number_of_nodes())"
   ]
  },
  {
   "cell_type": "code",
   "execution_count": 39,
   "id": "f4035068-a1fe-428d-93d3-7cff160f4a03",
   "metadata": {},
   "outputs": [
    {
     "data": {
      "image/png": "[encoded data removed]",
      "text/plain": [
       "<Figure size 576x576 with 2 Axes>"
      ]
     },
     "metadata": {
      "needs_background": "light"
     },
     "output_type": "display_data"
    }
   ],
   "source": [
    "# In- and Out-Degree distribution\n",
    "\n",
    "in_degree_sequence = sorted((d for n, d in G.in_degree()), reverse=True)\n",
    "out_degree_sequence = sorted((d for n, d in G.out_degree()), reverse=True)\n",
    "\n",
    "dmax = max(in_degree_sequence)\n",
    "\n",
    "\n",
    "fig = plt.figure(\"In- and Out-Degree of our directed BA-graph\", figsize=(8, 8))\n",
    "# Create a gridspec for adding subplots of different sizes\n",
    "axgrid = fig.add_gridspec(5, 4)\n",
    "\n",
    "ax1 = fig.add_subplot(axgrid[3:, :2])\n",
    "ax1.bar(*np.unique(in_degree_sequence, return_counts=True))\n",
    "ax1.set_title(\"In-Degree histogram\")\n",
    "ax1.set_ylabel(\"# of Nodes\")\n",
    "ax1.set_xlabel(\"Degree\")\n",
    "\n",
    "ax2 = fig.add_subplot(axgrid[3:, 2:])\n",
    "ax2.bar(*np.unique(out_degree_sequence, return_counts=True))\n",
    "ax2.set_title(\"Out-Degree histogram\")\n",
    "ax2.set_xlabel(\"Out-Degree\")\n",
    "ax2.set_ylabel(\"# of Nodes\")\n",
    "\n",
    "fig.tight_layout()\n",
    "plt.show()"
   ]
  },
  {
   "cell_type": "code",
   "execution_count": 40,
   "id": "d2f95cb0-4fc2-4c0c-afb1-e979af5f41c0",
   "metadata": {},
   "outputs": [
    {
     "data": {
      "text/plain": [
       "0.003974974974974975"
      ]
     },
     "execution_count": 40,
     "metadata": {},
     "output_type": "execute_result"
    }
   ],
   "source": [
    "# Density of network\n",
    "nx.density(G)"
   ]
  },
  {
   "cell_type": "markdown",
   "id": "4fc2161c",
   "metadata": {},
   "source": [
    "##### Retrieve goal values/metrics from epirical network"
   ]
  },
  {
   "cell_type": "code",
   "execution_count": 34,
   "id": "dec29459-9e27-438c-9a65-f6ba5f82d3e0",
   "metadata": {},
   "outputs": [],
   "source": [
    "Emp = nx.read_gml(\"/Users/laurajahn/Documents/Git/Follower network for marketplace/follower_network.gml\", destringizer=int)"
   ]
  },
  {
   "cell_type": "code",
   "execution_count": 35,
   "id": "db026db5-5430-411e-b9c2-c8d8f6ff6103",
   "metadata": {},
   "outputs": [],
   "source": [
    "file = \"/Users/laurajahn/Documents/Git/Follower network for marketplace/follower_network.gml\"\n",
    "def read_empirical_network(file):\n",
    "    # print('File: ', file)\n",
    "    net = ig.Graph.Read_GML(file)\n",
    "    \n",
    "    #prevent errors with duplicate attribs\n",
    "    net = _delete_unused_attributes(net, desire_attribs=['label', 'party', 'misinfo'])\n",
    "    return net \n",
    "\n",
    "def _delete_unused_attributes(net, desire_attribs=['uid','party', 'misinfo']):\n",
    "    #delete unused attribs or artifact of igraph to maintain consistency\n",
    "    for attrib in net.vs.attributes():\n",
    "        if attrib not in desire_attribs:\n",
    "            del(net.vs[attrib])\n",
    "    return net "
   ]
  },
  {
   "cell_type": "code",
   "execution_count": 36,
   "id": "a2cf5ea6-b7e6-4ac6-846a-b6c055a39e86",
   "metadata": {},
   "outputs": [],
   "source": [
    "Emp = read_empirical_network(file)"
   ]
  },
  {
   "cell_type": "code",
   "execution_count": 37,
   "id": "b4640c32-3234-4890-888d-aaabbcdb7907",
   "metadata": {},
   "outputs": [
    {
     "name": "stdout",
     "output_type": "stream",
     "text": [
      "IGRAPH D--- 10006 1809798 -- \n",
      "+ attr: label (v), misinfo (v), party (v)\n"
     ]
    }
   ],
   "source": [
    "ig.summary(Emp)"
   ]
  },
  {
   "cell_type": "code",
   "execution_count": 38,
   "id": "0c4e3d16-2075-419e-b6f4-8b25cff3df57",
   "metadata": {},
   "outputs": [
    {
     "data": {
      "text/plain": [
       "3857"
      ]
     },
     "execution_count": 38,
     "metadata": {},
     "output_type": "execute_result"
    }
   ],
   "source": [
    "max(Emp.degree())"
   ]
  },
  {
   "cell_type": "markdown",
   "id": "9bde72e9-d3e3-48b5-82f3-270592dec6c0",
   "metadata": {},
   "source": [
    "##### In- and Out Degree distribution"
   ]
  },
  {
   "cell_type": "code",
   "execution_count": 39,
   "id": "bd5450ad-9b04-4082-ab43-674d1ba29e9b",
   "metadata": {},
   "outputs": [
    {
     "data": {
      "image/png": "[encoded data removed]",
      "text/plain": [
       "<Figure size 576x576 with 2 Axes>"
      ]
     },
     "metadata": {
      "needs_background": "light"
     },
     "output_type": "display_data"
    }
   ],
   "source": [
    "fig = plt.figure(\"In- and Out-Degree\", figsize=(8, 8))\n",
    "# Create a gridspec for adding subplots of different sizes\n",
    "axgrid = fig.add_gridspec(5, 4)\n",
    "\n",
    "ax1 = fig.add_subplot(axgrid[3:, :2])\n",
    "bins = 1000\n",
    "ax1.hist(Emp.outdegree(), bins)\n",
    "ax1.set_title(\"Out-Degree\")\n",
    "ax1.set_ylabel(\"# of Nodes\")\n",
    "ax1.set_xlabel(\"Out-Degree\")\n",
    "\n",
    "ax2 = fig.add_subplot(axgrid[3:, 2:])\n",
    "ax2.hist(Emp.indegree(), bins)\n",
    "ax2.set_title(\"In-Degree histogram\")\n",
    "ax2.set_xlabel(\"In-Degree\")\n",
    "ax2.set_ylabel(\"# of Nodes\")\n",
    "\n",
    "fig.tight_layout()\n",
    "plt.show()"
   ]
  },
  {
   "cell_type": "markdown",
   "id": "f8679fe1-edea-41c5-965d-e3114dbb4a2a",
   "metadata": {},
   "source": [
    "##### Average out/in degree"
   ]
  },
  {
   "cell_type": "code",
   "execution_count": 40,
   "id": "7bf4a004-ad6c-449f-9f30-0127c879ba54",
   "metadata": {},
   "outputs": [
    {
     "data": {
      "text/plain": [
       "180.8712772336598"
      ]
     },
     "execution_count": 40,
     "metadata": {},
     "output_type": "execute_result"
    }
   ],
   "source": [
    "mean(Emp.outdegree())"
   ]
  },
  {
   "cell_type": "code",
   "execution_count": 41,
   "id": "b63bb677-08b7-4fdb-a05a-1c417811f195",
   "metadata": {},
   "outputs": [],
   "source": [
    "# treat directed emp network as undirected to calculate avergae clustering coefficient\n",
    "type(Emp)\n",
    "Emp_nx_edgelist = Emp.get_edgelist()\n",
    "Emp_nx = nx.Graph(Emp_nx_edgelist)"
   ]
  },
  {
   "cell_type": "markdown",
   "id": "6b4103ba-2238-4ce4-8ac8-c4b5d9dec845",
   "metadata": {},
   "source": [
    "##### Transitivity"
   ]
  },
  {
   "cell_type": "code",
   "execution_count": 42,
   "id": "a6c9ec87-2431-4b8b-a557-3f6aa47a90af",
   "metadata": {},
   "outputs": [
    {
     "name": "stdout",
     "output_type": "stream",
     "text": [
      "0.20350813879974466\n"
     ]
    }
   ],
   "source": [
    "# NETWORKX PACKAGE\n",
    "# print(nx.triangles(G))  # not implemented for directed type \n",
    "print(nx.transitivity(Emp_nx)) # Compute graph transitivity, the fraction of all possible triangles present in G. #Possible triangles are identified by the number of “triads” (two edges with a shared vertex)."
   ]
  },
  {
   "cell_type": "code",
   "execution_count": 43,
   "id": "cd585d77-1dc2-448d-a8f1-6217d8f669e3",
   "metadata": {},
   "outputs": [
    {
     "data": {
      "text/plain": [
       "0.20350813879974466"
      ]
     },
     "execution_count": 43,
     "metadata": {},
     "output_type": "execute_result"
    }
   ],
   "source": [
    "# IGRAPH PACKAGE\n",
    "# Transitivity (average clustering coeff) \n",
    "Emp.transitivity_undirected()"
   ]
  },
  {
   "cell_type": "markdown",
   "id": "33a34adb-ba74-4553-bf45-e81483b5fa5e",
   "metadata": {},
   "source": [
    "##### Average clustering coefficient"
   ]
  },
  {
   "cell_type": "code",
   "execution_count": 44,
   "id": "bbe9d18d-5ed3-4fad-b62d-d5414ea06275",
   "metadata": {},
   "outputs": [
    {
     "data": {
      "text/plain": [
       "'0.293209'"
      ]
     },
     "execution_count": 44,
     "metadata": {},
     "output_type": "execute_result"
    }
   ],
   "source": [
    "# NETWORKX PACKAGE\n",
    "format(nx.average_clustering(Emp_nx), 'f')"
   ]
  }
 ],
 "metadata": {
  "kernelspec": {
   "display_name": "Python 3.10.4 64-bit",
   "language": "python",
   "name": "python3"
  },
  "language_info": {
   "codemirror_mode": {
    "name": "ipython",
    "version": 3
   },
   "file_extension": ".py",
   "mimetype": "text/x-python",
   "name": "python",
   "nbconvert_exporter": "python",
   "pygments_lexer": "ipython3",
   "version": "3.10.4"
  },
  "vscode": {
   "interpreter": {
    "hash": "aee8b7b246df8f9039afb4144a1f6fd8d2ca17a180786b69acc140d282b71a49"
   }
  }
 },
 "nbformat": 4,
 "nbformat_minor": 5
}
