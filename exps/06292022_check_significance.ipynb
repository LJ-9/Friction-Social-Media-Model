{
 "cells": [
  {
   "cell_type": "code",
   "execution_count": 1,
   "id": "5bca2b83",
   "metadata": {},
   "outputs": [],
   "source": [
    "import json\n",
    "import infosys.utils as utils \n",
    "import igraph as ig\n",
    "import os\n",
    "import collections\n",
    "import matplotlib.pyplot as plt\n",
    "import numpy as np\n",
    "import seaborn as sns\n",
    "import pickle as pkl\n",
    "import collections\n",
    "import sys"
   ]
  },
  {
   "cell_type": "code",
   "execution_count": 2,
   "id": "7b76644f",
   "metadata": {},
   "outputs": [],
   "source": [
    "def get_exp_network_map(config_fname):\n",
    "    exp_configs = json.load(open(config_fname,'r'))\n",
    "    EXPS = list(exp_configs['vary_thetaphi'].keys()) #keys are name of exp, format: '{targeting}_{thetaidx}{phiidx}' \n",
    "\n",
    "    # map available network in `vary_targetgamma` corresponding with the exp\n",
    "    # networks from `vary_targetgamma` has format: '{targeting}{gamma}'\n",
    "    GAMMA = [0.0001, 0.0002, 0.0005, 0.001, 0.002, 0.005, 0.02, 0.05, 0.1, 0.2, 0.5]\n",
    "    TARGETING = [None, 'hubs', 'partisanship', 'conservative', 'liberal', 'misinformation']\n",
    "\n",
    "    EXP_NETWORK = {}\n",
    "\n",
    "    gamma = 0.1 # gamma in the range where targeting has some effect\n",
    "    # need to match with default_targeting\n",
    "    for exp in EXPS:\n",
    "        if 'none' in exp:\n",
    "            networkname = '%s%s' %(TARGETING.index(None), GAMMA.index(gamma))\n",
    "        else: \n",
    "            networkname = '%s%s' %(TARGETING.index(exp.split('_')[0]), GAMMA.index(gamma) )\n",
    "        EXP_NETWORK[exp] = networkname\n",
    "\n",
    "    return EXP_NETWORK"
   ]
  },
  {
   "cell_type": "code",
   "execution_count": 3,
   "id": "d676fcdf",
   "metadata": {},
   "outputs": [],
   "source": [
    "def info_memeshares_channel_indegs(G, verbose, deg_mode='in'):\n",
    "    # Helper: Scatter plot of number of shares vs indeg of spreading channel (for junk memes)\n",
    "    # return a dict of information to calculate: \n",
    "    # % of memes spread only by bot; num shares, indeg of nodes spreading each meme\n",
    "    # (Stats across simulation)\n",
    "\n",
    "    info = collections.defaultdict(lambda:[])\n",
    "    keys= ['num_humans', 'num_bots', 'human_spread_only_viabot', 'bot_spread_only_viabot']\n",
    "    for k in keys:\n",
    "        info[k] = 0\n",
    "\n",
    "    human_agents = [int(node['id']) for node in G.vs if node['bot']==0]\n",
    "\n",
    "    for meme in verbose['all_memes'][0]: #since verbose['all_memes'] is a list over multiple simulations\n",
    "        spread_through = [int(node) for node in meme['spread_via_agents']]\n",
    "        human_channels = set(human_agents) & set(spread_through)\n",
    "\n",
    "        if len(human_channels)>0:\n",
    "            indegs = G.degree(list(human_channels), mode=deg_mode, loops=False)\n",
    "            largest_indeg = max(indegs)\n",
    "            \n",
    "            if meme['is_by_bot']==1:\n",
    "                info['num_bots']+=1\n",
    "                info['bot_largest_spreading_nodes'] += [largest_indeg]  \n",
    "                info['botmeme_shares'] += [meme['human_shares']]\n",
    "                info['botmeme_fitness'] += [meme['fitness']]\n",
    "            else:\n",
    "                info['num_humans']+=1\n",
    "                info['human_largest_spreading_nodes'] += [largest_indeg]\n",
    "                info['humanmeme_shares'] += [meme['human_shares']]\n",
    "                info['humanmeme_fitness'] += [meme['fitness']]\n",
    "                info['humanmeme_quality'] += [meme['quality']]\n",
    "        else:\n",
    "            if meme['is_by_bot']==1:\n",
    "                info['bot_spread_only_viabot']+=1\n",
    "            else:\n",
    "                info['human_spread_only_viabot']+=1\n",
    "        \n",
    "    return info"
   ]
  },
  {
   "cell_type": "code",
   "execution_count": 4,
   "id": "9ae926fa",
   "metadata": {},
   "outputs": [],
   "source": [
    "ABS_PATH = '/N/slate/baotruon/marketplace'\n",
    "DATA_PATH = '/N/slate/baotruon/marketplace/data'\n",
    "\n",
    "config_fname= os.path.join(DATA_PATH, 'all_configs.json')\n",
    "exp2network = get_exp_network_map(config_fname)\n",
    "\n",
    "# CHANGE THESE VARS FOR OTHER INFILTRATION VALUES\n",
    "exp = 'vary_thetaphi_1runs_gamma0.005'\n",
    "hub_expname='hubs_22'\n",
    "none_expname='none_22'\n",
    "\n",
    "RES_DIR = os.path.join(ABS_PATH,'results', exp)\n",
    "TRACKING_DIR = os.path.join(ABS_PATH,'long_results',exp)\n",
    "NETWORK_PATH = os.path.join(DATA_PATH, 'igraph/vary_targetgamma')\n",
    "\n",
    "hub_network = os.path.join(NETWORK_PATH, \"network_%s.gml\" %exp2network[hub_expname])\n",
    "hub_verbose = utils.read_json_compressed(os.path.join(TRACKING_DIR,'%s.json.gz' %hub_expname))\n",
    "hub_graph = ig.Graph.Read_GML(hub_network)\n",
    "\n",
    "none_network = os.path.join(NETWORK_PATH, \"network_%s.gml\" %exp2network[none_expname])\n",
    "none_verbose = utils.read_json_compressed(os.path.join(TRACKING_DIR,'%s.json.gz' %none_expname))\n",
    "none_graph = ig.Graph.Read_GML(none_network)\n",
    "\n",
    "\n",
    "hubstrag_info = info_memeshares_channel_indegs(hub_graph, hub_verbose, deg_mode='in')\n",
    "nostrag_info =  info_memeshares_channel_indegs(none_graph, none_verbose, deg_mode='in')"
   ]
  },
  {
   "cell_type": "markdown",
   "id": "1c34f968",
   "metadata": {},
   "source": [
    "## Check significance of dist. of shares (bot memes) between 2 strategy"
   ]
  },
  {
   "cell_type": "code",
   "execution_count": 5,
   "id": "82e3b6d8",
   "metadata": {},
   "outputs": [],
   "source": [
    "def ccdf_share_between_strategies(nostrag_botshares, strag_botshares, plot_fpath=None, log_log=True):\n",
    "    # CCDF of shares of bot memes - 2 lines (none & hubs-targeting)\n",
    "\n",
    "    figure, ax = plt.subplots()\n",
    "\n",
    "    if log_log is True:\n",
    "        ax.set_xscale('log')\n",
    "        ax.set_yscale('log')\n",
    "    \n",
    "    sns.ecdfplot(ax=ax, data = nostrag_botshares, complementary=True, label = 'no targeting')\n",
    "    sns.ecdfplot(ax=ax, data = strag_botshares, complementary=True, label = 'hub targeting')\n",
    "    ax.set_xlabel('Number of shares')\n",
    "    ax.legend()\n",
    "    ax.set_title('CCDF: Number of shares (bot memes) between strategies')\n",
    "\n",
    "    figure.tight_layout()\n",
    "    if plot_fpath is not None:\n",
    "        figure.savefig(plot_fpath, dpi=300)\n",
    "        plt.close(figure)\n",
    "    else:\n",
    "        figure.show()"
   ]
  },
  {
   "cell_type": "code",
   "execution_count": 6,
   "id": "95392dfa",
   "metadata": {},
   "outputs": [
    {
     "data": {
      "image/png": "[encoded data removed]",
      "text/plain": [
       "<Figure size 432x288 with 1 Axes>"
      ]
     },
     "metadata": {
      "needs_background": "light"
     },
     "output_type": "display_data"
    }
   ],
   "source": [
    "ccdf_share_between_strategies(nostrag_info['botmeme_shares'], hubstrag_info['botmeme_shares'],log_log=True)"
   ]
  },
  {
   "cell_type": "markdown",
   "id": "825b29b7",
   "metadata": {},
   "source": [
    "We want to check if the difference between 2 distributions above is significant"
   ]
  },
  {
   "cell_type": "code",
   "execution_count": 11,
   "id": "06b412d8",
   "metadata": {},
   "outputs": [
    {
     "name": "stdout",
     "output_type": "stream",
     "text": [
      "KstestResult(statistic=0.11752136752136752, pvalue=0.00011294908758296973)\n",
      "Statistic is larger than critical value\n",
      "The 2 distributions are similar: False (At alpha 0.01, D=0.087)\n"
     ]
    },
    {
     "data": {
      "text/plain": [
       "False"
      ]
     },
     "execution_count": 11,
     "metadata": {},
     "output_type": "execute_result"
    }
   ],
   "source": [
    "utils.ks_test(nostrag_info['botmeme_shares'], hubstrag_info['botmeme_shares'], alpha=0.01, verbose=True)"
   ]
  },
  {
   "cell_type": "code",
   "execution_count": 15,
   "id": "5151ec4c",
   "metadata": {},
   "outputs": [
    {
     "data": {
      "text/plain": [
       "702"
      ]
     },
     "execution_count": 15,
     "metadata": {},
     "output_type": "execute_result"
    }
   ],
   "source": [
    "len(hubstrag_info['botmeme_shares'])"
   ]
  },
  {
   "cell_type": "code",
   "execution_count": 17,
   "id": "5a1c1dd4",
   "metadata": {},
   "outputs": [],
   "source": [
    "sample_size= int(min(len(hubstrag_info['botmeme_shares']), len(nostrag_info['botmeme_shares']))*0.6)\n",
    "test_results =[] #whether 2 distributions are similar\n",
    "for i in range(10):\n",
    "    nostragsample = np.random.choice(nostrag_info['botmeme_shares'], replace=False,size=sample_size)\n",
    "    hubstragsample = np.random.choice(hubstrag_info['botmeme_shares'], replace=False,size=sample_size)\n",
    "    test_results += [utils.ks_test(nostragsample,hubstragsample, alpha=0.01)]"
   ]
  },
  {
   "cell_type": "code",
   "execution_count": 18,
   "id": "6b7a783a",
   "metadata": {},
   "outputs": [
    {
     "data": {
      "text/plain": [
       "[False, False, False, True, True, False, False, False, False, False]"
      ]
     },
     "execution_count": 18,
     "metadata": {},
     "output_type": "execute_result"
    }
   ],
   "source": [
    "test_results"
   ]
  },
  {
   "cell_type": "markdown",
   "id": "724af2af",
   "metadata": {},
   "source": [
    "Difference is siginificance. But how about when we limit the duration of the simulation? Is there still a difference?"
   ]
  },
  {
   "cell_type": "code",
   "execution_count": null,
   "id": "a71e927b",
   "metadata": {},
   "outputs": [],
   "source": [
    "def info_memeshares_channel_indegs(G, verbose, deg_mode='in', duration_limit=None):\n",
    "    # Helper: Scatter plot of number of shares vs indeg of spreading channel (for junk memes)\n",
    "    # return a dict of information to calculate: \n",
    "    # % of memes spread only by bot; num shares, indeg of nodes spreading each meme\n",
    "    # (Stats across simulation)\n",
    "\n",
    "    info = collections.defaultdict(lambda:[])\n",
    "    keys= ['num_humans', 'num_bots', 'human_spread_only_viabot', 'bot_spread_only_viabot']\n",
    "    for k in keys:\n",
    "        info[k] = 0\n",
    "\n",
    "    human_agents = [int(node['id']) for node in G.vs if node['bot']==0]\n",
    "\n",
    "    for meme in verbose['all_memes'][0]: #since verbose['all_memes'] is a list over multiple simulations\n",
    "        spread_through = [int(node) for node in meme['spread_via_agents']]\n",
    "        human_channels = set(human_agents) & set(spread_through)\n",
    "\n",
    "        if len(human_channels)>0:\n",
    "            indegs = G.degree(list(human_channels), mode=deg_mode, loops=False)\n",
    "            largest_indeg = max(indegs)\n",
    "            \n",
    "            if meme['is_by_bot']==1:\n",
    "                info['num_bots']+=1\n",
    "                info['bot_largest_spreading_nodes'] += [largest_indeg]  \n",
    "                info['botmeme_shares'] += [meme['human_shares']]\n",
    "                info['botmeme_fitness'] += [meme['fitness']]\n",
    "            else:\n",
    "                info['num_humans']+=1\n",
    "                info['human_largest_spreading_nodes'] += [largest_indeg]\n",
    "                info['humanmeme_shares'] += [meme['human_shares']]\n",
    "                info['humanmeme_fitness'] += [meme['fitness']]\n",
    "                info['humanmeme_quality'] += [meme['quality']]\n",
    "        else:\n",
    "            if meme['is_by_bot']==1:\n",
    "                info['bot_spread_only_viabot']+=1\n",
    "            else:\n",
    "                info['human_spread_only_viabot']+=1\n",
    "        \n",
    "    return info"
   ]
  },
  {
   "cell_type": "code",
   "execution_count": 8,
   "id": "58d3970c",
   "metadata": {},
   "outputs": [
    {
     "data": {
      "text/plain": [
       "Text(0.5, 1.0, 'CCDF: Number of shares (bot memes) between strategies')"
      ]
     },
     "execution_count": 8,
     "metadata": {},
     "output_type": "execute_result"
    },
    {
     "data": {
      "image/png": "[encoded data removed]",
      "text/plain": [
       "<Figure size 432x288 with 1 Axes>"
      ]
     },
     "metadata": {
      "needs_background": "light"
     },
     "output_type": "display_data"
    }
   ],
   "source": [
    "nostrag_botshares = nostrag_info['botmeme_shares']\n",
    "strag_botshares = hubstrag_info['botmeme_shares']\n",
    "duration = min(len(nostrag_botshares), len(strag_botshares))\n",
    "nostrag_botshares = nostrag_botshares[:duration]\n",
    "strag_botshares = strag_botshares[:duration]\n",
    "\n",
    "assert )_\n",
    "figure, ax = plt.subplots()\n",
    "ax.set_xscale('log')\n",
    "ax.set_yscale('log')\n",
    "\n",
    "sns.ecdfplot(ax=ax, data = nostrag_botshares, complementary=True, label = 'no targeting')\n",
    "sns.ecdfplot(ax=ax, data = strag_botshares, complementary=True, label = 'hub targeting')\n",
    "ax.set_xlabel('Number of shares')\n",
    "ax.legend()\n",
    "ax.set_title('CCDF: Number of shares (bot memes) between strategies')\n",
    "\n",
    "#figure.show()"
   ]
  },
  {
   "cell_type": "code",
   "execution_count": 23,
   "id": "e1ba4dc9",
   "metadata": {},
   "outputs": [],
   "source": [
    "def ccdf_viahubshares_between_strategies(spreading_nodes, meme_shares, strag_spreading_nodes, strag_meme_shares, hubsize=1000, plot_fpath=None, log_log=True):\n",
    "    # CCDF of the shares (of bot memes) - 2 lines (no target vs target), 2 panels (via hubs vs not via hub)\n",
    "    viahub, not_viahub = separate_shares_viahubs(spreading_nodes, meme_shares, hubsize=hubsize)\n",
    "    strag_viahub, strag_not_viahub = separate_shares_viahubs(strag_spreading_nodes, strag_meme_shares, hubsize=hubsize)\n",
    "    \n",
    "    figure, (ax1, ax2) = plt.subplots(1,2, figsize=(10, 5), sharex=True, sharey=True)\n",
    "\n",
    "    sns.ecdfplot(ax=ax1, data = viahub, complementary=True, label = 'no targeting')\n",
    "    sns.ecdfplot(ax=ax1, data = strag_viahub, complementary=True, label = 'targeting')\n",
    "\n",
    "    ax1.legend()\n",
    "    if log_log is True:\n",
    "        ax1.set_xscale('log')\n",
    "        ax1.set_yscale('log')\n",
    "    sns.ecdfplot(ax=ax2, data = not_viahub, complementary=True, label = 'no targeting')\n",
    "    sns.ecdfplot(ax=ax2, data = strag_not_viahub, complementary=True, label = 'targeting')\n",
    "\n",
    "    ax1.set_title('Via hubs')\n",
    "    ax2.set_title('Not via hub')\n",
    "    ax1.set_xlabel('Shares')\n",
    "    ax2.set_xlabel('Shares')\n",
    "\n",
    "    figure.suptitle('CCDF: Number of shares of bot memes')\n",
    "    figure.tight_layout()\n",
    "    if plot_fpath is not None:\n",
    "        figure.savefig(plot_fpath, dpi=300)\n",
    "        plt.close(figure)\n",
    "    else:\n",
    "        plt.show()\n",
    "\n",
    "def separate_shares_viahubs(spreading_degs, meme_shares, hubsize=1000):\n",
    "# Helper ccdf_viahubshares, ccdf_viahubfitness\n",
    "    viahub = []\n",
    "    not_viahub = []\n",
    "    for deg,share in zip(spreading_degs, meme_shares):\n",
    "        if deg>=hubsize:\n",
    "            viahub+=[share]\n",
    "        else:\n",
    "            not_viahub +=[share]\n",
    "    return viahub, not_viahub"
   ]
  },
  {
   "cell_type": "code",
   "execution_count": 21,
   "id": "77976f5f",
   "metadata": {},
   "outputs": [],
   "source": [
    "none_bot_spread= nostrag_info['bot_largest_spreading_nodes']\n",
    "hubs_bot_spread= hubstrag_info['bot_largest_spreading_nodes']"
   ]
  },
  {
   "cell_type": "code",
   "execution_count": 24,
   "id": "d5644c9e",
   "metadata": {},
   "outputs": [
    {
     "data": {
      "image/png": "[encoded data removed]",
      "text/plain": [
       "<Figure size 720x360 with 2 Axes>"
      ]
     },
     "metadata": {
      "needs_background": "light"
     },
     "output_type": "display_data"
    }
   ],
   "source": [
    "ccdf_viahubshares_between_strategies(none_bot_spread, nostrag_info['botmeme_shares'], hubs_bot_spread, hubstrag_info['botmeme_shares'], hubsize=1000,\n",
    "                                        log_log=True)"
   ]
  },
  {
   "cell_type": "code",
   "execution_count": 28,
   "id": "516159e3",
   "metadata": {},
   "outputs": [],
   "source": [
    "hubsize=1000\n",
    "spreading_nodes = none_bot_spread\n",
    "meme_shares= nostrag_info['botmeme_shares']\n",
    "strag_spreading_nodes = hubs_bot_spread\n",
    "strag_meme_shares = hubstrag_info['botmeme_shares']"
   ]
  },
  {
   "cell_type": "code",
   "execution_count": 29,
   "id": "0b398b86",
   "metadata": {},
   "outputs": [],
   "source": [
    "viahub, not_viahub = separate_shares_viahubs(spreading_nodes, meme_shares, hubsize=hubsize)\n",
    "strag_viahub, strag_not_viahub = separate_shares_viahubs(strag_spreading_nodes, strag_meme_shares, hubsize=hubsize)"
   ]
  },
  {
   "cell_type": "code",
   "execution_count": 30,
   "id": "fae5c0ef",
   "metadata": {},
   "outputs": [
    {
     "name": "stdout",
     "output_type": "stream",
     "text": [
      "KstestResult(statistic=0.1782437745740498, pvalue=0.321943274575309)\n",
      "Statistic is larger than critical value\n",
      "The 2 distributions are similar: True (At alpha 0.01, D=0.317)\n"
     ]
    },
    {
     "data": {
      "text/plain": [
       "True"
      ]
     },
     "execution_count": 30,
     "metadata": {},
     "output_type": "execute_result"
    }
   ],
   "source": [
    "utils.ks_test(viahub, strag_viahub, alpha=0.01, verbose=True)"
   ]
  },
  {
   "cell_type": "code",
   "execution_count": 34,
   "id": "d5846108",
   "metadata": {},
   "outputs": [],
   "source": [
    "def kstest_multiple(dist1, dist2):\n",
    "    sample_size= int(min(len(dist1), len(dist2))*0.6)\n",
    "    test_results =[] #whether 2 distributions are similar\n",
    "    for i in range(10):\n",
    "        dist1_sample = np.random.choice(dist1, replace=False,size=sample_size)\n",
    "        dist2_sample = np.random.choice(dist2, replace=False,size=sample_size)\n",
    "        test_results += [utils.ks_test(dist1_sample, dist2_sample, alpha=0.01)]\n",
    "    print(test_results)"
   ]
  },
  {
   "cell_type": "code",
   "execution_count": 35,
   "id": "4145a5f2",
   "metadata": {},
   "outputs": [
    {
     "name": "stdout",
     "output_type": "stream",
     "text": [
      "[True, True, True, True, True, True, True, True, True, True]\n"
     ]
    }
   ],
   "source": [
    "kstest_multiple(viahub, strag_viahub)"
   ]
  },
  {
   "cell_type": "markdown",
   "id": "4b3be733",
   "metadata": {},
   "source": [
    "# Check maximum of bot fraction"
   ]
  },
  {
   "cell_type": "code",
   "execution_count": 9,
   "id": "af7662b8",
   "metadata": {},
   "outputs": [],
   "source": [
    "def final_botmeme_fraction(G, verbose):\n",
    "    # Stat final state\n",
    "    # Helper for plotting fraction of bot memes vs node in degree\n",
    "    # Note: feed keys are strings, meme ids and all other keys are ints\n",
    "    deg_mode='in'\n",
    "\n",
    "    human_nodes = [int(node['id']) for node in G.vs if node['bot']==0]\n",
    "    human_agents = [node['uid'] for node in G.vs if node['bot']==0]\n",
    "    hum_degrees = G.degree(human_nodes, mode=deg_mode, loops=False)\n",
    "\n",
    "    botmeme_ids = [meme['id'] for meme in verbose['all_memes'][0] if meme['is_by_bot']==1]\n",
    "\n",
    "    final_agent_info ={}\n",
    "    \n",
    "    for idx, agentid in enumerate(human_agents):\n",
    "        memeids = verbose['all_feeds'][0][agentid]\n",
    "        \n",
    "        if len(memeids)>0:\n",
    "            bot_num= len([memeid for memeid in memeids if memeid in botmeme_ids])\n",
    "            assert(bot_num<=len(memeids))\n",
    "\n",
    "            bot_frac = bot_num/len(memeids)\n",
    "            final_agent_info[agentid] = {'in_degree': hum_degrees[idx],\n",
    "                                        'botmeme_frac': bot_frac}\n",
    "\n",
    "    agent_indegs = [info['in_degree'] for info in final_agent_info.values()]\n",
    "    botfrac_on_feed=[info['botmeme_frac'] for info in final_agent_info.values()]\n",
    "\n",
    "    return agent_indegs, botfrac_on_feed"
   ]
  },
  {
   "cell_type": "code",
   "execution_count": 15,
   "id": "74b8a886",
   "metadata": {},
   "outputs": [
    {
     "data": {
      "text/plain": [
       "[1, 3, 4]"
      ]
     },
     "execution_count": 15,
     "metadata": {},
     "output_type": "execute_result"
    }
   ],
   "source": [
    "sorted([3,4,1])"
   ]
  },
  {
   "cell_type": "code",
   "execution_count": 50,
   "id": "43d785c3",
   "metadata": {},
   "outputs": [],
   "source": [
    "def convert_to_range(old_value):\n",
    "    old_min = 0\n",
    "    old_max=1 \n",
    "    new_min=0.95 \n",
    "    new_max=1\n",
    "    new_value = ( (old_value - old_min) / (old_max - old_min) ) * (new_max - new_min) + new_min\n",
    "    return new_value"
   ]
  },
  {
   "cell_type": "code",
   "execution_count": 51,
   "id": "c7f7e6ed",
   "metadata": {},
   "outputs": [],
   "source": [
    "def ccdf_botmemefrac_between_strategies(nostrag_junkfrac, strag_junkfrac, plot_fpath=None, log_log=False, tail=False):\n",
    "    # CCDF of fraction of bot memes in human agent's feeds at final state- 2 lines (none & hubs-targeting)\n",
    "\n",
    "    figure, ax = plt.subplots()\n",
    "\n",
    "    if log_log is True:\n",
    "        ax.set_xscale('log')\n",
    "        ax.set_yscale('log')\n",
    "    \n",
    "    if tail is True:\n",
    "        nostrag_junkfrac = sorted(nostrag_junkfrac)[int(len(nostrag_junkfrac)*0.95):]\n",
    "        strag_junkfrac = sorted(strag_junkfrac)[int(len(strag_junkfrac)*0.95):]\n",
    "        ticks=[]\n",
    "        for i in ax.get_xticks():\n",
    "            ticks +=[convert_to_range(i)]\n",
    "        ax.set_yticklabels(ticks)\n",
    "        \n",
    "    sns.ecdfplot(ax=ax, data = nostrag_junkfrac, complementary=True, label = 'no targeting')\n",
    "    sns.ecdfplot(ax=ax, data = strag_junkfrac, complementary=True, label = 'hub targeting')\n",
    "    ax.set_xlabel(\"Fraction of bot memes in agent's feed\")\n",
    "    ax.legend()\n",
    "    ax.set_title(\"CCDF: Fraction of bot memes in agent's feed\")\n",
    "    \n",
    "    figure.tight_layout()\n",
    "    if plot_fpath is not None:\n",
    "        figure.savefig(plot_fpath, dpi=300)\n",
    "        plt.close(figure)\n",
    "    else:\n",
    "        figure.show()"
   ]
  },
  {
   "cell_type": "code",
   "execution_count": 23,
   "id": "2b144c9f",
   "metadata": {},
   "outputs": [
    {
     "data": {
      "image/png": "[encoded data removed]",
      "text/plain": [
       "<Figure size 432x288 with 1 Axes>"
      ]
     },
     "metadata": {
      "needs_background": "light"
     },
     "output_type": "display_data"
    }
   ],
   "source": [
    "nostrag_agentdegs, nostrag_botfrac=final_botmeme_fraction(none_graph, none_verbose)\n",
    "strag_agentdegs, strag_botfrac=final_botmeme_fraction(hub_graph, hub_verbose)\n",
    "ccdf_botmemefrac_between_strategies(nostrag_botfrac, strag_botfrac)"
   ]
  },
  {
   "cell_type": "markdown",
   "id": "1a1a9e8c",
   "metadata": {},
   "source": [
    "^ There could be some difference in the tail of these 2 distributions. Could there be a giant human node that focuses all the bot memes?"
   ]
  },
  {
   "cell_type": "code",
   "execution_count": 13,
   "id": "6ed9accf",
   "metadata": {
    "scrolled": true
   },
   "outputs": [
    {
     "data": {
      "text/plain": [
       "1.0"
      ]
     },
     "execution_count": 13,
     "metadata": {},
     "output_type": "execute_result"
    }
   ],
   "source": [
    "max(nostrag_botfrac) "
   ]
  },
  {
   "cell_type": "code",
   "execution_count": 14,
   "id": "f419fad6",
   "metadata": {},
   "outputs": [
    {
     "data": {
      "text/plain": [
       "1.0"
      ]
     },
     "execution_count": 14,
     "metadata": {},
     "output_type": "execute_result"
    }
   ],
   "source": [
    "max(strag_botfrac)"
   ]
  },
  {
   "cell_type": "code",
   "execution_count": 52,
   "id": "8b60f980",
   "metadata": {},
   "outputs": [
    {
     "name": "stderr",
     "output_type": "stream",
     "text": [
      "/N/u/baotruon/Carbonate/miniconda3/envs/graph/lib/python3.7/site-packages/ipykernel_launcher.py:16: UserWarning: FixedFormatter should only be used together with FixedLocator\n",
      "  app.launch_new_instance()\n"
     ]
    },
    {
     "data": {
      "image/png": "[encoded data removed]",
      "text/plain": [
       "<Figure size 432x288 with 1 Axes>"
      ]
     },
     "metadata": {
      "needs_background": "light"
     },
     "output_type": "display_data"
    }
   ],
   "source": [
    "ccdf_botmemefrac_between_strategies(nostrag_botfrac, strag_botfrac, tail=True)"
   ]
  },
  {
   "cell_type": "markdown",
   "id": "2a603e29",
   "metadata": {},
   "source": [
    "# Plot bot vs human degree distribution"
   ]
  },
  {
   "cell_type": "code",
   "execution_count": 65,
   "id": "28a45ee2",
   "metadata": {},
   "outputs": [],
   "source": [
    "def plot_agent_degree_dist(graph, mode='in', plot_fpath=None):\n",
    "    \n",
    "    human_vertices = [v for v in graph.vs if v['bot']==0]\n",
    "    human_degs = graph.degree(human_vertices, mode=mode, loops=False)\n",
    "    \n",
    "    bot_vertices = [v for v in graph.vs if v['bot']==1]\n",
    "    bot_degs = graph.degree(bot_vertices, mode=mode, loops=False)\n",
    "    \n",
    "    figure, ax = plt.subplots()\n",
    "    ax.set_xscale('log')\n",
    "    ax.set_yscale('log')\n",
    "    sns.ecdfplot(ax=ax, data = human_degs, complementary=True, label = 'human')\n",
    "    sns.ecdfplot(ax=ax, data = bot_degs, complementary=True, label = 'bot')\n",
    "    ax.set_xlabel(\"Degree\")\n",
    "    ax.legend()\n",
    "    ax.set_title(\"CCDF: Degree dist. of agents\")\n",
    "    figure.tight_layout()\n",
    "    if plot_fpath is not None:\n",
    "        figure.savefig(plot_fpath, dpi=300)\n",
    "        plt.close(figure)\n",
    "    else:\n",
    "        figure.show()"
   ]
  },
  {
   "cell_type": "code",
   "execution_count": 66,
   "id": "8f5490e3",
   "metadata": {},
   "outputs": [
    {
     "data": {
      "image/png": "[encoded data removed]",
      "text/plain": [
       "<Figure size 432x288 with 1 Axes>"
      ]
     },
     "metadata": {
      "needs_background": "light"
     },
     "output_type": "display_data"
    }
   ],
   "source": [
    "plot_agent_degree_dist(none_graph, mode='in')"
   ]
  },
  {
   "cell_type": "code",
   "execution_count": 68,
   "id": "5b4eba4f",
   "metadata": {},
   "outputs": [
    {
     "data": {
      "image/png": "[encoded data removed]",
      "text/plain": [
       "<Figure size 432x288 with 1 Axes>"
      ]
     },
     "metadata": {
      "needs_background": "light"
     },
     "output_type": "display_data"
    }
   ],
   "source": [
    "plot_agent_degree_dist(hub_graph, mode='in')"
   ]
  },
  {
   "cell_type": "code",
   "execution_count": 55,
   "id": "1bd596f1",
   "metadata": {},
   "outputs": [
    {
     "data": {
      "text/plain": [
       "igraph.Vertex(<igraph.Graph object at 0x2ab3d8535450>, 0, {'id': 0.0, 'party': '-0.28911836734693874', 'misinfo': '0.0', 'bot': 0.0, 'uid': '65537'})"
      ]
     },
     "execution_count": 55,
     "metadata": {},
     "output_type": "execute_result"
    }
   ],
   "source": [
    "\n",
    "humans[0]"
   ]
  },
  {
   "cell_type": "code",
   "execution_count": 69,
   "id": "a6ab6b19",
   "metadata": {},
   "outputs": [],
   "source": [
    "ABS_PATH = '/N/slate/baotruon/marketplace'\n",
    "DATA_PATH = '/N/slate/baotruon/marketplace/data'\n",
    "\n",
    "config_fname= os.path.join(DATA_PATH, 'all_configs.json')\n",
    "exp2network = get_exp_network_map(config_fname)\n",
    "\n",
    "# CHANGE THESE VARS FOR OTHER INFILTRATION VALUES\n",
    "exp = 'vary_thetaphi_1runs_gamma0.0005'\n",
    "hub_expname='hubs_22'\n",
    "none_expname='none_22'\n",
    "\n",
    "RES_DIR = os.path.join(ABS_PATH,'results', exp)\n",
    "TRACKING_DIR = os.path.join(ABS_PATH,'long_results',exp)\n",
    "NETWORK_PATH = os.path.join(DATA_PATH, 'igraph/vary_targetgamma')\n",
    "\n",
    "hub_network = os.path.join(NETWORK_PATH, \"network_%s.gml\" %exp2network[hub_expname])\n",
    "hub_graph = ig.Graph.Read_GML(hub_network)\n",
    "\n",
    "none_network = os.path.join(NETWORK_PATH, \"network_%s.gml\" %exp2network[none_expname])\n",
    "none_graph = ig.Graph.Read_GML(none_network)\n"
   ]
  },
  {
   "cell_type": "code",
   "execution_count": 81,
   "id": "34f96398",
   "metadata": {},
   "outputs": [
    {
     "data": {
      "image/png": "[encoded data removed]",
      "text/plain": [
       "<Figure size 432x288 with 1 Axes>"
      ]
     },
     "metadata": {
      "needs_background": "light"
     },
     "output_type": "display_data"
    }
   ],
   "source": [
    "plot_agent_degree_dist(none_graph, mode='out')"
   ]
  },
  {
   "cell_type": "code",
   "execution_count": 71,
   "id": "c0d87da9",
   "metadata": {},
   "outputs": [
    {
     "data": {
      "text/plain": [
       "10006"
      ]
     },
     "execution_count": 71,
     "metadata": {},
     "output_type": "execute_result"
    }
   ],
   "source": [
    "humans = [v for v in none_graph.vs if v['bot']==0]\n",
    "len(humans)"
   ]
  },
  {
   "cell_type": "code",
   "execution_count": 72,
   "id": "72a90c9a",
   "metadata": {},
   "outputs": [
    {
     "data": {
      "text/plain": [
       "50.0"
      ]
     },
     "execution_count": 72,
     "metadata": {},
     "output_type": "execute_result"
    }
   ],
   "source": [
    "10000*0.005"
   ]
  },
  {
   "cell_type": "markdown",
   "id": "c6b7f550",
   "metadata": {},
   "source": [
    "Check that the range of bot degree is correct"
   ]
  },
  {
   "cell_type": "code",
   "execution_count": 74,
   "id": "dd1f2774",
   "metadata": {},
   "outputs": [],
   "source": [
    "import random\n",
    "gamma=0.005"
   ]
  },
  {
   "cell_type": "code",
   "execution_count": 75,
   "id": "b6ba9071",
   "metadata": {},
   "outputs": [],
   "source": [
    "degs = []\n",
    "for i in range(100):\n",
    "    n_followers=0\n",
    "    for _ in range(10006):\n",
    "        if random.random() < gamma:\n",
    "            n_followers += 1\n",
    "    degs +=[n_followers]"
   ]
  },
  {
   "cell_type": "code",
   "execution_count": 76,
   "id": "b6a87549",
   "metadata": {},
   "outputs": [
    {
     "data": {
      "text/plain": [
       "(array([ 2.,  2., 11., 17., 21., 25., 10.,  7.,  2.,  3.]),\n",
       " array([34. , 37.3, 40.6, 43.9, 47.2, 50.5, 53.8, 57.1, 60.4, 63.7, 67. ]),\n",
       " <BarContainer object of 10 artists>)"
      ]
     },
     "execution_count": 76,
     "metadata": {},
     "output_type": "execute_result"
    },
    {
     "data": {
      "image/png": "[encoded data removed]",
      "text/plain": [
       "<Figure size 432x288 with 1 Axes>"
      ]
     },
     "metadata": {
      "needs_background": "light"
     },
     "output_type": "display_data"
    }
   ],
   "source": [
    "plt.hist(degs)"
   ]
  },
  {
   "cell_type": "code",
   "execution_count": 79,
   "id": "03a3c52d",
   "metadata": {},
   "outputs": [],
   "source": [
    "bot_vertices = [v for v in none_graph.vs if v['bot']==1]\n",
    "bot_degs = none_graph.degree(bot_vertices, mode='in', loops=False)"
   ]
  },
  {
   "cell_type": "code",
   "execution_count": 80,
   "id": "f77e6406",
   "metadata": {},
   "outputs": [
    {
     "data": {
      "text/plain": [
       "(array([ 6.,  8., 17., 14., 17., 12., 12.,  8.,  3.,  3.]),\n",
       " array([ 943. ,  956.6,  970.2,  983.8,  997.4, 1011. , 1024.6, 1038.2,\n",
       "        1051.8, 1065.4, 1079. ]),\n",
       " <BarContainer object of 10 artists>)"
      ]
     },
     "execution_count": 80,
     "metadata": {},
     "output_type": "execute_result"
    },
    {
     "data": {
      "image/png": "[encoded data removed]",
      "text/plain": [
       "<Figure size 432x288 with 1 Axes>"
      ]
     },
     "metadata": {
      "needs_background": "light"
     },
     "output_type": "display_data"
    }
   ],
   "source": [
    "plt.hist(bot_degs)"
   ]
  },
  {
   "cell_type": "code",
   "execution_count": null,
   "id": "693f80c1",
   "metadata": {},
   "outputs": [],
   "source": []
  }
 ],
 "metadata": {
  "kernelspec": {
   "display_name": "Python 3 (ipykernel)",
   "language": "python",
   "name": "python3"
  },
  "language_info": {
   "codemirror_mode": {
    "name": "ipython",
    "version": 3
   },
   "file_extension": ".py",
   "mimetype": "text/x-python",
   "name": "python",
   "nbconvert_exporter": "python",
   "pygments_lexer": "ipython3",
   "version": "3.9.12"
  }
 },
 "nbformat": 4,
 "nbformat_minor": 5
}
