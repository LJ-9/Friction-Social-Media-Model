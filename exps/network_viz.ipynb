{
 "cells": [
  {
   "cell_type": "markdown",
   "metadata": {
    "colab_type": "text",
    "id": "4VdiGhQd57n1"
   },
   "source": [
    "Code to (re)produce results in the paper \n",
    "\"Manipulating the Online Marketplace of Ideas\" \n",
    "by Xiaodan Lou, Alessandro Flammini, and Filippo Menczer\n",
    "https://arxiv.org/abs/1907.06130\n",
    "\n",
    "Notes:\n",
    "* Need Python 3.6 or later; eg: `module load python/3.6.6`\n",
    "* Remember link direction is following, opposite of info spread!\n",
    "* For large `n_humans`, it's much faster to run the simulations in parallel on a server or cluster, eg, one process for each combination of parameters (gamma, phi, mu...)\n",
    "\n",
    "\n",
    "Parameters and default values:\n",
    "```\n",
    "n_humans = 1000 # 10k for paper\n",
    "beta = 0.1 # bots/humans ratio; 0.1 for paper\n",
    "p = 0.5 # for network clustering; 0.5 for paper\n",
    "k_out = 3 # average no. friends within humans & bots; 3 for paper\n",
    "alpha = 15 # depth of feed; 15 for paper\n",
    "mu = 0.75 # or 0.5? average prob of new meme vs retweet; or draw from empirical distribution\n",
    "phi = 1 # bot deception >= 1: meme fitness higher than quality\n",
    "gamma = 0.1 # infiltration: probability that a human follows each bot\n",
    "epsilon = 0.01 # threshold used to check for steady-state convergence\n",
    "n_runs = 10 # or 20? number of simulations to average results\n",
    "csvfile = 'results.csv' # to save results for plotting\n",
    "```"
   ]
  },
  {
   "cell_type": "code",
   "execution_count": 1,
   "metadata": {
    "colab": {},
    "colab_type": "code",
    "id": "byMDogYTqly4",
    "scrolled": true
   },
   "outputs": [],
   "source": [
    "import networkx as nx\n",
    "import random\n",
    "import numpy\n",
    "import math\n",
    "import statistics\n",
    "import csv\n",
    "import matplotlib.pyplot as plt\n",
    "from operator import itemgetter\n",
    "import sys\n",
    "import fcntl\n",
    "import time\n",
    "import bot_model\n",
    "\n",
    "%matplotlib inline\n",
    "assert(nx.__version__ >= '2.4')"
   ]
  },
  {
   "cell_type": "markdown",
   "metadata": {
    "colab_type": "text",
    "id": "PDTP02u76ZmW"
   },
   "source": [
    "# Export GML files for network visualization figure"
   ]
  },
  {
   "cell_type": "code",
   "execution_count": 4,
   "metadata": {
    "colab": {},
    "colab_type": "code",
    "id": "nlK_GvdCPXGl",
    "scrolled": false
   },
   "outputs": [
    {
     "name": "stdout",
     "output_type": "stream",
     "text": [
      "average quality for gamma=0.001, phi=1: 0.38765171050263914\n",
      "average quality for gamma=0.001, phi=5: 0.17706310966348485\n",
      "average quality for gamma=0.01, phi=1: 0.24654603781085085\n",
      "average quality for gamma=0.01, phi=5: 0.10376496525241391\n"
     ]
    }
   ],
   "source": [
    "q, G_random_001_1 = bot_model.simulation(False, return_net=True, gamma=0.001, phi=1, mu=0.5)\n",
    "nx.write_gml(bot_model.add_avq_to_net(G_random_001_1),'G_random_001_1.gml')\n",
    "print('average quality for gamma=0.001, phi=1:', q)\n",
    "\n",
    "q, G_random_001_5 = bot_model.simulation(False, return_net=True, gamma=0.001, phi=5, mu=0.5)\n",
    "nx.write_gml(bot_model.add_avq_to_net(G_random_001_5),'G_random_001_5.gml')\n",
    "print('average quality for gamma=0.001, phi=5:', q)\n",
    "\n",
    "q, G_random_01_1 = bot_model.simulation(False, return_net=True, gamma=0.01, phi=1, mu=0.5)\n",
    "nx.write_gml(bot_model.add_avq_to_net(G_random_01_1),'G_random_01_1.gml')\n",
    "print('average quality for gamma=0.01, phi=1:', q)\n",
    "\n",
    "q, G_random_01_5 = bot_model.simulation(False, return_net=True, gamma=0.01, phi=5, mu=0.5)\n",
    "nx.write_gml(bot_model.add_avq_to_net(G_random_01_5),'G_random_01_5.gml')\n",
    "print('average quality for gamma=0.01, phi=5:', q)"
   ]
  },
  {
   "cell_type": "code",
   "execution_count": null,
   "metadata": {
    "collapsed": true
   },
   "outputs": [],
   "source": []
  }
 ],
 "metadata": {
  "colab": {
   "authorship_tag": "ABX9TyOSxEIALiDmxBIQ2EnwyIcJ",
   "collapsed_sections": [],
   "name": "bot_model_xiaodan.ipynb",
   "provenance": []
  },
  "kernelspec": {
   "display_name": "Python 3",
   "language": "python",
   "name": "python3"
  },
  "language_info": {
   "codemirror_mode": {
    "name": "ipython",
    "version": 3
   },
   "file_extension": ".py",
   "mimetype": "text/x-python",
   "name": "python",
   "nbconvert_exporter": "python",
   "pygments_lexer": "ipython3",
   "version": "3.8.8"
  }
 },
 "nbformat": 4,
 "nbformat_minor": 1
}
