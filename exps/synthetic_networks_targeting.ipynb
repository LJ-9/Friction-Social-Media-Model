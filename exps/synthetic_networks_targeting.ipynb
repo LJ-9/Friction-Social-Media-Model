{
 "cells": [
  {
   "cell_type": "markdown",
   "metadata": {
    "colab_type": "text",
    "id": "4VdiGhQd57n1"
   },
   "source": [
    "Code to (re)produce results in the paper \n",
    "\"Manipulating the Online Marketplace of Ideas\" \n",
    "by Xiaodan Lou, Alessandro Flammini, and Filippo Menczer\n",
    "https://arxiv.org/abs/1907.06130\n",
    "\n",
    "Notes:\n",
    "* Need Python 3.6 or later; eg: `module load python/3.6.6`\n",
    "* Remember link direction is following, opposite of info spread!\n",
    "* For large `n_humans`, it's much faster to run the simulations in parallel on a server or cluster, eg, one process for each combination of parameters (gamma, phi, mu...)\n",
    "\n",
    "\n",
    "Parameters and default values:\n",
    "```\n",
    "n_humans = 1000 # 10k for paper\n",
    "beta = 0.1 # bots/humans ratio; 0.1 for paper\n",
    "p = 0.5 # for network clustering; 0.5 for paper\n",
    "k_out = 3 # average no. friends within humans & bots; 3 for paper\n",
    "alpha = 15 # depth of feed; 15 for paper\n",
    "mu = 0.75 # average prob of new meme vs retweet; 0.75 for paper or draw from empirical distribution\n",
    "phi = 1 # bot deception >= 1: meme fitness higher than quality\n",
    "gamma = 0.1 # infiltration: probability that a human follows each bot\n",
    "epsilon = 0.01 # threshold used to check for steady-state convergence\n",
    "n_runs = 10 # or 20? number of simulations to average results\n",
    "csvfile = 'results.csv' # to save results for plotting\n",
    "```"
   ]
  },
  {
   "cell_type": "code",
   "execution_count": 1,
   "metadata": {
    "colab": {},
    "colab_type": "code",
    "collapsed": true,
    "id": "byMDogYTqly4"
   },
   "outputs": [],
   "source": [
    "import networkx as nx\n",
    "import random\n",
    "import numpy\n",
    "import math\n",
    "import statistics\n",
    "import csv\n",
    "import matplotlib.pyplot as plt\n",
    "from operator import itemgetter\n",
    "import sys\n",
    "import fcntl\n",
    "import time\n",
    "import bot_model\n",
    "\n",
    "%matplotlib inline\n",
    "assert(nx.__version__ >= '2.4')"
   ]
  },
  {
   "cell_type": "markdown",
   "metadata": {
    "colab_type": "text",
    "id": "iqvOoIzuIJGY"
   },
   "source": [
    "# Random vs preferential targeting\n",
    "## Simplified simulations: no tracking for diversity, kendall tau, pop. distr., or amplification"
   ]
  },
  {
   "cell_type": "code",
   "execution_count": 0,
   "metadata": {
    "colab": {},
    "colab_type": "code",
    "collapsed": true,
    "id": "qDd3WKkdndkK"
   },
   "outputs": [],
   "source": [
    "for mu in [0.75, 0.25]\n",
    "    for gamma in [0.001, 0.005, 0.01, 0.05, 0.1, 0.5, 1.0]: \n",
    "      q_random = []\n",
    "      q_preferential = []\n",
    "      q_ratio = []\n",
    "      for sim in range(n_runs):\n",
    "        print('Running Simulation ', sim, ' for gamma = ', gamma, ' ...', flush=True)\n",
    "        qr = bot_model.simulation(False, mu=mu, gamma=gamma)\n",
    "        qp = bot_model.simulation(True, mu=mu, gamma=gamma)\n",
    "        q_random.append(qr)\n",
    "        q_preferential.append(qp)\n",
    "        q_ratio.append(qp/qr)\n",
    "\n",
    "      # save results to CSV file\n",
    "      bot_model.save_csv([gamma, statistics.mean(q_random), \n",
    "                statistics.stdev(q_random) / math.sqrt(n_runs), \n",
    "                statistics.mean(q_preferential), \n",
    "                statistics.stdev(q_preferential) / math.sqrt(n_runs), \n",
    "                statistics.mean(q_ratio), \n",
    "                statistics.stdev(q_ratio) / math.sqrt(n_runs)], csvfile=\"results_N1000_mu{}.csv\".format(mu))"
   ]
  },
  {
   "cell_type": "code",
   "execution_count": 0,
   "metadata": {
    "colab": {},
    "colab_type": "code",
    "collapsed": true,
    "id": "atc5bUxE0Trf"
   },
   "outputs": [],
   "source": [
    "# plot data from CSV file\n",
    "\n",
    "q_mean_random, q_stderr_random, q_mean_preferential, q_stderr_preferential, q_mean_ratio, q_stderr_ratio = bot_model.read_csv('results.csv')\n",
    "\n",
    "ymin = [q_mean_ratio[x] - q_stderr_ratio[x] for x in q_mean_ratio.keys()]\n",
    "ymax = [q_mean_ratio[x] + q_stderr_ratio[x] for x in q_mean_ratio.keys()]\n",
    "plt.xlabel(r'$\\gamma$', fontsize=16)\n",
    "plt.ylabel('Average Quality Ratio', fontsize=16)\n",
    "plt.xscale('log')\n",
    "plt.axhline(y=1, lw=0.5, color='black')\n",
    "plt.plot(list(q_mean_ratio.keys()), list(q_mean_ratio.values()))\n",
    "plt.fill_between(list(q_mean_ratio.keys()), ymax, ymin, alpha=0.2)"
   ]
  },
  {
   "cell_type": "code",
   "execution_count": 0,
   "metadata": {
    "colab": {
     "base_uri": "https://localhost:8080/",
     "height": 441
    },
    "colab_type": "code",
    "collapsed": false,
    "executionInfo": {
     "elapsed": 1502,
     "status": "ok",
     "timestamp": 1586323517694,
     "user": {
      "displayName": "Fil Menczer",
      "photoUrl": "https://lh3.googleusercontent.com/a-/AOh14GjM8yOdcP2fhl4vO8cJ6QsZPMEuaDp1u_9VjUvE=s64",
      "userId": "14568335905230551199"
     },
     "user_tz": 240
    },
    "id": "-NjCcdb424_q",
    "outputId": "80c1806e-9636-4f30-a04a-1f00d0626bb0"
   },
   "outputs": [
    {
     "data": {
      "image/png": "[encoded data removed]",
      "text/plain": [
       "<Figure size 288x432 with 1 Axes>"
      ]
     },
     "metadata": {
      "tags": []
     },
     "output_type": "display_data"
    }
   ],
   "source": [
    "# plot from files for different values of mu\n",
    "\n",
    "plt.subplots(figsize=plt.figaspect(1.5))\n",
    "\n",
    "_, _, _, _, ratio_mu75, stderr_mu75 = bot_model.read_csv('results_N1000_mu0.75.csv')\n",
    "ymin_mu75 = [ratio_mu75[x] - 2*stderr_mu75[x] for x in ratio_mu75.keys()]\n",
    "ymax_mu75 = [ratio_mu75[x] + 2*stderr_mu75[x] for x in ratio_mu75.keys()]\n",
    "plt.plot(list(ratio_mu75.keys()), list(ratio_mu75.values()), label=r'$\\mu=0.75$')\n",
    "plt.fill_between(list(ratio_mu75.keys()), ymax_mu75, ymin_mu75, alpha=0.2)\n",
    "\n",
    "_, _, _, _, ratio_mu25, stderr_mu25 = bot_model.read_csv('results_N1000_mu0.25.csv')\n",
    "ymin_mu25 = [ratio_mu25[x] - 2*stderr_mu25[x] for x in ratio_mu25.keys()]\n",
    "ymax_mu25 = [ratio_mu25[x] + 2*stderr_mu25[x] for x in ratio_mu25.keys()]\n",
    "plt.plot(list(ratio_mu25.keys()), list(ratio_mu25.values()), label=r'$\\mu=0.25$')\n",
    "plt.fill_between(list(ratio_mu25.keys()), ymax_mu25, ymin_mu25, alpha=0.2)\n",
    "\n",
    "plt.xlabel(r'$\\gamma$', fontsize=16)\n",
    "plt.ylabel('Average Quality Ratio', fontsize=16)\n",
    "plt.xticks(fontsize=14)\n",
    "plt.yticks(fontsize=14)\n",
    "plt.xscale('log')\n",
    "plt.gca().spines['top'].set_visible(False)\n",
    "plt.gca().spines['right'].set_visible(False)\n",
    "plt.axhline(y=1, lw=0.5, color='black')\n",
    "plt.legend(fontsize=14, loc='upper center')\n",
    "plt.tight_layout()\n",
    "plt.savefig('fig_targeting.pdf')"
   ]
  },
  {
   "cell_type": "code",
   "execution_count": null,
   "metadata": {
    "collapsed": true
   },
   "outputs": [],
   "source": []
  }
 ],
 "metadata": {
  "colab": {
   "authorship_tag": "ABX9TyOSxEIALiDmxBIQ2EnwyIcJ",
   "collapsed_sections": [],
   "name": "bot_model_xiaodan.ipynb",
   "provenance": []
  },
  "kernelspec": {
   "display_name": "Python 3",
   "language": "python",
   "name": "python3"
  },
  "language_info": {
   "codemirror_mode": {
    "name": "ipython",
    "version": 3
   },
   "file_extension": ".py",
   "mimetype": "text/x-python",
   "name": "python",
   "nbconvert_exporter": "python",
   "pygments_lexer": "ipython3",
   "version": "3.6.0"
  }
 },
 "nbformat": 4,
 "nbformat_minor": 1
}
