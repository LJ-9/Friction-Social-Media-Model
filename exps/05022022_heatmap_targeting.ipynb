{
 "cells": [
  {
   "cell_type": "markdown",
   "id": "dac8e2bb",
   "metadata": {},
   "source": [
    "Plot heatmap for 1 run of higher bot infiltration values (gamma 0.1 beta 0.01)"
   ]
  },
  {
   "cell_type": "code",
   "execution_count": 1,
   "id": "8021b115",
   "metadata": {},
   "outputs": [],
   "source": [
    "from matplotlib import cm \n",
    "import gzip\n",
    "import matplotlib.pyplot as plt\n",
    "import csv\n",
    "import numpy as np \n",
    "import glob \n",
    "import json\n",
    "import os\n",
    "from matplotlib import cm\n",
    "import infosys.utils as utils \n",
    "from collections import defaultdict\n",
    "cmap = cm.get_cmap('inferno', 10)"
   ]
  },
  {
   "cell_type": "code",
   "execution_count": 2,
   "id": "f3cc1cfa",
   "metadata": {},
   "outputs": [],
   "source": [
    "ABS_PATH = '/N/slate/baotruon/marketplace'\n",
    "DATA_PATH = os.path.join(ABS_PATH, \"data\")\n",
    "RES_PATH = os.path.join(ABS_PATH, \"results\")\n",
    "\n",
    "all_configs = json.load(open(os.path.join(DATA_PATH,'all_configs.json'),'r'))\n",
    "config_fpath = os.path.join(DATA_PATH,'all_configs.json')\n",
    "\n",
    "PLOT_PATH = 'results/plots'"
   ]
  },
  {
   "cell_type": "code",
   "execution_count": 3,
   "id": "0aa1a209",
   "metadata": {},
   "outputs": [],
   "source": [
    "def read_json_compressed(fpath):\n",
    "    data=None\n",
    "    try:\n",
    "        fin = gzip.open(fpath, 'r')\n",
    "        json_bytes = fin.read()  \n",
    "        json_str = json_bytes.decode('utf-8')\n",
    "        data = json.loads(json_str)\n",
    "    except Exception as e:\n",
    "        print(e)\n",
    "    return data"
   ]
  },
  {
   "cell_type": "code",
   "execution_count": 4,
   "id": "1bce0f3b",
   "metadata": {},
   "outputs": [],
   "source": [
    "pprint = {'gamma':'$\\\\gamma$','theta': '$\\\\theta$', 'beta':'$\\\\beta$', 'phi': '$\\phi$', \n",
    "        'quality': 'Relative Average Quality', 'discriminative_pow': 'Discriminative Power', 'diversity': 'Diversity'}\n",
    "    \n",
    "BETA = [0.0001, 0.0002, 0.0005, 0.001, 0.002, 0.005, 0.02, 0.05, 0.1, 0.2, 0.5]\n",
    "GAMMA = [0.0001, 0.0002, 0.0005, 0.001, 0.002, 0.005, 0.02, 0.05, 0.1, 0.2, 0.5]\n",
    "TARGETING = [None, 'hubs', 'partisanship', 'conservative', 'liberal', 'misinformation']\n",
    "PHI_LIN = list(range(1,11))\n",
    "THETA = [1,2,4,6,8,10,12,14]\n",
    "\n",
    "heatmap_config = {'vary_thetagamma': {'x':'theta', 'y':'gamma', 'xvals':THETA, 'yvals':GAMMA},\n",
    "'vary_phigamma': {'x':'phi', 'y':'gamma', 'xvals':PHI_LIN, 'yvals':GAMMA},\n",
    "'vary_betagamma': {'x':'beta', 'y':'gamma', 'xvals':BETA, 'yvals':GAMMA},\n",
    "'vary_thetaphi': {'x':'theta', 'y':'phi', 'xvals':THETA, 'yvals':PHI_LIN}\n",
    "}\n"
   ]
  },
  {
   "cell_type": "code",
   "execution_count": 5,
   "id": "99041426",
   "metadata": {},
   "outputs": [],
   "source": [
    "xticks = {\n",
    "        'vary_thetagamma': {'vals': THETA, 'label': pprint['theta']},\n",
    "        'vary_phigamma': {'vals': PHI_LIN, 'label': pprint['phi']},\n",
    "        'vary_betagamma': {'vals': BETA, 'label': pprint['beta']},\n",
    "        'vary_thetaphi': {'vals': THETA, 'label': pprint['theta']},\n",
    "    }"
   ]
  },
  {
   "cell_type": "code",
   "execution_count": 34,
   "id": "95cbe458",
   "metadata": {},
   "outputs": [],
   "source": [
    "# Get data from specific directory\n",
    "def read_raw_data_singlerun(result_dir, exp_type='vary_thetaphi', file_prefix='none'):\n",
    "    #prefix: the targeting strategy, used to filter results specific to that targeting strategy\n",
    "    respath = glob.glob('%s/%s*.json' %(result_dir, file_prefix))\n",
    "    resfiles = [i.split('%s/' %result_dir)[1].replace('.json','') for i in respath]\n",
    "#     print(resfiles)\n",
    "    #fill in other config\n",
    "    all_configs = json.load(open(config_fpath,'r'))\n",
    "\n",
    "    params = {}\n",
    "    results = {}\n",
    "    #TODO: simplify this!! \n",
    "    for file in resfiles: \n",
    "#         print(file)\n",
    "        if file in all_configs[exp_type].keys():\n",
    "            params[file] = all_configs[exp_type][file]\n",
    "#             print(params)\n",
    "            fpath = os.path.join(result_dir,'%s.json' %file)\n",
    "            res = json.load(open(fpath,'r'))\n",
    "\n",
    "            if res is not None:\n",
    "                res = utils.update_dict(res, params[file])\n",
    "\n",
    "                results[file] = res\n",
    "\n",
    "    all_results = results.values()\n",
    "    return results, all_results"
   ]
  },
  {
   "cell_type": "code",
   "execution_count": 28,
   "id": "e2ade9ab",
   "metadata": {},
   "outputs": [],
   "source": [
    "def get_heatmap_data(all_results, exp_type='vary_thetaphi', cell_type='quality'):\n",
    "#     results: dict of exp_name - {dict of params + list of qualities across runs}\n",
    "\n",
    "    x = heatmap_config[exp_type]['x']\n",
    "    y = heatmap_config[exp_type]['y']\n",
    "\n",
    "    results = defaultdict(lambda: [])\n",
    "    for idx, yval in enumerate(heatmap_config[exp_type]['yvals']):\n",
    "        for xval in heatmap_config[exp_type]['xvals']:\n",
    "            if cell_type=='discriminative_pow':\n",
    "                #Fill 0 for exps that haven't finished running yet\n",
    "                vals = [res[cell_type][0] for res in all_results if res[x]==xval and res[y]==yval]\n",
    "                results[yval] += [np.mean(vals) if len(vals)>0 else 0] #change else back to 0\n",
    "            else:\n",
    "                vals = [res[cell_type] for res in all_results if res[x]==xval and res[y]==yval]\n",
    "                results[yval] += [np.mean(vals) if len(vals)>0 else 0]\n",
    "\n",
    "    data = np.array([row for row in results.values()])\n",
    "    return data"
   ]
  },
  {
   "cell_type": "code",
   "execution_count": 29,
   "id": "855f1c07",
   "metadata": {},
   "outputs": [
    {
     "name": "stdout",
     "output_type": "stream",
     "text": [
      "['none_46', 'none_39', 'none_53', 'none_34', 'none_13', 'none_20', 'none_14', 'none_79', 'none_76', 'none_54', 'none_01', 'none_52', 'none_78', 'none_61', 'none_17', 'none_31', 'none_42', 'none_07', 'none_47', 'none_74', 'none_41', 'none_25', 'none_15', 'none_35', 'none_05', 'none_45', 'none_03', 'none_21', 'none_23', 'none_43', 'none_67', 'none_50', 'none_56', 'none_12', 'none_16', 'none_06', 'none_36', 'none_04', 'none_44', 'none_77', 'none_29', 'none_55', 'none_70', 'none_68', 'none_75', 'none_59', 'none_02', 'none_40', 'none_19', 'none_22', 'none_71', 'none_00', 'none_72', 'none_27', 'none_60', 'none_18', 'none_08', 'none_24', 'none_37', 'none_10', 'none_63', 'none_48', 'none_30', 'none_73', 'none_51', 'none_62', 'none_66', 'none_28', 'none_11', 'none_49', 'none_69', 'none_58', 'none_09', 'none_65', 'none_32', 'none_57', 'none_26', 'none_64', 'none_38', 'none_33']\n"
     ]
    }
   ],
   "source": [
    "cell_type='quality'\n",
    "exp_type='vary_thetaphi'\n",
    "_, results1 = read_raw_data_singlerun(RES_PATH, exp_type=exp_type, file_prefix='none')\n",
    "data1= get_heatmap_data(results1, exp_type=exp_type, cell_type=cell_type)"
   ]
  },
  {
   "cell_type": "code",
   "execution_count": 30,
   "id": "20991c79",
   "metadata": {},
   "outputs": [
    {
     "name": "stdout",
     "output_type": "stream",
     "text": [
      "['hubs_49', 'hubs_79', 'hubs_55', 'hubs_46', 'hubs_27', 'hubs_01', 'hubs_23', 'hubs_14', 'hubs_41', 'hubs_64', 'hubs_56', 'hubs_24', 'hubs_17', 'hubs_11', 'hubs_33', 'hubs_12', 'hubs_62', 'hubs_57', 'hubs_51', 'hubs_53', 'hubs_52', 'hubs_66', 'hubs_05', 'hubs_77', 'hubs_20', 'hubs_04', 'hubs_47', 'hubs_36', 'hubs_40', 'hubs_54', 'hubs_38', 'hubs_50', 'hubs_29', 'hubs_59', 'hubs_58', 'hubs_22', 'hubs_37', 'hubs_60', 'hubs_68', 'hubs_39', 'hubs_76', 'hubs_03', 'hubs_63', 'hubs_65', 'hubs_02', 'hubs_26', 'hubs_19', 'hubs_08', 'hubs_42', 'hubs_13', 'hubs_21', 'hubs_78', 'hubs_00', 'hubs_69', 'hubs_45', 'hubs_07', 'hubs_30', 'hubs_34', 'hubs_35', 'hubs_18', 'hubs_74', 'hubs_16', 'hubs_31', 'hubs_44', 'hubs_70', 'hubs_48', 'hubs_75', 'hubs_06', 'hubs_73', 'hubs_28', 'hubs_09', 'hubs_67', 'hubs_32', 'hubs_25', 'hubs_71', 'hubs_61', 'hubs_43', 'hubs_10', 'hubs_15', 'hubs_72']\n"
     ]
    }
   ],
   "source": [
    "_, results2 = read_raw_data_singlerun(RES_PATH, exp_type=exp_type, file_prefix='hubs')\n",
    "data2= get_heatmap_data(results2, exp_type=exp_type, cell_type=cell_type)"
   ]
  },
  {
   "cell_type": "code",
   "execution_count": 31,
   "id": "fe69268a",
   "metadata": {},
   "outputs": [],
   "source": [
    "assert data1.all()==data2.all()"
   ]
  },
  {
   "cell_type": "code",
   "execution_count": 56,
   "id": "647e31cb",
   "metadata": {},
   "outputs": [
    {
     "data": {
      "text/plain": [
       "True"
      ]
     },
     "execution_count": 56,
     "metadata": {},
     "output_type": "execute_result"
    }
   ],
   "source": [
    "# PLOT_PATH = '/N/slate/baotruon/marketplace/results/vary_thetaphi_1runs'\n",
    "utils.make_sure_dir_exists(RES_PATH, 'plots')"
   ]
  },
  {
   "cell_type": "code",
   "execution_count": 35,
   "id": "f4a0dd03",
   "metadata": {},
   "outputs": [],
   "source": [
    "PLOT_PATH = '/N/slate/baotruon/marketplace/plots/vary_thetaphi_1runs'"
   ]
  },
  {
   "cell_type": "code",
   "execution_count": 36,
   "id": "da1e7c39",
   "metadata": {},
   "outputs": [],
   "source": [
    "RES_PATH = '/N/slate/baotruon/marketplace/results/vary_thetaphi_1runs'"
   ]
  },
  {
   "cell_type": "code",
   "execution_count": 37,
   "id": "489926bd",
   "metadata": {},
   "outputs": [],
   "source": [
    "def compare_targeting_heatmap(exp_type='vary_thetaphi', cell_type='quality', prefixes=['none','misinformation']):\n",
    "    plt.clf()\n",
    "    figure, (ax1, ax2) = plt.subplots(1,2, figsize=(10, 5), facecolor='w')\n",
    "    for ax, prefix in zip([ax1,ax2], prefixes):\n",
    "        _, all_results = read_raw_data_singlerun(RES_PATH, exp_type=exp_type, file_prefix=prefix)\n",
    "        data= get_heatmap_data(all_results, exp_type=exp_type, cell_type=cell_type)\n",
    "        utils.draw_heatmap(ax, data, xticks[exp_type]['vals'], PHI_LIN, xticks[exp_type]['label'], pprint['phi'], cmap, cell_type, vmax=None, vmin=None)\n",
    "        ax.set_title('%s targeting' %prefix)\n",
    "    figure.tight_layout()\n",
    "    if utils.make_sure_dir_exists(PLOT_PATH, ''):\n",
    "        plt.savefig(os.path.join(PLOT_PATH,'%s%s.png' %(prefixes[0], prefixes[1])), dpi=300)\n",
    "    plt.show()"
   ]
  },
  {
   "cell_type": "code",
   "execution_count": 38,
   "id": "5e7adea3",
   "metadata": {},
   "outputs": [
    {
     "data": {
      "text/plain": [
       "<Figure size 432x288 with 0 Axes>"
      ]
     },
     "metadata": {},
     "output_type": "display_data"
    },
    {
     "data": {
      "image/png": "[encoded data removed]",
      "text/plain": [
       "<Figure size 720x360 with 4 Axes>"
      ]
     },
     "metadata": {},
     "output_type": "display_data"
    }
   ],
   "source": [
    "compare_targeting_heatmap(exp_type='vary_thetaphi', cell_type='quality', prefixes=['none','misinformation'])\n"
   ]
  },
  {
   "cell_type": "code",
   "execution_count": 39,
   "id": "0ed63ee1",
   "metadata": {},
   "outputs": [
    {
     "data": {
      "text/plain": [
       "<Figure size 432x288 with 0 Axes>"
      ]
     },
     "metadata": {},
     "output_type": "display_data"
    },
    {
     "data": {
      "image/png": "[encoded data removed]",
      "text/plain": [
       "<Figure size 720x360 with 4 Axes>"
      ]
     },
     "metadata": {},
     "output_type": "display_data"
    }
   ],
   "source": [
    "compare_targeting_heatmap(exp_type='vary_thetaphi', cell_type='quality', prefixes=['none','partisanship'])"
   ]
  },
  {
   "cell_type": "code",
   "execution_count": 40,
   "id": "b51efe78",
   "metadata": {},
   "outputs": [
    {
     "data": {
      "text/plain": [
       "<Figure size 432x288 with 0 Axes>"
      ]
     },
     "metadata": {},
     "output_type": "display_data"
    },
    {
     "data": {
      "image/png": "[encoded data removed]",
      "text/plain": [
       "<Figure size 720x360 with 4 Axes>"
      ]
     },
     "metadata": {},
     "output_type": "display_data"
    }
   ],
   "source": [
    "compare_targeting_heatmap(exp_type='vary_thetaphi', cell_type='quality', prefixes=['none','hubs'])"
   ]
  },
  {
   "cell_type": "code",
   "execution_count": null,
   "id": "c4c15233",
   "metadata": {},
   "outputs": [],
   "source": []
  }
 ],
 "metadata": {
  "kernelspec": {
   "display_name": "Python 3 (ipykernel)",
   "language": "python",
   "name": "python3"
  },
  "language_info": {
   "codemirror_mode": {
    "name": "ipython",
    "version": 3
   },
   "file_extension": ".py",
   "mimetype": "text/x-python",
   "name": "python",
   "nbconvert_exporter": "python",
   "pygments_lexer": "ipython3",
   "version": "3.10.4"
  }
 },
 "nbformat": 4,
 "nbformat_minor": 5
}
