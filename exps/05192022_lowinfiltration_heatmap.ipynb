{
 "cells": [
  {
   "cell_type": "markdown",
   "id": "6081a540",
   "metadata": {},
   "source": [
    "Plot heatmap for low bot infiltration gamma 0.005 beta 0.01 (1 runs)"
   ]
  },
  {
   "cell_type": "code",
   "execution_count": 1,
   "id": "b91c0277",
   "metadata": {},
   "outputs": [],
   "source": [
    "from matplotlib import cm \n",
    "import gzip\n",
    "import matplotlib.pyplot as plt\n",
    "import csv\n",
    "import numpy as np \n",
    "import glob \n",
    "import json\n",
    "import os\n",
    "from matplotlib import cm\n",
    "import infosys.utils as utils \n",
    "from collections import defaultdict\n",
    "cmap = cm.get_cmap('inferno', 10)"
   ]
  },
  {
   "cell_type": "code",
   "execution_count": 2,
   "id": "37a024b8",
   "metadata": {},
   "outputs": [],
   "source": [
    "ABS_PATH = '/N/slate/baotruon/marketplace'\n",
    "DATA_PATH = os.path.join(ABS_PATH, \"data\")\n",
    "# RES_PATH = os.path.join(ABS_PATH, \"results\")\n",
    "\n",
    "all_configs = json.load(open(os.path.join(DATA_PATH,'all_configs.json'),'r'))\n",
    "config_fpath = os.path.join(DATA_PATH,'all_configs.json')"
   ]
  },
  {
   "cell_type": "code",
   "execution_count": 3,
   "id": "738e9618",
   "metadata": {},
   "outputs": [],
   "source": [
    "def read_json_compressed(fpath):\n",
    "    data=None\n",
    "    try:\n",
    "        fin = gzip.open(fpath, 'r')\n",
    "        json_bytes = fin.read()  \n",
    "        json_str = json_bytes.decode('utf-8')\n",
    "        data = json.loads(json_str)\n",
    "    except Exception as e:\n",
    "        print(e)\n",
    "    return data"
   ]
  },
  {
   "cell_type": "code",
   "execution_count": 4,
   "id": "cf53fc5f",
   "metadata": {},
   "outputs": [],
   "source": [
    "pprint = {'gamma':'$\\\\gamma$','theta': '$\\\\theta$', 'beta':'$\\\\beta$', 'phi': '$\\phi$', \n",
    "        'quality': 'Relative Average Quality', 'discriminative_pow': 'Discriminative Power', 'diversity': 'Diversity'}\n",
    "    \n",
    "BETA = [0.0001, 0.0002, 0.0005, 0.001, 0.002, 0.005, 0.02, 0.05, 0.1, 0.2, 0.5]\n",
    "GAMMA = [0.0001, 0.0002, 0.0005, 0.001, 0.002, 0.005, 0.02, 0.05, 0.1, 0.2, 0.5]\n",
    "TARGETING = [None, 'hubs', 'partisanship', 'conservative', 'liberal', 'misinformation']\n",
    "PHI_LIN = list(range(1,11))\n",
    "THETA = [1,2,4,6,8,10,12,14]\n",
    "\n",
    "heatmap_config = {'vary_thetagamma': {'x':'theta', 'y':'gamma', 'xvals':THETA, 'yvals':GAMMA},\n",
    "'vary_phigamma': {'x':'phi', 'y':'gamma', 'xvals':PHI_LIN, 'yvals':GAMMA},\n",
    "'vary_betagamma': {'x':'beta', 'y':'gamma', 'xvals':BETA, 'yvals':GAMMA},\n",
    "'vary_thetaphi': {'x':'theta', 'y':'phi', 'xvals':THETA, 'yvals':PHI_LIN}\n",
    "}\n"
   ]
  },
  {
   "cell_type": "code",
   "execution_count": 5,
   "id": "19148b03",
   "metadata": {},
   "outputs": [],
   "source": [
    "xticks = {\n",
    "        'vary_thetagamma': {'vals': THETA, 'label': pprint['theta']},\n",
    "        'vary_phigamma': {'vals': PHI_LIN, 'label': pprint['phi']},\n",
    "        'vary_betagamma': {'vals': BETA, 'label': pprint['beta']},\n",
    "        'vary_thetaphi': {'vals': THETA, 'label': pprint['theta']},\n",
    "    }"
   ]
  },
  {
   "cell_type": "code",
   "execution_count": 6,
   "id": "0da0be2a",
   "metadata": {},
   "outputs": [],
   "source": [
    "# Get data from specific directory\n",
    "def read_raw_data_singlerun(result_dir, exp_type='vary_thetaphi', file_prefix='none'):\n",
    "    #prefix: the targeting strategy, used to filter results specific to that targeting strategy\n",
    "    respath = glob.glob('%s/%s*.json' %(result_dir, file_prefix))\n",
    "    resfiles = [i.split('%s/' %result_dir)[1].replace('.json','') for i in respath]\n",
    "#     print(resfiles)\n",
    "    #fill in other config\n",
    "    all_configs = json.load(open(config_fpath,'r'))\n",
    "\n",
    "    params = {}\n",
    "    results = {}\n",
    "    #TODO: simplify this!! \n",
    "    for file in resfiles: \n",
    "#         print(file)\n",
    "        if file in all_configs[exp_type].keys():\n",
    "            params[file] = all_configs[exp_type][file]\n",
    "#             print(params)\n",
    "            fpath = os.path.join(result_dir,'%s.json' %file)\n",
    "            res = json.load(open(fpath,'r'))\n",
    "\n",
    "            if res is not None:\n",
    "                res = utils.update_dict(res, params[file])\n",
    "\n",
    "                results[file] = res\n",
    "\n",
    "    all_results = results.values()\n",
    "    return results, all_results"
   ]
  },
  {
   "cell_type": "code",
   "execution_count": 7,
   "id": "caa57be0",
   "metadata": {},
   "outputs": [],
   "source": [
    "def get_heatmap_data(all_results, exp_type='vary_thetaphi', cell_type='quality'):\n",
    "#     results: dict of exp_name - {dict of params + list of qualities across runs}\n",
    "\n",
    "    x = heatmap_config[exp_type]['x']\n",
    "    y = heatmap_config[exp_type]['y']\n",
    "\n",
    "    results = defaultdict(lambda: [])\n",
    "    for idx, yval in enumerate(heatmap_config[exp_type]['yvals']):\n",
    "        for xval in heatmap_config[exp_type]['xvals']:\n",
    "            if cell_type=='discriminative_pow':\n",
    "                #Fill 0 for exps that haven't finished running yet\n",
    "                vals = [res[cell_type][0] for res in all_results if res[x]==xval and res[y]==yval]\n",
    "                results[yval] += [np.mean(vals) if len(vals)>0 else 0] #change else back to 0\n",
    "            else:\n",
    "                vals = [res[cell_type] for res in all_results if res[x]==xval and res[y]==yval]\n",
    "                results[yval] += [np.mean(vals) if len(vals)>0 else 0]\n",
    "\n",
    "    data = np.array([row for row in results.values()])\n",
    "    return data"
   ]
  },
  {
   "cell_type": "code",
   "execution_count": 8,
   "id": "3ee453bd",
   "metadata": {},
   "outputs": [],
   "source": [
    "PLOT_PATH = '/N/slate/baotruon/marketplace/plots/vary_thetaphi_1runs_gamma0.005'\n",
    "RES_PATH = '/N/slate/baotruon/marketplace/results/vary_thetaphi_1runs_gamma0.005'"
   ]
  },
  {
   "cell_type": "code",
   "execution_count": 9,
   "id": "2e847b1c",
   "metadata": {},
   "outputs": [],
   "source": [
    "cell_type='quality'\n",
    "exp_type='vary_thetaphi'\n",
    "_, results1 = read_raw_data_singlerun(RES_PATH, exp_type=exp_type, file_prefix='none')\n",
    "data1= get_heatmap_data(results1, exp_type=exp_type, cell_type=cell_type)"
   ]
  },
  {
   "cell_type": "code",
   "execution_count": 10,
   "id": "8027b259",
   "metadata": {},
   "outputs": [],
   "source": [
    "_, results2 = read_raw_data_singlerun(RES_PATH, exp_type=exp_type, file_prefix='hubs')\n",
    "data2= get_heatmap_data(results2, exp_type=exp_type, cell_type=cell_type)"
   ]
  },
  {
   "cell_type": "code",
   "execution_count": 11,
   "id": "5c3624ee",
   "metadata": {},
   "outputs": [],
   "source": [
    "assert data1.all()==data2.all()"
   ]
  },
  {
   "cell_type": "code",
   "execution_count": 11,
   "id": "e33e8150",
   "metadata": {},
   "outputs": [],
   "source": [
    "def compare_targeting_heatmap(exp_type='vary_thetaphi', cell_type='quality', prefixes=['none','misinformation']):\n",
    "    plt.clf()\n",
    "    figure, (ax1, ax2) = plt.subplots(1,2, figsize=(10, 5), facecolor='w')\n",
    "    #get data \n",
    "    for ax, prefix in zip([ax1,ax2], prefixes):\n",
    "        _, all_results = read_raw_data_singlerun(RES_PATH, exp_type=exp_type, file_prefix=prefix)\n",
    "        data= get_heatmap_data(all_results, exp_type=exp_type, cell_type=cell_type)\n",
    "        utils.draw_heatmap(ax, data, xticks[exp_type]['vals'], PHI_LIN, xticks[exp_type]['label'], pprint['phi'], cmap, cell_type, vmax=None, vmin=None)\n",
    "        ax.set_title('%s targeting' %prefix)\n",
    "    figure.tight_layout()\n",
    "    #make sure dir exists \n",
    "    if utils.make_sure_dir_exists(PLOT_PATH, ''):\n",
    "        plt.savefig(os.path.join(PLOT_PATH,'%s%s.png' %(prefixes[0], prefixes[1])), dpi=300)\n",
    "    plt.show()"
   ]
  },
  {
   "cell_type": "code",
   "execution_count": 10,
   "id": "914b242e",
   "metadata": {},
   "outputs": [
    {
     "data": {
      "text/plain": [
       "<Figure size 432x288 with 0 Axes>"
      ]
     },
     "metadata": {},
     "output_type": "display_data"
    },
    {
     "data": {
      "image/png": "[encoded data removed]",
      "text/plain": [
       "<Figure size 720x360 with 4 Axes>"
      ]
     },
     "metadata": {},
     "output_type": "display_data"
    }
   ],
   "source": [
    "compare_targeting_heatmap(exp_type='vary_thetaphi', cell_type='quality', prefixes=['none','hubs'])\n"
   ]
  },
  {
   "cell_type": "code",
   "execution_count": 13,
   "id": "5ddba09f",
   "metadata": {},
   "outputs": [
    {
     "data": {
      "text/plain": [
       "<Figure size 432x288 with 0 Axes>"
      ]
     },
     "metadata": {},
     "output_type": "display_data"
    },
    {
     "data": {
      "image/png": "[encoded data removed]",
      "text/plain": [
       "<Figure size 720x360 with 4 Axes>"
      ]
     },
     "metadata": {},
     "output_type": "display_data"
    }
   ],
   "source": [
    "compare_targeting_heatmap(exp_type='vary_thetaphi', cell_type='quality', prefixes=['none','hubs'])"
   ]
  },
  {
   "cell_type": "code",
   "execution_count": 9,
   "id": "e7ffa8e7",
   "metadata": {},
   "outputs": [],
   "source": [
    "PLOT_PATH = '/N/slate/baotruon/marketplace/plots/vary_thetaphi_1runs_gamma0.0005'\n",
    "RES_PATH = '/N/slate/baotruon/marketplace/results/vary_thetaphi_1runs_gamma0.0005'"
   ]
  },
  {
   "cell_type": "code",
   "execution_count": 12,
   "id": "22d89570",
   "metadata": {},
   "outputs": [
    {
     "data": {
      "text/plain": [
       "<Figure size 432x288 with 0 Axes>"
      ]
     },
     "metadata": {},
     "output_type": "display_data"
    },
    {
     "data": {
      "image/png": "[encoded data removed]",
      "text/plain": [
       "<Figure size 720x360 with 4 Axes>"
      ]
     },
     "metadata": {},
     "output_type": "display_data"
    }
   ],
   "source": [
    "compare_targeting_heatmap(exp_type='vary_thetaphi', cell_type='quality', prefixes=['none','hubs'])"
   ]
  },
  {
   "cell_type": "code",
   "execution_count": null,
   "id": "19845ff6",
   "metadata": {},
   "outputs": [],
   "source": []
  }
 ],
 "metadata": {
  "kernelspec": {
   "display_name": "Python 3",
   "language": "python",
   "name": "python3"
  },
  "language_info": {
   "codemirror_mode": {
    "name": "ipython",
    "version": 3
   },
   "file_extension": ".py",
   "mimetype": "text/x-python",
   "name": "python",
   "nbconvert_exporter": "python",
   "pygments_lexer": "ipython3",
   "version": "3.7.11"
  }
 },
 "nbformat": 4,
 "nbformat_minor": 5
}
