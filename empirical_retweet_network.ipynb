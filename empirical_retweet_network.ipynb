{
 "cells": [
  {
   "cell_type": "markdown",
   "metadata": {
    "colab_type": "text",
    "id": "4VdiGhQd57n1"
   },
   "source": [
    "Code to (re)produce results in the paper \n",
    "\"Manipulating the Online Marketplace of Ideas\" \n",
    "by Xiaodan Lou, Alessandro Flammini, and Filippo Menczer\n",
    "https://arxiv.org/abs/1907.06130\n",
    "\n",
    "Notes:\n",
    "* Need Python 3.6 or later; eg: `module load python/3.6.6`\n",
    "* Remember link direction is following, opposite of info spread!\n",
    "* For large `n_humans`, it's much faster to run the simulations in parallel on a server or cluster, eg, one process for each combination of parameters (gamma, phi, mu...)\n",
    "\n",
    "\n",
    "Parameters and default values:\n",
    "```\n",
    "n_humans = 1000 # 10k for paper\n",
    "beta = 0.1 # bots/humans ratio; 0.1 for paper\n",
    "p = 0.5 # for network clustering; 0.5 for paper\n",
    "k_out = 3 # average no. friends within humans & bots; 3 for paper\n",
    "alpha = 15 # depth of feed; 15 for paper\n",
    "mu = 0.75 # average prob of new meme vs retweet; 0.75 for paper or draw from empirical distribution\n",
    "phi = 1 # bot deception >= 1: meme fitness higher than quality\n",
    "gamma = 0.1 # infiltration: probability that a human follows each bot\n",
    "epsilon = 0.01 # threshold used to check for steady-state convergence\n",
    "n_runs = 10 # or 20? number of simulations to average results\n",
    "csvfile = 'results.csv' # to save results for plotting\n",
    "```"
   ]
  },
  {
   "cell_type": "code",
   "execution_count": 1,
   "metadata": {
    "colab": {},
    "colab_type": "code",
    "id": "byMDogYTqly4"
   },
   "outputs": [],
   "source": [
    "import networkx as nx\n",
    "import random\n",
    "import numpy\n",
    "import math\n",
    "import statistics\n",
    "import csv\n",
    "import matplotlib.pyplot as plt\n",
    "from operator import itemgetter\n",
    "import sys\n",
    "import fcntl\n",
    "import time\n",
    "import bot_model\n",
    "\n",
    "%matplotlib inline\n",
    "assert(nx.__version__ >= '2.4')"
   ]
  },
  {
   "cell_type": "markdown",
   "metadata": {
    "colab_type": "text",
    "id": "19Vrw05CAZy6"
   },
   "source": [
    "# Analyses using an empirical retweet network\n",
    "## Data from Hoaxy: \n",
    "* https://doi.org/10.5281/zenodo.1402266 (`M5_centralities.csv` and `user_bot_score.calibrated.csv`) \n",
    "* https://doi.org/10.5281/zenodo.1154839 (`retweet.preelection.all.csv`) "
   ]
  },
  {
   "cell_type": "code",
   "execution_count": 14,
   "metadata": {
    "colab": {},
    "colab_type": "code",
    "id": "JjZNZsazAZYd"
   },
   "outputs": [
    {
     "name": "stdout",
     "output_type": "stream",
     "text": [
      "the retweet network has 346573 nodes\n"
     ]
    }
   ],
   "source": [
    "# read retweet network from data and assign bot flags to nodes\n",
    "# if we have bot score for a node from 'M5_centralities.csv', use it\n",
    "# else if we have the bot score from 'user_bot_score.calibrated.csv', use that\n",
    "# else assume node is human\n",
    "\n",
    "# NB: we cannot add an empty list as a node attribute, so the feed will be added when reading the file\n",
    "\n",
    "bot_score_raw = {}\n",
    "with open('M5_centralities.csv') as file:\n",
    "  next(file) # skip header line\n",
    "  reader = csv.reader(file, quoting=csv.QUOTE_NONNUMERIC)\n",
    "  for row in reader:\n",
    "    bot_score_raw[row[0]] = row[2]\n",
    "\n",
    "bot_score_cal = {}\n",
    "with open('user_bot_score.calibrated.csv') as file:\n",
    "  next(file) # skip header line\n",
    "  reader = csv.reader(file, quoting=csv.QUOTE_NONNUMERIC)\n",
    "  for row in reader:\n",
    "    bot_score_cal[row[0]] = row[1]\n",
    "\n",
    "retweets = nx.DiGraph()\n",
    "with open('retweet.preelection.all.csv') as file:\n",
    "  reader = csv.reader(file)\n",
    "  next(reader) # skip header line\n",
    "  for row in reader:\n",
    "    n1 = int(row[0])\n",
    "    n2 = int(row[1])\n",
    "    retweets.add_edge(n1, n2)\n",
    "    if n1 in bot_score_raw:\n",
    "      bot_score = bot_score_raw[n1]\n",
    "    elif n1 in bot_score_cal:\n",
    "      bot_score = bot_score_cal[n1]\n",
    "    else:\n",
    "      bot_score = 0 # assuming human by default\n",
    "    if bot_score > 0.5:\n",
    "      retweets.nodes[n1]['bot'] = True\n",
    "    else:\n",
    "      retweets.nodes[n1]['bot'] = False\n",
    "    if n2 in bot_score_raw:\n",
    "      bot_score = bot_score_raw[n2]\n",
    "    elif n2 in bot_score_cal:\n",
    "      bot_score = bot_score_cal[n2]\n",
    "    else:\n",
    "      bot_score = 0 # assuming human by default\n",
    "    if bot_score > 0.5:\n",
    "      retweets.nodes[n2]['bot'] = True\n",
    "    else:\n",
    "      retweets.nodes[n2]['bot'] = False\n",
    "\n",
    "print('the retweet network has', retweets.number_of_nodes(), 'nodes')\n",
    "# 346,573"
   ]
  },
  {
   "cell_type": "code",
   "execution_count": 15,
   "metadata": {},
   "outputs": [],
   "source": [
    "# SAVE EMPIRICAL RETWEET NETWORK TO FILE for faster reading in subsequent experiments\n",
    "\n",
    "retweet_network_file = 'retweet_network.gml'\n",
    "\n",
    "nx.write_gml(retweets, retweet_network_file)"
   ]
  },
  {
   "cell_type": "code",
   "execution_count": null,
   "metadata": {
    "colab": {},
    "colab_type": "code",
    "id": "_uUsmNzBkAYe",
    "scrolled": true
   },
   "outputs": [],
   "source": [
    "# RUN SIMULATION TO CALCULATE AVG QUALITY\n",
    "\n",
    "avg_quality = bot_model.simulation(False, network=retweets, verbose=True) # should pass params mu, phi\n",
    "print('average quality for empirical network:', avg_quality)\n",
    "# 0.3310"
   ]
  },
  {
   "cell_type": "code",
   "execution_count": 24,
   "metadata": {},
   "outputs": [
    {
     "name": "stdout",
     "output_type": "stream",
     "text": [
      "3351 bots and 343222 humans, for a ratio of beta = 0.009763360157565657\n",
      "humans on average follow a fraction gamma = 1.9402037768854127e-05 of the bots\n"
     ]
    }
   ],
   "source": [
    "RT = bot_model.read_retweet_network('retweet_network.gml')\n",
    "n_bots, n_humans, beta, gamma = bot_model.calculate_beta_gamma(RT)\n",
    "print (n_bots, 'bots and', n_humans, 'humans, for a ratio of beta =', beta)\n",
    "print ('humans on average follow a fraction gamma =', gamma, 'of the bots')\n",
    "\n",
    "# 3351 bots and 343222 humans, for a ratio of beta = 0.009763360157565657\n",
    "# humans on average follow a fraction gamma = 1.9402037768854127e-05 of the bots"
   ]
  },
  {
   "cell_type": "code",
   "execution_count": 30,
   "metadata": {},
   "outputs": [
    {
     "name": "stdout",
     "output_type": "stream",
     "text": [
      "bots = 3351 humans = 343222 beta = 0.009763360157565657 gamma = 1.9402037768854127e-05\n",
      "bots = 1676 humans = 343222 beta = 0.004883136861856175 gamma = 1.827758619708929e-05\n",
      "bots = 838 humans = 343222 beta = 0.0024415684309280873 gamma = 1.8336691954243126e-05\n",
      "bots = 419 humans = 343222 beta = 0.0012207842154640437 gamma = 1.9080729132514e-05\n",
      "bots = 210 humans = 343222 beta = 0.000611848890805368 gamma = 1.9548641431853992e-05\n",
      "bots = 105 humans = 343222 beta = 0.000305924445402684 gamma = 2.6444081312358915e-05\n",
      "bots = 53 humans = 343222 beta = 0.00015441900577468811 gamma = 1.698664036467743e-05\n",
      "bots = 3351 humans = 171611 beta = 0.019526720315131314 gamma = 1.7314460234327036e-05\n",
      "bots = 3351 humans = 85806 beta = 0.03905321306202363 gamma = 1.8644627986043056e-05\n",
      "bots = 3351 humans = 42903 beta = 0.07810642612404727 gamma = 1.7173507367111415e-05\n",
      "bots = 3351 humans = 21452 beta = 0.15620921126235315 gamma = 1.2561616607442054e-05\n",
      "bots = 3351 humans = 10726 beta = 0.3124184225247063 gamma = 1.0461058348611785e-05\n",
      "bots = 3351 humans = 5363 beta = 0.6248368450494126 gamma = 1.0572346203384221e-05\n"
     ]
    }
   ],
   "source": [
    "# sample to change the ratio of bots to humans (beta)\n",
    "\n",
    "# initial network from file: extract bots and humans\n",
    "RT = bot_model.read_retweet_network('retweet_network.gml', add_feed=False)\n",
    "n_bots, n_humans, beta, gamma = bot_model.calculate_beta_gamma(RT)\n",
    "bots = set([n for n, attr in RT.nodes(data=True) if attr['bot']])\n",
    "humans = set([n for n, attr in RT.nodes(data=True) if not attr['bot']])\n",
    "print('bots =', n_bots, 'humans =', n_humans, 'beta =', beta, 'gamma =', gamma)\n",
    "filename = 'RT_h_' + str(n_humans) + '_b_' + str(n_bots) + '.gml'\n",
    "nx.write_gml(RT, filename)\n",
    "\n",
    "# downsample bots to decrease beta\n",
    "RT_SAMPLE = RT.copy() # NOTE: the feed attributes will point to and be shared with the original!\n",
    "bots_remaining = n_bots\n",
    "while bots_remaining > 100:\n",
    "    bots_to_delete = random.sample(bots, int(bots_remaining/2))\n",
    "    bots = bots.difference(bots_to_delete)\n",
    "    RT_SAMPLE.remove_nodes_from(bots_to_delete) \n",
    "    bots_remaining, humans_remaining, beta, gamma = bot_model.calculate_beta_gamma(RT_SAMPLE)\n",
    "    print('bots =', bots_remaining, 'humans =', humans_remaining, 'beta =', beta, 'gamma =', gamma)\n",
    "    filename = 'RT_h_' + str(humans_remaining) + '_b_' + str(bots_remaining) + '.gml'\n",
    "    nx.write_gml(RT_SAMPLE, filename)\n",
    "    \n",
    "# downsample humans to increase beta\n",
    "RT_SAMPLE = RT.copy() # NOTE: the feed attributes will point to and be shared with the original!\n",
    "humans_remaining = n_humans\n",
    "while humans_remaining > 10000:\n",
    "    humans_to_delete = random.sample(humans, int(humans_remaining/2))\n",
    "    humans = humans.difference(humans_to_delete)\n",
    "    RT_SAMPLE.remove_nodes_from(humans_to_delete) \n",
    "    bots_remaining, humans_remaining, beta, gamma = bot_model.calculate_beta_gamma(RT_SAMPLE)\n",
    "    print('bots =', bots_remaining, 'humans =', humans_remaining, 'beta =', beta, 'gamma =', gamma)\n",
    "    filename = 'RT_h_' + str(humans_remaining) + '_b_' + str(bots_remaining) + '.gml'\n",
    "    nx.write_gml(RT_SAMPLE, filename)"
   ]
  },
  {
   "cell_type": "code",
   "execution_count": null,
   "metadata": {
    "collapsed": true
   },
   "outputs": [],
   "source": [
    "# MAIN: RUN SIMULATION TO CALCULATE AVG QUALITY using input network\n",
    "# see empirical_beta.job and empirical_beta.py to run these in parallel \n",
    "\n",
    "for netfile in ['RT_h_10726_b_3351.gml','RT_h_343222_b_210.gml','RT_h_42903_b_3351.gml',\n",
    "                'RT_h_171611_b_3351.gml','RT_h_343222_b_3351.gml','RT_h_5363_b_3351.gml',\n",
    "                'RT_h_21452_b_3351.gml','RT_h_343222_b_419.gml','RT_h_85806_b_3351.gml',\n",
    "                'RT_h_343222_b_105.gml','RT_h_343222_b_53.gml','RT_h_343222_b_1676.gml',\n",
    "                'RT_h_343222_b_838.gml']:\n",
    "    sampled_net = bot_model.read_retweet_network(netfile)\n",
    "    n_bots, n_humans, beta, gamma = bot_model.calculate_beta_gamma(sampled_net)\n",
    "    avg_quality = bot_model.simulation(False, network=sampled_net) # should pass params mu, phi\n",
    "    bot_model.save_csv([n_bots, n_humans, beta, gamma, avg_quality])"
   ]
  },
  {
   "cell_type": "code",
   "execution_count": 8,
   "metadata": {},
   "outputs": [
    {
     "data": {
      "text/plain": [
       "[<matplotlib.lines.Line2D at 0x7fa29b7fe4e0>]"
      ]
     },
     "execution_count": 8,
     "metadata": {},
     "output_type": "execute_result"
    },
    {
     "data": {
      "image/png": "[encoded data removed]",
      "text/plain": [
       "<matplotlib.figure.Figure at 0x7fa29b9cc3c8>"
      ]
     },
     "metadata": {},
     "output_type": "display_data"
    }
   ],
   "source": [
    "# PLOT AVG_Q vs BETA (after running simulations)\n",
    "\n",
    "beta2q = {}\n",
    "avg_q_values = []\n",
    "with open('beta.csv', newline='') as file:\n",
    "    reader = csv.reader(file, quoting=csv.QUOTE_NONNUMERIC)\n",
    "    for row in reader:\n",
    "        beta2q[row[2]] = row[4]\n",
    "\n",
    "plt.xlabel(r'$\\beta$', fontsize=16)\n",
    "plt.ylabel('Average Quality', fontsize=16)\n",
    "plt.xscale('log')\n",
    "plt.xticks(fontsize=14)\n",
    "plt.yticks(fontsize=14)\n",
    "plt.xlim((10**-4,1))\n",
    "plt.ylim((0,0.4))\n",
    "plt.plot(*zip(*sorted(beta2q.items())))"
   ]
  },
  {
   "cell_type": "code",
   "execution_count": null,
   "metadata": {},
   "outputs": [],
   "source": [
    "# replace bots by an equal number (same BETA) of synthetic bots \n",
    "# with GAMMA as a parameter using empirical bot attachment for humans\n",
    "# NB: THIS IS SLOW; BETTER RUN IN PARALLEL \n",
    "\n",
    "# initial network from file\n",
    "RT = bot_model.read_retweet_network('retweet_network.gml', add_feed=False)\n",
    "\n",
    "# for each human calculate vulnerability = number of bot friends\n",
    "# (use later for probabilities of following synthetic bots)\n",
    "# and also calculate the average out-degree of the bots\n",
    "avg_bot_kout = 0\n",
    "n_bots = 0\n",
    "n_humans = 0\n",
    "bots = []\n",
    "for n in RT.nodes:\n",
    "    bot_friends = 0\n",
    "    for friend in RT.successors(n):\n",
    "        if RT.nodes[friend]['bot']:\n",
    "            bot_friends += 1\n",
    "    if RT.nodes[n]['bot']:\n",
    "        n_bots += 1\n",
    "        avg_bot_kout += bot_friends\n",
    "        bots.append(n)\n",
    "    else:\n",
    "        n_humans += 1\n",
    "        RT.nodes[n]['vulnerability'] = bot_friends\n",
    "avg_bot_kout /= n_bots\n",
    "#print('avg_bot_kout =', avg_bot_kout) # avg_bot_kout = 3.245\n",
    "\n",
    "#remove bots\n",
    "RT.remove_nodes_from(bots)\n",
    "\n",
    "# add synthetic bots; we preserve the empirical bot k_out, to the nearest integer \n",
    "# (happens to be 3 like in artificial networks :)\n",
    "k_out = round(avg_bot_kout) \n",
    "B = bot_model.random_walk_network(n_bots)\n",
    "for b in B.nodes:\n",
    "    B.nodes[b]['bot'] = True\n",
    "\n",
    "# create new networks with synthetic bots and have vulnerable humans follow bots according to GAMMA\n",
    "for gamma in [0.00001, 0.0001, 0.001, 0.01, 0.1]: \n",
    "    SYN = nx.disjoint_union(RT, B)\n",
    "    humans = []\n",
    "    bots = []\n",
    "    weights = []\n",
    "    for n in SYN.nodes:\n",
    "        if SYN.nodes[n]['bot']:\n",
    "            bots.append(n)\n",
    "        else:\n",
    "            humans.append(n)\n",
    "            weights.append(SYN.nodes[n]['vulnerability'])\n",
    "            del SYN.nodes[n]['vulnerability'] # no longer needed\n",
    "    n_followers = round(n_humans * gamma)\n",
    "    for b in bots:\n",
    "        followers = bot_model.sample_with_prob_without_replacement(humans, n_followers, weights)\n",
    "        for f in followers:\n",
    "            SYN.add_edge(f, b)\n",
    "    filename = 'RT_gamma_' + str(gamma) + '.gml'\n",
    "    nx.write_gml(SYN, filename)\n",
    "    print('saved', filename)"
   ]
  },
  {
   "cell_type": "code",
   "execution_count": 61,
   "metadata": {},
   "outputs": [
    {
     "data": {
      "text/plain": [
       "[<matplotlib.lines.Line2D at 0x7fa297c314e0>]"
      ]
     },
     "execution_count": 61,
     "metadata": {},
     "output_type": "execute_result"
    },
    {
     "data": {
      "image/png": "[encoded data removed]",
      "text/plain": [
       "<matplotlib.figure.Figure at 0x7fa29b6d1fd0>"
      ]
     },
     "metadata": {},
     "output_type": "display_data"
    }
   ],
   "source": [
    "# PLOT AVG_Q vs GAMMA (after running simulations)\n",
    "\n",
    "gamma2q = {}\n",
    "avg_q_values = []\n",
    "with open('gamma.csv', newline='') as file:\n",
    "    reader = csv.reader(file, quoting=csv.QUOTE_NONNUMERIC)\n",
    "    for row in reader:\n",
    "        gamma2q[row[3]] = row[4]\n",
    "\n",
    "plt.xlabel(r'$\\gamma$', fontsize=16)\n",
    "plt.ylabel('Average Quality', fontsize=16)\n",
    "plt.xscale('log')\n",
    "plt.ylim((0,0.4))\n",
    "plt.xticks(fontsize=14)\n",
    "plt.yticks(fontsize=14)\n",
    "plt.plot(*zip(*sorted(gamma2q.items())))"
   ]
  },
  {
   "cell_type": "code",
   "execution_count": 10,
   "metadata": {},
   "outputs": [
    {
     "data": {
      "text/plain": [
       "[<matplotlib.lines.Line2D at 0x7fa29b6ce240>]"
      ]
     },
     "execution_count": 10,
     "metadata": {},
     "output_type": "execute_result"
    },
    {
     "data": {
      "image/png": "[encoded data removed]",
      "text/plain": [
       "<matplotlib.figure.Figure at 0x7fa29b9e8d30>"
      ]
     },
     "metadata": {},
     "output_type": "display_data"
    }
   ],
   "source": [
    "# PLOT AVG_Q vs PHI (after running experiments)\n",
    "\n",
    "phi2q = {}\n",
    "avg_q_values = []\n",
    "with open('phi.csv', newline='') as file:\n",
    "    reader = csv.reader(file, quoting=csv.QUOTE_NONNUMERIC)\n",
    "    for row in reader:\n",
    "        phi2q[row[0]] = row[1]\n",
    "\n",
    "plt.xlabel(r'$\\phi$', fontsize=16)\n",
    "plt.ylabel('Average Quality', fontsize=16)\n",
    "plt.xlim((0.5,10.5))\n",
    "plt.ylim((0,0.4))\n",
    "plt.xticks(fontsize=14)\n",
    "plt.yticks(fontsize=14)\n",
    "plt.plot(*zip(*sorted(phi2q.items())))"
   ]
  },
  {
   "cell_type": "code",
   "execution_count": 62,
   "metadata": {},
   "outputs": [
    {
     "data": {
      "text/plain": [
       "[<matplotlib.lines.Line2D at 0x7fa2978d7470>]"
      ]
     },
     "execution_count": 62,
     "metadata": {},
     "output_type": "execute_result"
    },
    {
     "data": {
      "image/png": "[encoded data removed]",
      "text/plain": [
       "<matplotlib.figure.Figure at 0x7fa297b4fc88>"
      ]
     },
     "metadata": {},
     "output_type": "display_data"
    }
   ],
   "source": [
    "## Combine the three plots\n",
    "\n",
    "fig, (ax_beta, ax_gamma, ax_phi) = plt.subplots(1,3, sharey=True, figsize=(10,5))\n",
    "for ax in fig.get_axes():\n",
    "    ax.tick_params(axis='both', which='major', labelsize=14)\n",
    "    ax.set_ylim((-0.01,0.36))\n",
    "\n",
    "ax_beta.set_xlabel(r'$\\beta$', fontsize=16)\n",
    "ax_beta.set_xscale('log')\n",
    "ax_beta.set_xlim((10**-4,1))\n",
    "ax_beta.plot(*zip(*sorted(beta2q.items())))\n",
    "ax_beta.set_ylabel('Average Quality', fontsize=16)\n",
    "\n",
    "ax_gamma.set_xlabel(r'$\\gamma$', fontsize=16)\n",
    "ax_gamma.set_xscale('log')\n",
    "ax_gamma.set_xlim((5*10**-6,0.2))\n",
    "ax_gamma.set_xticks([10**-5, 10**-3, 0.1])\n",
    "ax_gamma.plot(*zip(*sorted(gamma2q.items())))\n",
    "\n",
    "ax_phi.set_xlabel(r'$\\phi$', fontsize=16)\n",
    "ax_phi.set_xlim((0.5,10.5))\n",
    "ax_phi.set_xticks([1,4,7,10])\n",
    "ax_phi.plot(*zip(*sorted(phi2q.items())))"
   ]
  },
  {
   "cell_type": "code",
   "execution_count": 11,
   "metadata": {},
   "outputs": [
    {
     "data": {
      "text/plain": [
       "[<matplotlib.lines.Line2D at 0x7fa29b57b278>]"
      ]
     },
     "execution_count": 11,
     "metadata": {},
     "output_type": "execute_result"
    },
    {
     "data": {
      "image/png": "[encoded data removed]",
      "text/plain": [
       "<matplotlib.figure.Figure at 0x7fa29b786cc0>"
      ]
     },
     "metadata": {},
     "output_type": "display_data"
    }
   ],
   "source": [
    "# PLOT AVG_Q vs FLOOD (after running experiments)\n",
    "# FLOOD (theta) is a multiplier for content posted by bots \n",
    "\n",
    "flood2q = {}\n",
    "avg_q_values = []\n",
    "with open('flood.csv', newline='') as file:\n",
    "    reader = csv.reader(file, quoting=csv.QUOTE_NONNUMERIC)\n",
    "    for row in reader:\n",
    "        flood2q[row[0]] = row[1]\n",
    "\n",
    "plt.xlabel(r'$\\theta$', fontsize=16)\n",
    "plt.ylabel('Average Quality', fontsize=16)\n",
    "plt.xscale('log')\n",
    "plt.ylim((0,0.4))\n",
    "plt.xticks(fontsize=14)\n",
    "plt.yticks(fontsize=14)\n",
    "plt.plot(*zip(*sorted(flood2q.items())))"
   ]
  },
  {
   "cell_type": "code",
   "execution_count": null,
   "metadata": {
    "collapsed": true
   },
   "outputs": [],
   "source": []
  }
 ],
 "metadata": {
  "colab": {
   "authorship_tag": "ABX9TyOSxEIALiDmxBIQ2EnwyIcJ",
   "collapsed_sections": [],
   "name": "bot_model_xiaodan.ipynb",
   "provenance": []
  },
  "kernelspec": {
   "display_name": "Python 3",
   "language": "python",
   "name": "python3"
  },
  "language_info": {
   "codemirror_mode": {
    "name": "ipython",
    "version": 3
   },
   "file_extension": ".py",
   "mimetype": "text/x-python",
   "name": "python",
   "nbconvert_exporter": "python",
   "pygments_lexer": "ipython3",
   "version": "3.8.8"
  }
 },
 "nbformat": 4,
 "nbformat_minor": 1
}
