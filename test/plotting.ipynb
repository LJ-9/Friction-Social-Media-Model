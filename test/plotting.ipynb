{
 "cells": [
  {
   "cell_type": "code",
   "execution_count": 9,
   "id": "written-pioneer",
   "metadata": {
    "ExecuteTime": {
     "end_time": "2022-03-27T19:57:24.850826Z",
     "start_time": "2022-03-27T19:57:23.696121Z"
    }
   },
   "outputs": [],
   "source": [
    "import matplotlib.pyplot as plt\n",
    "import csv"
   ]
  },
  {
   "cell_type": "code",
   "execution_count": 15,
   "id": "intensive-arrest",
   "metadata": {
    "ExecuteTime": {
     "end_time": "2022-03-27T19:59:15.296293Z",
     "start_time": "2022-03-27T19:59:15.283354Z"
    }
   },
   "outputs": [],
   "source": [
    "def plot_avg_quality(data_files, labels, xlabel, log_flag=False, baseline=0.5, path=\"\"):\n",
    "    assert len(data_files) == len(labels)\n",
    "    plt.gca().set_prop_cycle(\n",
    "        plt.rcParams[\"axes.prop_cycle\"] + plt.cycler(marker=list(\".s*o^v<>+x\"))\n",
    "    )\n",
    "    if log_flag:\n",
    "        plt.xscale(\"log\")\n",
    "    plt.xlabel(xlabel, fontsize=16)\n",
    "    plt.ylabel(\"Relative Average Quality\", fontsize=16)\n",
    "    plt.xticks(fontsize=14)\n",
    "    plt.yticks(fontsize=14)\n",
    "    plt.ylim(bottom=0)\n",
    "    for i in range(len(data_files)):\n",
    "        data = {}\n",
    "        with open(path + data_files[i], newline=\"\") as f:\n",
    "            reader = csv.reader(f, quoting=csv.QUOTE_NONNUMERIC)\n",
    "            for row in reader:\n",
    "                data[row[0]] = row[1] / baseline\n",
    "        a, b= zip(*sorted(data.items()))\n",
    "        plt.plot(a, b, label=labels[i])\n",
    "#         plt.plot(*zip(*sorted(data.items())), label=labels[i])\n",
    "    plt.legend()"
   ]
  },
  {
   "cell_type": "code",
   "execution_count": 2,
   "id": "executive-arctic",
   "metadata": {
    "ExecuteTime": {
     "end_time": "2022-03-27T19:47:35.924803Z",
     "start_time": "2022-03-27T19:47:35.802095Z"
    }
   },
   "outputs": [
    {
     "name": "stdout",
     "output_type": "stream",
     "text": [
      "/Users/baott/marketplace\r\n"
     ]
    }
   ],
   "source": [
    "!pwd"
   ]
  },
  {
   "cell_type": "code",
   "execution_count": 7,
   "id": "incoming-greece",
   "metadata": {
    "ExecuteTime": {
     "end_time": "2022-03-27T19:48:13.935220Z",
     "start_time": "2022-03-27T19:48:13.921018Z"
    }
   },
   "outputs": [
    {
     "name": "stdout",
     "output_type": "stream",
     "text": [
      "[0.01, 2.0]\n",
      "[0.02, 5.0]\n",
      "[0.03, 7.0]\n",
      "[0.04, 9.0]\n"
     ]
    }
   ],
   "source": [
    "import csv \n",
    "\n",
    "data = {}\n",
    "baseline=1\n",
    "with open('fake_data.csv', newline=\"\") as f:\n",
    "    reader = csv.reader(f, quoting=csv.QUOTE_NONNUMERIC)\n",
    "    for row in reader:\n",
    "        print(row)\n",
    "        data[row[0]] = row[1] / baseline"
   ]
  },
  {
   "cell_type": "code",
   "execution_count": 18,
   "id": "faced-price",
   "metadata": {
    "ExecuteTime": {
     "end_time": "2022-03-27T20:00:18.158810Z",
     "start_time": "2022-03-27T20:00:18.027073Z"
    }
   },
   "outputs": [
    {
     "data": {
      "text/plain": [
       "[<matplotlib.lines.Line2D at 0x7fc1f8371b10>]"
      ]
     },
     "execution_count": 18,
     "metadata": {},
     "output_type": "execute_result"
    },
    {
     "data": {
      "image/png": "[encoded data removed]",
      "text/plain": [
       "<Figure size 432x288 with 1 Axes>"
      ]
     },
     "metadata": {
      "needs_background": "light"
     },
     "output_type": "display_data"
    }
   ],
   "source": [
    "plt.plot(a,b)"
   ]
  },
  {
   "cell_type": "code",
   "execution_count": 12,
   "id": "chicken-statistics",
   "metadata": {
    "ExecuteTime": {
     "end_time": "2022-03-27T19:58:36.150171Z",
     "start_time": "2022-03-27T19:58:36.140009Z"
    }
   },
   "outputs": [],
   "source": [
    "a, b = zip(*sorted(data.items()))"
   ]
  },
  {
   "cell_type": "code",
   "execution_count": 13,
   "id": "induced-reliance",
   "metadata": {
    "ExecuteTime": {
     "end_time": "2022-03-27T19:58:38.614358Z",
     "start_time": "2022-03-27T19:58:38.609796Z"
    }
   },
   "outputs": [
    {
     "data": {
      "text/plain": [
       "(0.01, 0.02, 0.03, 0.04)"
      ]
     },
     "execution_count": 13,
     "metadata": {},
     "output_type": "execute_result"
    }
   ],
   "source": [
    "a"
   ]
  },
  {
   "cell_type": "code",
   "execution_count": 14,
   "id": "smooth-break",
   "metadata": {
    "ExecuteTime": {
     "end_time": "2022-03-27T19:58:40.623977Z",
     "start_time": "2022-03-27T19:58:40.616266Z"
    }
   },
   "outputs": [
    {
     "data": {
      "text/plain": [
       "(2.0, 5.0, 7.0, 9.0)"
      ]
     },
     "execution_count": 14,
     "metadata": {},
     "output_type": "execute_result"
    }
   ],
   "source": [
    "b"
   ]
  },
  {
   "cell_type": "code",
   "execution_count": 6,
   "id": "polished-english",
   "metadata": {
    "ExecuteTime": {
     "end_time": "2022-03-27T19:48:05.567869Z",
     "start_time": "2022-03-27T19:48:05.548178Z"
    }
   },
   "outputs": [
    {
     "data": {
      "text/plain": [
       "{0.01: 2.0, 0.02: 5.0, 0.03: 7.0, 0.04: 9.0}"
      ]
     },
     "execution_count": 6,
     "metadata": {},
     "output_type": "execute_result"
    }
   ],
   "source": [
    "data"
   ]
  },
  {
   "cell_type": "code",
   "execution_count": 17,
   "id": "automotive-northwest",
   "metadata": {
    "ExecuteTime": {
     "end_time": "2022-03-27T19:59:51.583863Z",
     "start_time": "2022-03-27T19:59:51.359922Z"
    }
   },
   "outputs": [
    {
     "data": {
      "image/png": "[encoded data removed]",
      "text/plain": [
       "<Figure size 432x288 with 1 Axes>"
      ]
     },
     "metadata": {
      "needs_background": "light"
     },
     "output_type": "display_data"
    }
   ],
   "source": [
    "plot_avg_quality(['fake_data.csv'], \n",
    "                 [r'$\\beta=0.01, \\theta=1$'], \n",
    "                 r'$\\gamma$', path='', log_flag=False)"
   ]
  },
  {
   "cell_type": "code",
   "execution_count": 41,
   "id": "civil-variance",
   "metadata": {
    "ExecuteTime": {
     "end_time": "2022-03-28T03:08:40.885124Z",
     "start_time": "2022-03-28T03:08:40.873329Z"
    }
   },
   "outputs": [],
   "source": [
    "alist = [{'name':'Homer', 'age':39}, {'name':'Bart', 'age':15}, \n",
    "         {'name':'Ng', 'age':10}, {'name':'Ev', 'age':29}]"
   ]
  },
  {
   "cell_type": "code",
   "execution_count": 42,
   "id": "capable-biotechnology",
   "metadata": {
    "ExecuteTime": {
     "end_time": "2022-03-28T03:08:41.344737Z",
     "start_time": "2022-03-28T03:08:41.335729Z"
    }
   },
   "outputs": [],
   "source": [
    "newlist = sorted(alist, key=lambda d: d['name']) "
   ]
  },
  {
   "cell_type": "code",
   "execution_count": 43,
   "id": "pressing-kitty",
   "metadata": {
    "ExecuteTime": {
     "end_time": "2022-03-28T03:08:42.190653Z",
     "start_time": "2022-03-28T03:08:42.179538Z"
    }
   },
   "outputs": [
    {
     "data": {
      "text/plain": [
       "[{'name': 'Bart', 'age': 15},\n",
       " {'name': 'Ev', 'age': 29},\n",
       " {'name': 'Homer', 'age': 39},\n",
       " {'name': 'Ng', 'age': 10}]"
      ]
     },
     "execution_count": 43,
     "metadata": {},
     "output_type": "execute_result"
    }
   ],
   "source": [
    "newlist"
   ]
  },
  {
   "cell_type": "code",
   "execution_count": 44,
   "id": "continuous-chemistry",
   "metadata": {
    "ExecuteTime": {
     "end_time": "2022-03-28T03:08:44.559234Z",
     "start_time": "2022-03-28T03:08:44.549056Z"
    }
   },
   "outputs": [],
   "source": [
    "for ith,elem in enumerate(newlist):\n",
    "    elem.update({'ith':ith})"
   ]
  },
  {
   "cell_type": "code",
   "execution_count": 51,
   "id": "polar-cassette",
   "metadata": {
    "ExecuteTime": {
     "end_time": "2022-03-28T03:14:22.043864Z",
     "start_time": "2022-03-28T03:14:22.033099Z"
    }
   },
   "outputs": [],
   "source": [
    "newlist.remove({'name': 'Bart', 'age': 15, 'ith': 0, 'i_th': 1})"
   ]
  },
  {
   "cell_type": "code",
   "execution_count": 53,
   "id": "utility-greensboro",
   "metadata": {
    "ExecuteTime": {
     "end_time": "2022-03-28T03:14:28.639245Z",
     "start_time": "2022-03-28T03:14:28.621895Z"
    }
   },
   "outputs": [
    {
     "data": {
      "text/plain": [
       "[{'name': 'Ev', 'age': 29, 'ith': 1, 'i_th': 2},\n",
       " {'name': 'Homer', 'age': 39, 'ith': 2, 'i_th': 3},\n",
       " {'name': 'Ng', 'age': 10, 'ith': 3, 'i_th': 0}]"
      ]
     },
     "execution_count": 53,
     "metadata": {},
     "output_type": "execute_result"
    }
   ],
   "source": [
    "newlist"
   ]
  },
  {
   "cell_type": "code",
   "execution_count": 45,
   "id": "handed-poker",
   "metadata": {
    "ExecuteTime": {
     "end_time": "2022-03-28T03:08:45.061872Z",
     "start_time": "2022-03-28T03:08:45.047918Z"
    }
   },
   "outputs": [
    {
     "data": {
      "text/plain": [
       "[{'name': 'Bart', 'age': 15, 'ith': 0},\n",
       " {'name': 'Ev', 'age': 29, 'ith': 1},\n",
       " {'name': 'Homer', 'age': 39, 'ith': 2},\n",
       " {'name': 'Ng', 'age': 10, 'ith': 3}]"
      ]
     },
     "execution_count": 45,
     "metadata": {},
     "output_type": "execute_result"
    }
   ],
   "source": [
    "newlist"
   ]
  },
  {
   "cell_type": "code",
   "execution_count": 46,
   "id": "peripheral-cursor",
   "metadata": {
    "ExecuteTime": {
     "end_time": "2022-03-28T03:08:50.217526Z",
     "start_time": "2022-03-28T03:08:50.209377Z"
    }
   },
   "outputs": [],
   "source": [
    "b = sorted(newlist, key=lambda d: d['age']) "
   ]
  },
  {
   "cell_type": "code",
   "execution_count": 48,
   "id": "caroline-tender",
   "metadata": {
    "ExecuteTime": {
     "end_time": "2022-03-28T03:09:11.794526Z",
     "start_time": "2022-03-28T03:09:11.790510Z"
    }
   },
   "outputs": [],
   "source": [
    "for ith,elem in enumerate(b):\n",
    "    elem.update({'i_th':ith})"
   ]
  },
  {
   "cell_type": "code",
   "execution_count": 49,
   "id": "amino-imagination",
   "metadata": {
    "ExecuteTime": {
     "end_time": "2022-03-28T03:09:13.949326Z",
     "start_time": "2022-03-28T03:09:13.936078Z"
    }
   },
   "outputs": [
    {
     "data": {
      "text/plain": [
       "[{'name': 'Ng', 'age': 10, 'ith': 3, 'i_th': 0},\n",
       " {'name': 'Bart', 'age': 15, 'ith': 0, 'i_th': 1},\n",
       " {'name': 'Ev', 'age': 29, 'ith': 1, 'i_th': 2},\n",
       " {'name': 'Homer', 'age': 39, 'ith': 2, 'i_th': 3}]"
      ]
     },
     "execution_count": 49,
     "metadata": {},
     "output_type": "execute_result"
    }
   ],
   "source": [
    "b"
   ]
  },
  {
   "cell_type": "code",
   "execution_count": 34,
   "id": "functional-modification",
   "metadata": {
    "ExecuteTime": {
     "end_time": "2022-03-28T03:04:16.581821Z",
     "start_time": "2022-03-28T03:04:16.578491Z"
    }
   },
   "outputs": [],
   "source": [
    "idx = range(len(alist))\n",
    "name_ranked = zip(idx,newlist)"
   ]
  },
  {
   "cell_type": "code",
   "execution_count": 35,
   "id": "loved-champion",
   "metadata": {
    "ExecuteTime": {
     "end_time": "2022-03-28T03:04:17.764290Z",
     "start_time": "2022-03-28T03:04:17.749166Z"
    }
   },
   "outputs": [
    {
     "data": {
      "text/plain": [
       "[(0, {'name': 'Bart', 'age': 10}),\n",
       " (1, {'name': 'Ev', 'age': 10}),\n",
       " (2, {'name': 'Homer', 'age': 39}),\n",
       " (3, {'name': 'Ng', 'age': 10})]"
      ]
     },
     "execution_count": 35,
     "metadata": {},
     "output_type": "execute_result"
    }
   ],
   "source": [
    "list(name_ranked)"
   ]
  },
  {
   "cell_type": "code",
   "execution_count": null,
   "id": "traditional-analyst",
   "metadata": {},
   "outputs": [],
   "source": []
  },
  {
   "cell_type": "code",
   "execution_count": 36,
   "id": "built-burlington",
   "metadata": {
    "ExecuteTime": {
     "end_time": "2022-03-28T03:04:26.968359Z",
     "start_time": "2022-03-28T03:04:26.963919Z"
    }
   },
   "outputs": [],
   "source": [
    "updated = []\n",
    "for ith,elem in list(name_ranked):\n",
    "    print(elem)\n",
    "    elem.update({'name_rank':ith}) \n",
    "    updated += [elem]"
   ]
  },
  {
   "cell_type": "code",
   "execution_count": 33,
   "id": "shaped-guess",
   "metadata": {
    "ExecuteTime": {
     "end_time": "2022-03-28T03:04:13.937376Z",
     "start_time": "2022-03-28T03:04:13.922996Z"
    }
   },
   "outputs": [
    {
     "data": {
      "text/plain": [
       "[]"
      ]
     },
     "execution_count": 33,
     "metadata": {},
     "output_type": "execute_result"
    }
   ],
   "source": [
    "updated"
   ]
  },
  {
   "cell_type": "code",
   "execution_count": null,
   "id": "capable-weapon",
   "metadata": {},
   "outputs": [],
   "source": []
  }
 ],
 "metadata": {
  "kernelspec": {
   "display_name": "Python 3",
   "language": "python",
   "name": "python3"
  },
  "language_info": {
   "codemirror_mode": {
    "name": "ipython",
    "version": 3
   },
   "file_extension": ".py",
   "mimetype": "text/x-python",
   "name": "python",
   "nbconvert_exporter": "python",
   "pygments_lexer": "ipython3",
   "version": "3.7.10"
  },
  "toc": {
   "base_numbering": 1,
   "nav_menu": {},
   "number_sections": true,
   "sideBar": true,
   "skip_h1_title": false,
   "title_cell": "Table of Contents",
   "title_sidebar": "Contents",
   "toc_cell": false,
   "toc_position": {},
   "toc_section_display": true,
   "toc_window_display": false
  }
 },
 "nbformat": 4,
 "nbformat_minor": 5
}
