{
 "cells": [
  {
   "cell_type": "code",
   "execution_count": 2,
   "metadata": {},
   "outputs": [],
   "source": [
    "\"\"\" Script for running simulation - Use for debugging\"\"\"\n",
    "from infosys.ig_InfoSys import InfoSystem\n",
    "import infosys.utils as utils\n",
    "import infosys.ig_utils as ig_utils\n",
    "import infosys.graphutils as graphutils\n",
    "\n",
    "import igraph\n",
    "import networkx as nx \n",
    "from pathlib import Path\n",
    "import pickle as pkl \n",
    "import json\n",
    "import os\n",
    "\n",
    "ABS_PATH = \"/N/u/baotruon/Carbonate/marketplace\"\n",
    "# ABS_PATH = ''\n",
    "# DATA_PATH = os.path.join(ABS_PATH, \"data\")\n",
    "DATA_PATH = '/N/slate/baotruon/marketplace/data'\n",
    "\n",
    "follower_path = os.path.join(DATA_PATH, \"follower_network.gml\")\n",
    "\n",
    "hub = os.path.join(DATA_PATH, 'vary_thetagamma/13_gamma0.001.json')\n",
    "nohub= os.path.join(DATA_PATH, 'vary_betagamma/gamma0.001.json')\n",
    "\n",
    "default_infosys = {\n",
    "    \"trackmeme\": True,\n",
    "    \"tracktimestep\": True,\n",
    "    \"verbose\": False,\n",
    "    \"epsilon\": 0.001,\n",
    "    \"mu\": 0.5,\n",
    "    \"phi\": 1,\n",
    "    \"alpha\": 15,\n",
    "    \"theta\": 1\n",
    "}\n",
    "\n"
   ]
  },
  {
   "cell_type": "code",
   "execution_count": 5,
   "metadata": {},
   "outputs": [
    {
     "ename": "FileNotFoundError",
     "evalue": "[Errno 2] No such file or directory: '/N/slate/baotruon/marketplace/data/vary_betagamma/gamma0.001.json'",
     "output_type": "error",
     "traceback": [
      "\u001b[0;31m---------------------------------------------------------------------------\u001b[0m",
      "\u001b[0;31mFileNotFoundError\u001b[0m                         Traceback (most recent call last)",
      "\u001b[0;32m/var/folders/yc/9r4mxr9x4xjfl8r3q6jj171c0000gq/T/ipykernel_58505/3071867521.py\u001b[0m in \u001b[0;36m<cell line: 1>\u001b[0;34m()\u001b[0m\n\u001b[0;32m----> 1\u001b[0;31m \u001b[0mG\u001b[0m \u001b[0;34m=\u001b[0m \u001b[0migraph\u001b[0m\u001b[0;34m.\u001b[0m\u001b[0mGraph\u001b[0m\u001b[0;34m.\u001b[0m\u001b[0mRead_GML\u001b[0m\u001b[0;34m(\u001b[0m\u001b[0mnohub\u001b[0m\u001b[0;34m)\u001b[0m\u001b[0;34m\u001b[0m\u001b[0;34m\u001b[0m\u001b[0m\n\u001b[0m",
      "\u001b[0;31mFileNotFoundError\u001b[0m: [Errno 2] No such file or directory: '/N/slate/baotruon/marketplace/data/vary_betagamma/gamma0.001.json'"
     ]
    }
   ],
   "source": [
    "G = igraph.Graph.Read_GML(nohub)"
   ]
  },
  {
   "cell_type": "code",
   "execution_count": null,
   "metadata": {},
   "outputs": [],
   "source": [
    "def bao_simulation(net_fpath, infosys_specs, mode='igraph'):\n",
    "    if utils.make_sure_file_exists(net_fpath) is True:\n",
    "        \n",
    "    else:\n",
    "        print('Network file doesnt exist! ')\n",
    "        "
   ]
  },
  {
   "cell_type": "code",
   "execution_count": 3,
   "metadata": {},
   "outputs": [],
   "source": [
    "infosys_specs= default_infosys\n",
    "net_fpath = nohub\n",
    "mode='igraph'"
   ]
  },
  {
   "cell_type": "code",
   "execution_count": 4,
   "metadata": {},
   "outputs": [
    {
     "name": "stdout",
     "output_type": "stream",
     "text": [
      "Create InfoSystem instance..\n",
      "Time step saved at 1649911315\n",
      "[Errno 2] No such file or directory: '/N/slate/baotruon/marketplace/data/vary_betagamma/gamma0.001.json'\n"
     ]
    },
    {
     "ename": "AttributeError",
     "evalue": "'NoneType' object has no attribute 'vcount'",
     "output_type": "error",
     "traceback": [
      "\u001b[0;31m---------------------------------------------------------------------------\u001b[0m",
      "\u001b[0;31mAttributeError\u001b[0m                            Traceback (most recent call last)",
      "\u001b[0;32m/var/folders/yc/9r4mxr9x4xjfl8r3q6jj171c0000gq/T/ipykernel_58505/1514297832.py\u001b[0m in \u001b[0;36m<cell line: 8>\u001b[0;34m()\u001b[0m\n\u001b[1;32m      6\u001b[0m \u001b[0mprint\u001b[0m\u001b[0;34m(\u001b[0m\u001b[0;34m\"Create InfoSystem instance..\"\u001b[0m\u001b[0;34m)\u001b[0m\u001b[0;34m\u001b[0m\u001b[0;34m\u001b[0m\u001b[0m\n\u001b[1;32m      7\u001b[0m \u001b[0mprint\u001b[0m\u001b[0;34m(\u001b[0m\u001b[0;34m\"Time step saved at %s\"\u001b[0m \u001b[0;34m%\u001b[0m\u001b[0mts\u001b[0m\u001b[0;34m)\u001b[0m\u001b[0;34m\u001b[0m\u001b[0;34m\u001b[0m\u001b[0m\n\u001b[0;32m----> 8\u001b[0;31m \u001b[0mfollower_sys\u001b[0m \u001b[0;34m=\u001b[0m \u001b[0mInfoSystem\u001b[0m\u001b[0;34m(\u001b[0m\u001b[0;34m**\u001b[0m\u001b[0minfosys_specs\u001b[0m\u001b[0;34m)\u001b[0m\u001b[0;34m\u001b[0m\u001b[0;34m\u001b[0m\u001b[0m\n\u001b[0m\u001b[1;32m      9\u001b[0m \u001b[0mprint\u001b[0m\u001b[0;34m(\u001b[0m\u001b[0;34m\"Start simulation (mode: %s)..\"\u001b[0m \u001b[0;34m%\u001b[0m\u001b[0mmode\u001b[0m\u001b[0;34m)\u001b[0m\u001b[0;34m\u001b[0m\u001b[0;34m\u001b[0m\u001b[0m\n\u001b[1;32m     10\u001b[0m \u001b[0mavg_quality\u001b[0m\u001b[0;34m,\u001b[0m \u001b[0mdiversity\u001b[0m\u001b[0;34m,\u001b[0m \u001b[0mtau_tuple\u001b[0m\u001b[0;34m,\u001b[0m \u001b[0mquality_timestep\u001b[0m\u001b[0;34m=\u001b[0m \u001b[0mfollower_sys\u001b[0m\u001b[0;34m.\u001b[0m\u001b[0msimulation\u001b[0m\u001b[0;34m(\u001b[0m\u001b[0;34m)\u001b[0m\u001b[0;34m\u001b[0m\u001b[0;34m\u001b[0m\u001b[0m\n",
      "\u001b[0;32m~/marketplace/infosys/ig_InfoSys.py\u001b[0m in \u001b[0;36m__init__\u001b[0;34m(self, graph_gml, mode, trackmeme, tracktimestep, verbose, epsilon, mu, phi, alpha, theta)\u001b[0m\n\u001b[1;32m     64\u001b[0m             \u001b[0;32mexcept\u001b[0m \u001b[0mException\u001b[0m \u001b[0;32mas\u001b[0m \u001b[0me\u001b[0m\u001b[0;34m:\u001b[0m\u001b[0;34m\u001b[0m\u001b[0;34m\u001b[0m\u001b[0m\n\u001b[1;32m     65\u001b[0m                 \u001b[0mprint\u001b[0m\u001b[0;34m(\u001b[0m\u001b[0me\u001b[0m\u001b[0;34m)\u001b[0m\u001b[0;34m\u001b[0m\u001b[0;34m\u001b[0m\u001b[0m\n\u001b[0;32m---> 66\u001b[0;31m             \u001b[0mself\u001b[0m\u001b[0;34m.\u001b[0m\u001b[0mn_agents\u001b[0m \u001b[0;34m=\u001b[0m \u001b[0mself\u001b[0m\u001b[0;34m.\u001b[0m\u001b[0mnetwork\u001b[0m\u001b[0;34m.\u001b[0m\u001b[0mvcount\u001b[0m\u001b[0;34m(\u001b[0m\u001b[0;34m)\u001b[0m\u001b[0;34m\u001b[0m\u001b[0;34m\u001b[0m\u001b[0m\n\u001b[0m\u001b[1;32m     67\u001b[0m             \u001b[0mself\u001b[0m\u001b[0;34m.\u001b[0m\u001b[0magent_feeds\u001b[0m \u001b[0;34m=\u001b[0m \u001b[0;34m{\u001b[0m\u001b[0magent\u001b[0m\u001b[0;34m[\u001b[0m\u001b[0;34m'uid'\u001b[0m\u001b[0;34m]\u001b[0m\u001b[0;34m:\u001b[0m\u001b[0;34m[\u001b[0m\u001b[0;34m]\u001b[0m \u001b[0;32mfor\u001b[0m \u001b[0magent\u001b[0m \u001b[0;32min\u001b[0m \u001b[0mself\u001b[0m\u001b[0;34m.\u001b[0m\u001b[0mnetwork\u001b[0m\u001b[0;34m.\u001b[0m\u001b[0mvs\u001b[0m\u001b[0;34m}\u001b[0m \u001b[0;31m#init an empty feed for all agents\u001b[0m\u001b[0;34m\u001b[0m\u001b[0;34m\u001b[0m\u001b[0m\n\u001b[1;32m     68\u001b[0m \u001b[0;34m\u001b[0m\u001b[0m\n",
      "\u001b[0;31mAttributeError\u001b[0m: 'NoneType' object has no attribute 'vcount'"
     ]
    }
   ],
   "source": [
    "infosys_specs.update({'graph_gml': net_fpath, 'mode':mode})\n",
    "\n",
    "ts = utils.get_now()\n",
    "timestep_fname = os.path.join(ABS_PATH, 'timestep_%s.pkl' %ts)\n",
    "\n",
    "print(\"Create InfoSystem instance..\")\n",
    "print(\"Time step saved at %s\" %ts)\n",
    "follower_sys = InfoSystem(**infosys_specs)\n",
    "print(\"Start simulation (mode: %s)..\" %mode)\n",
    "avg_quality, diversity, tau_tuple, quality_timestep= follower_sys.simulation()\n",
    "\n",
    "pkl.dump(quality_timestep, open(timestep_fname, 'wb'))\n",
    "\n",
    "print(\"average quality: %s - diversity: %s - tau: %s (p=%s)\" %(avg_quality, diversity, tau_tuple[0], tau_tuple[1]))"
   ]
  },
  {
   "cell_type": "code",
   "execution_count": null,
   "metadata": {},
   "outputs": [],
   "source": [
    "\n",
    "print('--- NO HUB')\n",
    "bao_simulation(nohub, default_infosys, mode='igraph')\n",
    "\n",
    "print('--- HUB')\n",
    "bao_simulation(hub, default_infosys, mode='igraph')"
   ]
  }
 ],
 "metadata": {
  "kernelspec": {
   "display_name": "Python 3 (ipykernel)",
   "language": "python",
   "name": "python3"
  },
  "language_info": {
   "codemirror_mode": {
    "name": "ipython",
    "version": 3
   },
   "file_extension": ".py",
   "mimetype": "text/x-python",
   "name": "python",
   "nbconvert_exporter": "python",
   "pygments_lexer": "ipython3",
   "version": "3.9.12"
  }
 },
 "nbformat": 4,
 "nbformat_minor": 4
}
