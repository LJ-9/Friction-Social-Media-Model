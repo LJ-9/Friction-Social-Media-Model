{
 "cells": [
  {
   "cell_type": "code",
   "execution_count": 1,
   "id": "round-registration",
   "metadata": {
    "ExecuteTime": {
     "end_time": "2022-03-21T19:58:55.478218Z",
     "start_time": "2022-03-21T19:58:55.252840Z"
    }
   },
   "outputs": [],
   "source": [
    "import igraph"
   ]
  },
  {
   "cell_type": "code",
   "execution_count": 10,
   "id": "acute-hacker",
   "metadata": {
    "ExecuteTime": {
     "end_time": "2022-03-28T16:06:58.083547Z",
     "start_time": "2022-03-28T16:06:58.079516Z"
    }
   },
   "outputs": [],
   "source": [
    "default_infosys = {\n",
    "    'trackmeme': True,\n",
    "    'verbose': False,\n",
    "    'epsilon': 0.001,\n",
    "    'mu': 0.5,\n",
    "    'phi': 1,\n",
    "    'alpha': 15,\n",
    "    'theta': 1\n",
    "}"
   ]
  },
  {
   "cell_type": "code",
   "execution_count": null,
   "id": "clean-spiritual",
   "metadata": {},
   "outputs": [],
   "source": [
    "import numpy as np\n",
    "\n",
    "b = np.logspace(1,5, num=9,)"
   ]
  },
  {
   "cell_type": "code",
   "execution_count": 16,
   "id": "handmade-virus",
   "metadata": {
    "ExecuteTime": {
     "end_time": "2022-03-28T21:58:05.432670Z",
     "start_time": "2022-03-28T21:58:05.401391Z"
    }
   },
   "outputs": [
    {
     "data": {
      "text/plain": [
       "[2, 2, 3]"
      ]
     },
     "execution_count": 16,
     "metadata": {},
     "output_type": "execute_result"
    }
   ],
   "source": [
    "a = [1,2,3]\n",
    "a[0]+=1\n",
    "a"
   ]
  },
  {
   "cell_type": "code",
   "execution_count": 18,
   "id": "established-party",
   "metadata": {
    "ExecuteTime": {
     "end_time": "2022-03-28T22:13:33.796552Z",
     "start_time": "2022-03-28T22:13:33.780664Z"
    }
   },
   "outputs": [
    {
     "ename": "NameError",
     "evalue": "name 'np' is not defined",
     "output_type": "error",
     "traceback": [
      "\u001b[0;31m---------------------------------------------------------------------------\u001b[0m",
      "\u001b[0;31mNameError\u001b[0m                                 Traceback (most recent call last)",
      "\u001b[0;32m<ipython-input-18-8d0a1be1152d>\u001b[0m in \u001b[0;36m<module>\u001b[0;34m\u001b[0m\n\u001b[0;32m----> 1\u001b[0;31m \u001b[0mnp\u001b[0m\u001b[0;34m.\u001b[0m\u001b[0mstd\u001b[0m\u001b[0;34m(\u001b[0m\u001b[0ma\u001b[0m\u001b[0;34m)\u001b[0m\u001b[0;34m\u001b[0m\u001b[0;34m\u001b[0m\u001b[0m\n\u001b[0m",
      "\u001b[0;31mNameError\u001b[0m: name 'np' is not defined"
     ]
    }
   ],
   "source": [
    "np.std(a)"
   ]
  },
  {
   "cell_type": "code",
   "execution_count": 22,
   "id": "theoretical-attention",
   "metadata": {
    "ExecuteTime": {
     "end_time": "2022-03-28T22:34:40.252534Z",
     "start_time": "2022-03-28T22:34:40.247535Z"
    }
   },
   "outputs": [],
   "source": [
    "a = [('b','c'), ('d','f')]\n",
    "hi,ba = zip(*a)"
   ]
  },
  {
   "cell_type": "code",
   "execution_count": 28,
   "id": "curious-shore",
   "metadata": {
    "ExecuteTime": {
     "end_time": "2022-03-28T22:35:50.393124Z",
     "start_time": "2022-03-28T22:35:50.384926Z"
    }
   },
   "outputs": [
    {
     "data": {
      "text/plain": [
       "('07', 'gamma0.05')"
      ]
     },
     "execution_count": 28,
     "metadata": {},
     "output_type": "execute_result"
    }
   ],
   "source": [
    "tuple(\"07_gamma0.05\".split('_'))"
   ]
  },
  {
   "cell_type": "code",
   "execution_count": 23,
   "id": "coated-fence",
   "metadata": {
    "ExecuteTime": {
     "end_time": "2022-03-28T22:34:41.637385Z",
     "start_time": "2022-03-28T22:34:41.622276Z"
    }
   },
   "outputs": [
    {
     "data": {
      "text/plain": [
       "('b', 'd')"
      ]
     },
     "execution_count": 23,
     "metadata": {},
     "output_type": "execute_result"
    }
   ],
   "source": [
    "hi"
   ]
  },
  {
   "cell_type": "code",
   "execution_count": 19,
   "id": "strategic-collins",
   "metadata": {
    "ExecuteTime": {
     "end_time": "2022-03-28T22:13:43.780457Z",
     "start_time": "2022-03-28T22:13:43.001325Z"
    }
   },
   "outputs": [
    {
     "data": {
      "text/plain": [
       "0.816496580927726"
      ]
     },
     "execution_count": 19,
     "metadata": {},
     "output_type": "execute_result"
    }
   ],
   "source": [
    "import numpy as np \n",
    "\n",
    "a = np.array([1,2,3])\n",
    "np.std(a)"
   ]
  },
  {
   "cell_type": "code",
   "execution_count": null,
   "id": "authentic-breathing",
   "metadata": {},
   "outputs": [],
   "source": [
    "list(range(10)) + "
   ]
  },
  {
   "cell_type": "code",
   "execution_count": 11,
   "id": "floppy-xerox",
   "metadata": {
    "ExecuteTime": {
     "end_time": "2022-03-28T16:06:58.392046Z",
     "start_time": "2022-03-28T16:06:58.387459Z"
    }
   },
   "outputs": [],
   "source": [
    "default_net = {'verbose':True,'targeting_criterion':None}"
   ]
  },
  {
   "cell_type": "code",
   "execution_count": 12,
   "id": "contained-independence",
   "metadata": {
    "ExecuteTime": {
     "end_time": "2022-03-28T16:06:59.066883Z",
     "start_time": "2022-03-28T16:06:59.057685Z"
    }
   },
   "outputs": [],
   "source": [
    "for k,v in default_net.items():\n",
    "    if k not in default_infosys.keys():\n",
    "        default_infosys.update({k:v} )"
   ]
  },
  {
   "cell_type": "code",
   "execution_count": 13,
   "id": "domestic-escape",
   "metadata": {
    "ExecuteTime": {
     "end_time": "2022-03-28T16:06:59.427933Z",
     "start_time": "2022-03-28T16:06:59.412340Z"
    }
   },
   "outputs": [
    {
     "data": {
      "text/plain": [
       "{'trackmeme': True,\n",
       " 'verbose': False,\n",
       " 'epsilon': 0.001,\n",
       " 'mu': 0.5,\n",
       " 'phi': 1,\n",
       " 'alpha': 15,\n",
       " 'theta': 1,\n",
       " 'targeting_criterion': None}"
      ]
     },
     "execution_count": 13,
     "metadata": {},
     "output_type": "execute_result"
    }
   ],
   "source": [
    "default_infosys"
   ]
  },
  {
   "cell_type": "code",
   "execution_count": 3,
   "id": "annoying-vegetation",
   "metadata": {
    "ExecuteTime": {
     "end_time": "2022-03-21T19:59:11.529668Z",
     "start_time": "2022-03-21T19:59:11.106738Z"
    }
   },
   "outputs": [],
   "source": [
    "a = igraph.Graph.Full(4,directed=True)"
   ]
  },
  {
   "cell_type": "code",
   "execution_count": 5,
   "id": "patient-practitioner",
   "metadata": {
    "ExecuteTime": {
     "end_time": "2022-03-21T19:59:34.842517Z",
     "start_time": "2022-03-21T19:59:34.828219Z"
    }
   },
   "outputs": [
    {
     "name": "stdout",
     "output_type": "stream",
     "text": [
      "igraph.Vertex(<igraph.Graph object at 0x7ff9e60c2050>, 0, {})\n",
      "igraph.Vertex(<igraph.Graph object at 0x7ff9e60c2050>, 1, {})\n",
      "igraph.Vertex(<igraph.Graph object at 0x7ff9e60c2050>, 2, {})\n",
      "igraph.Vertex(<igraph.Graph object at 0x7ff9e60c2050>, 3, {})\n"
     ]
    }
   ],
   "source": [
    "for i in a.vs:\n",
    "    print(i)"
   ]
  },
  {
   "cell_type": "code",
   "execution_count": 15,
   "id": "aquatic-slovenia",
   "metadata": {
    "ExecuteTime": {
     "end_time": "2022-03-21T20:02:09.579011Z",
     "start_time": "2022-03-21T20:02:09.572976Z"
    }
   },
   "outputs": [
    {
     "name": "stdout",
     "output_type": "stream",
     "text": [
      "[[0, 2, 0, 0, 0, 0, 0, 1, 0, 0]\n",
      " [0, 2, 1, 0, 0, 0, 0, 0, 0, 0]\n",
      " [0, 3, 4, 0, 0, 0, 0, 0, 0, 0]\n",
      " [0, 1, 2, 1, 0, 0, 0, 0, 1, 0]\n",
      " [0, 0, 0, 3, 1, 0, 1, 0, 0, 0]\n",
      " [0, 1, 0, 1, 0, 0, 0, 0, 0, 0]\n",
      " [0, 0, 1, 0, 0, 0, 0, 0, 0, 0]\n",
      " [0, 0, 0, 0, 0, 0, 0, 0, 0, 0]\n",
      " [0, 0, 0, 0, 0, 0, 0, 0, 0, 0]\n",
      " [0, 0, 1, 0, 0, 0, 0, 0, 0, 0]]\n"
     ]
    }
   ],
   "source": [
    "print(G.get_adjacency())"
   ]
  },
  {
   "cell_type": "code",
   "execution_count": 9,
   "id": "concerned-grove",
   "metadata": {
    "ExecuteTime": {
     "end_time": "2022-03-21T20:00:11.482165Z",
     "start_time": "2022-03-21T20:00:11.462813Z"
    }
   },
   "outputs": [
    {
     "data": {
      "text/plain": [
       "3"
      ]
     },
     "execution_count": 9,
     "metadata": {},
     "output_type": "execute_result"
    }
   ],
   "source": [
    "a.degree(1,mode='in')"
   ]
  },
  {
   "cell_type": "code",
   "execution_count": 12,
   "id": "spatial-hardwood",
   "metadata": {
    "ExecuteTime": {
     "end_time": "2022-03-21T20:01:27.818740Z",
     "start_time": "2022-03-21T20:01:27.810646Z"
    }
   },
   "outputs": [],
   "source": [
    "G = igraph.Graph.Growing_Random(10, 3, directed=True, citation=False)"
   ]
  },
  {
   "cell_type": "code",
   "execution_count": 13,
   "id": "intensive-secondary",
   "metadata": {
    "ExecuteTime": {
     "end_time": "2022-03-21T20:02:02.085862Z",
     "start_time": "2022-03-21T20:02:02.078960Z"
    }
   },
   "outputs": [],
   "source": [
    "in_deg = [G.degree(n, mode='in') for n in G.vs] #number of followers"
   ]
  },
  {
   "cell_type": "code",
   "execution_count": 14,
   "id": "fancy-amazon",
   "metadata": {
    "ExecuteTime": {
     "end_time": "2022-03-21T20:02:05.270432Z",
     "start_time": "2022-03-21T20:02:05.263114Z"
    }
   },
   "outputs": [
    {
     "data": {
      "text/plain": [
       "[0, 9, 9, 5, 1, 0, 1, 1, 1, 0]"
      ]
     },
     "execution_count": 14,
     "metadata": {},
     "output_type": "execute_result"
    }
   ],
   "source": [
    "in_deg"
   ]
  },
  {
   "cell_type": "code",
   "execution_count": 11,
   "id": "mobile-morris",
   "metadata": {
    "ExecuteTime": {
     "end_time": "2022-03-21T20:01:09.261889Z",
     "start_time": "2022-03-21T20:01:09.253781Z"
    }
   },
   "outputs": [
    {
     "data": {
      "text/plain": [
       "9"
      ]
     },
     "execution_count": 11,
     "metadata": {},
     "output_type": "execute_result"
    }
   ],
   "source": [
    "a.degree(1,mode='in')"
   ]
  },
  {
   "cell_type": "code",
   "execution_count": 14,
   "id": "objective-volleyball",
   "metadata": {
    "ExecuteTime": {
     "end_time": "2022-03-21T18:16:06.919035Z",
     "start_time": "2022-03-21T18:16:06.908603Z"
    }
   },
   "outputs": [],
   "source": [
    "a = {}\n",
    "a['n1'] = [3,4]"
   ]
  },
  {
   "cell_type": "code",
   "execution_count": 15,
   "id": "subsequent-sender",
   "metadata": {
    "ExecuteTime": {
     "end_time": "2022-03-21T18:16:07.081006Z",
     "start_time": "2022-03-21T18:16:07.077410Z"
    }
   },
   "outputs": [],
   "source": [
    "b = a['n1']"
   ]
  },
  {
   "cell_type": "code",
   "execution_count": 16,
   "id": "million-ethics",
   "metadata": {
    "ExecuteTime": {
     "end_time": "2022-03-21T18:16:07.259979Z",
     "start_time": "2022-03-21T18:16:07.246132Z"
    }
   },
   "outputs": [],
   "source": [
    "b[0:0] = [100] * 20"
   ]
  },
  {
   "cell_type": "code",
   "execution_count": 19,
   "id": "harmful-picnic",
   "metadata": {
    "ExecuteTime": {
     "end_time": "2022-03-21T18:19:02.279933Z",
     "start_time": "2022-03-21T18:19:02.263748Z"
    }
   },
   "outputs": [
    {
     "ename": "AssertionError",
     "evalue": "",
     "output_type": "error",
     "traceback": [
      "\u001b[0;31m---------------------------------------------------------------------------\u001b[0m",
      "\u001b[0;31mAssertionError\u001b[0m                            Traceback (most recent call last)",
      "\u001b[0;32m<ipython-input-19-730332727407>\u001b[0m in \u001b[0;36m<module>\u001b[0;34m\u001b[0m\n\u001b[0;32m----> 1\u001b[0;31m \u001b[0;32massert\u001b[0m \u001b[0;36m1\u001b[0m\u001b[0;34m==\u001b[0m\u001b[0;36m2\u001b[0m\u001b[0;34m\u001b[0m\u001b[0;34m\u001b[0m\u001b[0m\n\u001b[0m",
      "\u001b[0;31mAssertionError\u001b[0m: "
     ]
    }
   ],
   "source": [
    "assert 1==2"
   ]
  },
  {
   "cell_type": "code",
   "execution_count": 17,
   "id": "iraqi-pension",
   "metadata": {
    "ExecuteTime": {
     "end_time": "2022-03-21T18:16:07.784446Z",
     "start_time": "2022-03-21T18:16:07.774541Z"
    }
   },
   "outputs": [],
   "source": [
    "a['n1']\n",
    "feed = b\n",
    "if len(feed) > 15:a\n",
    "    a['n1'] = a['n1'][:15]"
   ]
  },
  {
   "cell_type": "code",
   "execution_count": 18,
   "id": "liable-southwest",
   "metadata": {
    "ExecuteTime": {
     "end_time": "2022-03-21T18:16:08.230058Z",
     "start_time": "2022-03-21T18:16:08.219227Z"
    }
   },
   "outputs": [
    {
     "data": {
      "text/plain": [
       "[100, 100, 100, 100, 100, 100, 100, 100, 100, 100, 100, 100, 100, 100, 100]"
      ]
     },
     "execution_count": 18,
     "metadata": {},
     "output_type": "execute_result"
    }
   ],
   "source": [
    "a['n1']"
   ]
  },
  {
   "cell_type": "code",
   "execution_count": 1,
   "id": "grand-cosmetic",
   "metadata": {
    "ExecuteTime": {
     "end_time": "2022-03-02T17:37:30.813849Z",
     "start_time": "2022-03-02T17:37:29.380064Z"
    }
   },
   "outputs": [],
   "source": [
    "import networkx as nx\n"
   ]
  },
  {
   "cell_type": "code",
   "execution_count": 66,
   "id": "overall-corrections",
   "metadata": {
    "ExecuteTime": {
     "end_time": "2022-03-02T22:50:47.475136Z",
     "start_time": "2022-03-02T22:50:47.436061Z"
    }
   },
   "outputs": [
    {
     "name": "stdout",
     "output_type": "stream",
     "text": [
      "Same: False\n"
     ]
    }
   ],
   "source": [
    "print('Same:', 1==2)"
   ]
  },
  {
   "cell_type": "code",
   "execution_count": 3,
   "id": "piano-finnish",
   "metadata": {
    "ExecuteTime": {
     "end_time": "2022-03-03T19:04:43.151785Z",
     "start_time": "2022-03-03T19:04:43.147749Z"
    }
   },
   "outputs": [],
   "source": [
    "a = [1,2,3]\n",
    "a[0:0] = [100]*1"
   ]
  },
  {
   "cell_type": "code",
   "execution_count": 4,
   "id": "confidential-israeli",
   "metadata": {
    "ExecuteTime": {
     "end_time": "2022-03-03T19:04:43.488475Z",
     "start_time": "2022-03-03T19:04:43.470073Z"
    }
   },
   "outputs": [
    {
     "data": {
      "text/plain": [
       "[100, 1, 2, 3]"
      ]
     },
     "execution_count": 4,
     "metadata": {},
     "output_type": "execute_result"
    }
   ],
   "source": [
    "a"
   ]
  },
  {
   "cell_type": "code",
   "execution_count": 61,
   "id": "attempted-silence",
   "metadata": {
    "ExecuteTime": {
     "end_time": "2022-03-02T22:43:16.748737Z",
     "start_time": "2022-03-02T22:43:16.744029Z"
    }
   },
   "outputs": [],
   "source": [
    "b = a[:2]"
   ]
  },
  {
   "cell_type": "code",
   "execution_count": 63,
   "id": "deadly-google",
   "metadata": {
    "ExecuteTime": {
     "end_time": "2022-03-02T22:43:24.650342Z",
     "start_time": "2022-03-02T22:43:24.625454Z"
    }
   },
   "outputs": [
    {
     "data": {
      "text/plain": [
       "[100, 100, 100, 100, 1, 2, 3]"
      ]
     },
     "execution_count": 63,
     "metadata": {},
     "output_type": "execute_result"
    }
   ],
   "source": [
    "a"
   ]
  },
  {
   "cell_type": "code",
   "execution_count": 64,
   "id": "second-underground",
   "metadata": {
    "ExecuteTime": {
     "end_time": "2022-03-02T22:45:45.896698Z",
     "start_time": "2022-03-02T22:45:45.892013Z"
    }
   },
   "outputs": [],
   "source": [
    "weights = [0.3,0.1,0.1,0.1,0.1,0.5,0.7]"
   ]
  },
  {
   "cell_type": "code",
   "execution_count": 67,
   "id": "mighty-leader",
   "metadata": {
    "ExecuteTime": {
     "end_time": "2022-03-02T22:51:46.358447Z",
     "start_time": "2022-03-02T22:51:46.349754Z"
    }
   },
   "outputs": [
    {
     "data": {
      "text/plain": [
       "3"
      ]
     },
     "execution_count": 67,
     "metadata": {},
     "output_type": "execute_result"
    }
   ],
   "source": [
    "random.choices(a, weights=weights, k=1)[0]"
   ]
  },
  {
   "cell_type": "code",
   "execution_count": 62,
   "id": "touched-manner",
   "metadata": {
    "ExecuteTime": {
     "end_time": "2022-03-02T22:43:18.770459Z",
     "start_time": "2022-03-02T22:43:18.752590Z"
    }
   },
   "outputs": [
    {
     "data": {
      "text/plain": [
       "[100, 100]"
      ]
     },
     "execution_count": 62,
     "metadata": {},
     "output_type": "execute_result"
    }
   ],
   "source": [
    "b"
   ]
  },
  {
   "cell_type": "code",
   "execution_count": 41,
   "id": "written-shock",
   "metadata": {
    "ExecuteTime": {
     "end_time": "2022-03-02T19:02:00.653114Z",
     "start_time": "2022-03-02T19:02:00.637544Z"
    }
   },
   "outputs": [],
   "source": [
    "G = nx.DiGraph()\n",
    "G.add_nodes_from([2, 3])\n",
    "\n",
    "G.add_nodes_from(range(100, 110))\n",
    "\n",
    "C = nx.DiGraph()\n",
    "\n",
    "D = nx.path_graph(5)\n",
    "B = nx.path_graph(10)\n",
    "C.add_nodes_from(D)\n",
    "G.add_nodes_from(B)\n",
    "G.add_edges_from([(1, 2), (1, 3)])"
   ]
  },
  {
   "cell_type": "code",
   "execution_count": 53,
   "id": "aware-yesterday",
   "metadata": {
    "ExecuteTime": {
     "end_time": "2022-03-02T19:29:22.437242Z",
     "start_time": "2022-03-02T19:29:22.421720Z"
    }
   },
   "outputs": [
    {
     "data": {
      "text/plain": [
       "OutEdgeView([(1, 2), (1, 3)])"
      ]
     },
     "execution_count": 53,
     "metadata": {},
     "output_type": "execute_result"
    }
   ],
   "source": [
    "G.edges"
   ]
  },
  {
   "cell_type": "code",
   "execution_count": 56,
   "id": "extended-oklahoma",
   "metadata": {
    "ExecuteTime": {
     "end_time": "2022-03-02T19:46:38.032971Z",
     "start_time": "2022-03-02T19:46:38.016286Z"
    }
   },
   "outputs": [],
   "source": [
    "a = []\n",
    "for i in a:\n",
    "    print(i)"
   ]
  },
  {
   "cell_type": "code",
   "execution_count": 58,
   "id": "embedded-attack",
   "metadata": {
    "ExecuteTime": {
     "end_time": "2022-03-02T22:25:29.575202Z",
     "start_time": "2022-03-02T22:25:29.568072Z"
    }
   },
   "outputs": [
    {
     "data": {
      "text/plain": [
       "False"
      ]
     },
     "execution_count": 58,
     "metadata": {},
     "output_type": "execute_result"
    }
   ],
   "source": [
    "by_bot = 0\n",
    "by_bot is False"
   ]
  },
  {
   "cell_type": "code",
   "execution_count": 54,
   "id": "aware-section",
   "metadata": {
    "ExecuteTime": {
     "end_time": "2022-03-02T19:29:25.920713Z",
     "start_time": "2022-03-02T19:29:25.913122Z"
    }
   },
   "outputs": [],
   "source": [
    "names = [G.nodes[n]['ID'] for n in G.predecessors(2)]"
   ]
  },
  {
   "cell_type": "code",
   "execution_count": 55,
   "id": "rolled-fortune",
   "metadata": {
    "ExecuteTime": {
     "end_time": "2022-03-02T19:29:26.257500Z",
     "start_time": "2022-03-02T19:29:26.245074Z"
    }
   },
   "outputs": [
    {
     "data": {
      "text/plain": [
       "['1']"
      ]
     },
     "execution_count": 55,
     "metadata": {},
     "output_type": "execute_result"
    }
   ],
   "source": [
    "names"
   ]
  },
  {
   "cell_type": "code",
   "execution_count": 42,
   "id": "ecological-webmaster",
   "metadata": {
    "ExecuteTime": {
     "end_time": "2022-03-02T19:02:06.851155Z",
     "start_time": "2022-03-02T19:02:06.834795Z"
    }
   },
   "outputs": [
    {
     "data": {
      "text/plain": [
       "NodeView((0, 1, 2, 3, 4))"
      ]
     },
     "execution_count": 42,
     "metadata": {},
     "output_type": "execute_result"
    }
   ],
   "source": [
    "C.nodes"
   ]
  },
  {
   "cell_type": "code",
   "execution_count": 43,
   "id": "threaded-sympathy",
   "metadata": {
    "ExecuteTime": {
     "end_time": "2022-03-02T19:02:17.285154Z",
     "start_time": "2022-03-02T19:02:17.272171Z"
    }
   },
   "outputs": [],
   "source": [
    "nx.set_node_attributes(G, {node: str(node) for node in G.nodes}, name='ID')"
   ]
  },
  {
   "cell_type": "code",
   "execution_count": 44,
   "id": "steady-missile",
   "metadata": {
    "ExecuteTime": {
     "end_time": "2022-03-02T19:02:17.571343Z",
     "start_time": "2022-03-02T19:02:17.554546Z"
    }
   },
   "outputs": [],
   "source": [
    "nx.set_node_attributes(C, {node: str(node)+random.choice(alphas) for node in C.nodes}, name='ID')"
   ]
  },
  {
   "cell_type": "code",
   "execution_count": 47,
   "id": "arranged-medication",
   "metadata": {
    "ExecuteTime": {
     "end_time": "2022-03-02T19:02:49.415528Z",
     "start_time": "2022-03-02T19:02:49.411517Z"
    }
   },
   "outputs": [],
   "source": [
    "G_ = nx.disjoint_union(C, G)"
   ]
  },
  {
   "cell_type": "code",
   "execution_count": null,
   "id": "imposed-bubble",
   "metadata": {},
   "outputs": [],
   "source": [
    "G_.n"
   ]
  },
  {
   "cell_type": "code",
   "execution_count": null,
   "id": "strategic-study",
   "metadata": {},
   "outputs": [],
   "source": []
  },
  {
   "cell_type": "code",
   "execution_count": 49,
   "id": "civic-miami",
   "metadata": {
    "ExecuteTime": {
     "end_time": "2022-03-02T19:02:57.121651Z",
     "start_time": "2022-03-02T19:02:57.114130Z"
    }
   },
   "outputs": [
    {
     "name": "stdout",
     "output_type": "stream",
     "text": [
      "0z\n",
      "1g\n",
      "2f\n",
      "3a\n",
      "4l\n",
      "2\n",
      "3\n",
      "100\n",
      "101\n",
      "102\n",
      "103\n",
      "104\n",
      "105\n",
      "106\n",
      "107\n",
      "108\n",
      "109\n",
      "0\n",
      "1\n",
      "4\n",
      "5\n",
      "6\n",
      "7\n",
      "8\n",
      "9\n"
     ]
    }
   ],
   "source": [
    "for i in G_.nodes:\n",
    "    print(G_.nodes[i]['ID'])"
   ]
  },
  {
   "cell_type": "code",
   "execution_count": 35,
   "id": "stock-jersey",
   "metadata": {
    "ExecuteTime": {
     "end_time": "2022-03-02T18:06:06.089140Z",
     "start_time": "2022-03-02T18:06:06.080371Z"
    }
   },
   "outputs": [
    {
     "data": {
      "text/plain": [
       "NodeView((0, 1, 2, 3, 4, 5, 6, 7, 8, 9))"
      ]
     },
     "execution_count": 35,
     "metadata": {},
     "output_type": "execute_result"
    }
   ],
   "source": [
    "B.nodes"
   ]
  },
  {
   "cell_type": "code",
   "execution_count": 25,
   "id": "selected-cause",
   "metadata": {
    "ExecuteTime": {
     "end_time": "2022-03-02T18:04:55.535315Z",
     "start_time": "2022-03-02T18:04:55.527998Z"
    }
   },
   "outputs": [
    {
     "data": {
      "text/plain": [
       "<networkx.classes.digraph.DiGraph at 0x7ffafeabc390>"
      ]
     },
     "execution_count": 25,
     "metadata": {},
     "output_type": "execute_result"
    }
   ],
   "source": [
    "G"
   ]
  },
  {
   "cell_type": "code",
   "execution_count": 39,
   "id": "directed-accessory",
   "metadata": {
    "ExecuteTime": {
     "end_time": "2022-03-02T18:06:45.399925Z",
     "start_time": "2022-03-02T18:06:45.393406Z"
    }
   },
   "outputs": [
    {
     "data": {
      "text/plain": [
       "NodeView((0, 1, 2, 3, 4, 5, 6, 7, 8, 9, 10, 11, 12, 13, 14, 15, 16, 17, 18, 19, 20, 21, 22, 23, 24, 25, 26, 27, 28, 29))"
      ]
     },
     "execution_count": 39,
     "metadata": {},
     "output_type": "execute_result"
    }
   ],
   "source": [
    "G_.nodes"
   ]
  },
  {
   "cell_type": "code",
   "execution_count": 40,
   "id": "active-observation",
   "metadata": {
    "ExecuteTime": {
     "end_time": "2022-03-02T18:06:49.079047Z",
     "start_time": "2022-03-02T18:06:49.071849Z"
    }
   },
   "outputs": [
    {
     "data": {
      "text/plain": [
       "'7'"
      ]
     },
     "execution_count": 40,
     "metadata": {},
     "output_type": "execute_result"
    }
   ],
   "source": [
    "G_.nodes[27]['ID']"
   ]
  },
  {
   "cell_type": "code",
   "execution_count": 33,
   "id": "coordinate-consumption",
   "metadata": {
    "ExecuteTime": {
     "end_time": "2022-03-02T18:05:56.363075Z",
     "start_time": "2022-03-02T18:05:56.356775Z"
    }
   },
   "outputs": [
    {
     "data": {
      "text/plain": [
       "'1'"
      ]
     },
     "execution_count": 33,
     "metadata": {},
     "output_type": "execute_result"
    }
   ],
   "source": [
    "G.nodes[1]['ID']"
   ]
  },
  {
   "cell_type": "code",
   "execution_count": 7,
   "id": "infectious-fossil",
   "metadata": {
    "ExecuteTime": {
     "end_time": "2022-03-02T17:45:13.790640Z",
     "start_time": "2022-03-02T17:45:13.783205Z"
    }
   },
   "outputs": [],
   "source": [
    "import string \n",
    "import random\n",
    "\n",
    "alphas = list(string.ascii_lowercase)"
   ]
  },
  {
   "cell_type": "code",
   "execution_count": null,
   "id": "indian-feeling",
   "metadata": {},
   "outputs": [],
   "source": [
    "G = nx.DiGraph()\n",
    "G.add_nodes_from([15, 20])"
   ]
  },
  {
   "cell_type": "code",
   "execution_count": null,
   "id": "neural-seven",
   "metadata": {},
   "outputs": [],
   "source": [
    "G = nx.DiGraph()\n",
    "G.add_nodes_from([2, 3])"
   ]
  },
  {
   "cell_type": "code",
   "execution_count": 14,
   "id": "defined-inflation",
   "metadata": {
    "ExecuteTime": {
     "end_time": "2022-03-02T17:59:35.850563Z",
     "start_time": "2022-03-02T17:59:35.838935Z"
    }
   },
   "outputs": [
    {
     "data": {
      "text/plain": [
       "NodeView((2, 3, 100, 101, 102, 103, 104, 105, 106, 107, 108, 109, 0, 1, 4, 5, 6, 7, 8, 9))"
      ]
     },
     "execution_count": 14,
     "metadata": {},
     "output_type": "execute_result"
    }
   ],
   "source": [
    "G.nodes"
   ]
  },
  {
   "cell_type": "code",
   "execution_count": 20,
   "id": "artificial-margin",
   "metadata": {
    "ExecuteTime": {
     "end_time": "2022-03-02T18:01:50.247249Z",
     "start_time": "2022-03-02T18:01:50.239151Z"
    }
   },
   "outputs": [
    {
     "data": {
      "text/plain": [
       "'2'"
      ]
     },
     "execution_count": 20,
     "metadata": {},
     "output_type": "execute_result"
    }
   ],
   "source": [
    "G.nodes[2]['ID']"
   ]
  },
  {
   "cell_type": "code",
   "execution_count": 15,
   "id": "french-fifteen",
   "metadata": {
    "ExecuteTime": {
     "end_time": "2022-03-02T17:59:42.295227Z",
     "start_time": "2022-03-02T17:59:42.288562Z"
    }
   },
   "outputs": [],
   "source": [
    "nx.set_node_attributes(G, {node: str(node) for node in G.nodes}, name='ID')"
   ]
  },
  {
   "cell_type": "code",
   "execution_count": 24,
   "id": "defined-provision",
   "metadata": {
    "ExecuteTime": {
     "end_time": "2022-03-02T18:04:21.325440Z",
     "start_time": "2022-03-02T18:04:21.318783Z"
    }
   },
   "outputs": [
    {
     "data": {
      "text/plain": [
       "<networkx.classes.digraph.DiGraph at 0x7ffafeabc390>"
      ]
     },
     "execution_count": 24,
     "metadata": {},
     "output_type": "execute_result"
    }
   ],
   "source": []
  },
  {
   "cell_type": "code",
   "execution_count": null,
   "id": "martial-masters",
   "metadata": {},
   "outputs": [],
   "source": [
    "G.n"
   ]
  },
  {
   "cell_type": "code",
   "execution_count": 21,
   "id": "reported-brass",
   "metadata": {
    "ExecuteTime": {
     "end_time": "2022-03-02T18:01:55.224014Z",
     "start_time": "2022-03-02T18:01:55.219588Z"
    }
   },
   "outputs": [],
   "source": [
    "for i in G.nodes():\n",
    "    G.nodes[i]['name'] = str(i) + random.choice(alphas)"
   ]
  },
  {
   "cell_type": "code",
   "execution_count": 23,
   "id": "weekly-ownership",
   "metadata": {
    "ExecuteTime": {
     "end_time": "2022-03-02T18:02:13.419011Z",
     "start_time": "2022-03-02T18:02:13.410430Z"
    }
   },
   "outputs": [
    {
     "data": {
      "text/plain": [
       "'2n'"
      ]
     },
     "execution_count": 23,
     "metadata": {},
     "output_type": "execute_result"
    }
   ],
   "source": [
    "G.nodes[2]['name']"
   ]
  },
  {
   "cell_type": "code",
   "execution_count": 22,
   "id": "southeast-excess",
   "metadata": {
    "ExecuteTime": {
     "end_time": "2022-03-02T18:02:03.499908Z",
     "start_time": "2022-03-02T18:02:03.486432Z"
    }
   },
   "outputs": [
    {
     "data": {
      "text/plain": [
       "NodeView((2, 3, 100, 101, 102, 103, 104, 105, 106, 107, 108, 109, 0, 1, 4, 5, 6, 7, 8, 9))"
      ]
     },
     "execution_count": 22,
     "metadata": {},
     "output_type": "execute_result"
    }
   ],
   "source": [
    "G.nodes"
   ]
  },
  {
   "cell_type": "code",
   "execution_count": 5,
   "id": "future-martin",
   "metadata": {
    "ExecuteTime": {
     "end_time": "2022-03-02T17:43:33.937746Z",
     "start_time": "2022-03-02T17:43:33.916377Z"
    }
   },
   "outputs": [
    {
     "data": {
      "text/plain": [
       "NodeView((0, 1, 2, 3))"
      ]
     },
     "execution_count": 5,
     "metadata": {},
     "output_type": "execute_result"
    }
   ],
   "source": [
    "G.nodes"
   ]
  },
  {
   "cell_type": "code",
   "execution_count": null,
   "id": "downtown-atmosphere",
   "metadata": {},
   "outputs": [],
   "source": [
    "\n",
    "[e for e in G.edges]\n",
    "[(0, 1), (1, 2), (2, 3)]"
   ]
  },
  {
   "cell_type": "code",
   "execution_count": 4,
   "id": "pediatric-produce",
   "metadata": {
    "ExecuteTime": {
     "end_time": "2022-03-02T04:06:48.166601Z",
     "start_time": "2022-03-02T04:06:48.152372Z"
    }
   },
   "outputs": [
    {
     "data": {
      "text/plain": [
       "NodeView((0, 1, 2, 3))"
      ]
     },
     "execution_count": 4,
     "metadata": {},
     "output_type": "execute_result"
    }
   ],
   "source": [
    "G.nodes"
   ]
  },
  {
   "cell_type": "code",
   "execution_count": 11,
   "id": "original-cuisine",
   "metadata": {
    "ExecuteTime": {
     "end_time": "2022-03-02T04:16:04.133204Z",
     "start_time": "2022-03-02T04:16:04.123014Z"
    }
   },
   "outputs": [
    {
     "data": {
      "text/plain": [
       "[(1, 2), (1, 3)]"
      ]
     },
     "execution_count": 11,
     "metadata": {},
     "output_type": "execute_result"
    }
   ],
   "source": [
    "[e for e in G.edges]"
   ]
  },
  {
   "cell_type": "code",
   "execution_count": 14,
   "id": "short-philip",
   "metadata": {
    "ExecuteTime": {
     "end_time": "2022-03-02T04:16:25.032525Z",
     "start_time": "2022-03-02T04:16:25.028772Z"
    }
   },
   "outputs": [],
   "source": [
    "a = [n for n in G.predecessors(2)]"
   ]
  },
  {
   "cell_type": "code",
   "execution_count": 15,
   "id": "broad-qualification",
   "metadata": {
    "ExecuteTime": {
     "end_time": "2022-03-02T04:16:27.636954Z",
     "start_time": "2022-03-02T04:16:27.620719Z"
    }
   },
   "outputs": [
    {
     "data": {
      "text/plain": [
       "[1]"
      ]
     },
     "execution_count": 15,
     "metadata": {},
     "output_type": "execute_result"
    }
   ],
   "source": [
    "a"
   ]
  },
  {
   "cell_type": "code",
   "execution_count": null,
   "id": "initial-arizona",
   "metadata": {},
   "outputs": [],
   "source": [
    "agents = [n for n in G.nodes]\n",
    "bots = [n for n in G.nodes if G.nodes[n]['bot']==True]\n",
    "humans = [n for n in G.nodes if G.nodes[n]['bot']==False]"
   ]
  }
 ],
 "metadata": {
  "kernelspec": {
   "display_name": "Python 3",
   "language": "python",
   "name": "python3"
  },
  "language_info": {
   "codemirror_mode": {
    "name": "ipython",
    "version": 3
   },
   "file_extension": ".py",
   "mimetype": "text/x-python",
   "name": "python",
   "nbconvert_exporter": "python",
   "pygments_lexer": "ipython3",
   "version": "3.7.10"
  },
  "toc": {
   "base_numbering": 1,
   "nav_menu": {},
   "number_sections": true,
   "sideBar": true,
   "skip_h1_title": false,
   "title_cell": "Table of Contents",
   "title_sidebar": "Contents",
   "toc_cell": false,
   "toc_position": {},
   "toc_section_display": true,
   "toc_window_display": false
  }
 },
 "nbformat": 4,
 "nbformat_minor": 5
}
